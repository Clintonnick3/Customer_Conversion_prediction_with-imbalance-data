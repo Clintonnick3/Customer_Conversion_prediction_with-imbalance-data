{
 "cells": [
  {
   "cell_type": "code",
   "execution_count": 1,
   "id": "c986d91b",
   "metadata": {},
   "outputs": [
    {
     "name": "stdout",
     "output_type": "stream",
     "text": [
      "Defaulting to user installation because normal site-packages is not writeable\n",
      "Requirement already satisfied: xgboost in c:\\users\\admin\\appdata\\roaming\\python\\python310\\site-packages (1.7.6)\n",
      "Requirement already satisfied: scipy in c:\\programdata\\anaconda3\\lib\\site-packages (from xgboost) (1.10.0)\n",
      "Requirement already satisfied: numpy in c:\\programdata\\anaconda3\\lib\\site-packages (from xgboost) (1.23.5)\n"
     ]
    },
    {
     "name": "stderr",
     "output_type": "stream",
     "text": [
      "WARNING: Ignoring invalid distribution -ymongo (c:\\users\\admin\\appdata\\roaming\\python\\python310\\site-packages)\n",
      "WARNING: Ignoring invalid distribution -ymongo (c:\\users\\admin\\appdata\\roaming\\python\\python310\\site-packages)\n",
      "WARNING: Ignoring invalid distribution -ymongo (c:\\users\\admin\\appdata\\roaming\\python\\python310\\site-packages)\n",
      "WARNING: Ignoring invalid distribution -ymongo (c:\\users\\admin\\appdata\\roaming\\python\\python310\\site-packages)\n",
      "WARNING: Ignoring invalid distribution -ymongo (c:\\users\\admin\\appdata\\roaming\\python\\python310\\site-packages)\n",
      "WARNING: Ignoring invalid distribution -ymongo (c:\\users\\admin\\appdata\\roaming\\python\\python310\\site-packages)\n"
     ]
    }
   ],
   "source": [
    "# Installing package\n",
    "!pip install xgboost"
   ]
  },
  {
   "cell_type": "code",
   "execution_count": 2,
   "id": "932fe292",
   "metadata": {},
   "outputs": [],
   "source": [
    "# Importing Necessary Modules\n",
    "import pandas as pd\n",
    "import numpy as np\n",
    "\n",
    "from sklearn.model_selection import train_test_split\n",
    "from sklearn import metrics\n",
    "from sklearn.linear_model import LogisticRegression\n",
    "from sklearn.preprocessing import StandardScaler\n",
    "from sklearn.metrics import roc_auc_score, f1_score, accuracy_score\n",
    "from sklearn.tree import DecisionTreeClassifier\n",
    "from sklearn.model_selection import cross_val_score\n",
    "from sklearn.neighbors import KNeighborsClassifier\n",
    "from sklearn.ensemble import RandomForestClassifier\n",
    "from sklearn.metrics import classification_report\n",
    "\n",
    "from scipy.stats import zscore\n",
    "\n",
    "import seaborn as sns\n",
    "import matplotlib.pyplot as plt\n",
    "\n",
    "import imblearn\n",
    "from imblearn.combine import SMOTEENN\n",
    "from imblearn.under_sampling import RandomUnderSampler\n",
    "from imblearn.over_sampling import RandomOverSampler\n",
    "\n",
    "import xgboost as xgb\n",
    "from xgboost import XGBClassifier\n",
    "\n",
    "import warnings\n",
    "warnings.filterwarnings(\"ignore\")"
   ]
  },
  {
   "cell_type": "markdown",
   "id": "8111a73b",
   "metadata": {},
   "source": [
    "# Importing the dataset"
   ]
  },
  {
   "cell_type": "code",
   "execution_count": 3,
   "id": "f3a06608",
   "metadata": {},
   "outputs": [],
   "source": [
    "# Reading the data \n",
    "data = pd.read_csv('train.csv')"
   ]
  },
  {
   "cell_type": "code",
   "execution_count": 4,
   "id": "6e4fb294",
   "metadata": {},
   "outputs": [
    {
     "data": {
      "text/html": [
       "<div>\n",
       "<style scoped>\n",
       "    .dataframe tbody tr th:only-of-type {\n",
       "        vertical-align: middle;\n",
       "    }\n",
       "\n",
       "    .dataframe tbody tr th {\n",
       "        vertical-align: top;\n",
       "    }\n",
       "\n",
       "    .dataframe thead th {\n",
       "        text-align: right;\n",
       "    }\n",
       "</style>\n",
       "<table border=\"1\" class=\"dataframe\">\n",
       "  <thead>\n",
       "    <tr style=\"text-align: right;\">\n",
       "      <th></th>\n",
       "      <th>age</th>\n",
       "      <th>job</th>\n",
       "      <th>marital</th>\n",
       "      <th>education_qual</th>\n",
       "      <th>call_type</th>\n",
       "      <th>day</th>\n",
       "      <th>mon</th>\n",
       "      <th>dur</th>\n",
       "      <th>num_calls</th>\n",
       "      <th>prev_outcome</th>\n",
       "      <th>y</th>\n",
       "    </tr>\n",
       "  </thead>\n",
       "  <tbody>\n",
       "    <tr>\n",
       "      <th>0</th>\n",
       "      <td>58</td>\n",
       "      <td>management</td>\n",
       "      <td>married</td>\n",
       "      <td>tertiary</td>\n",
       "      <td>unknown</td>\n",
       "      <td>5</td>\n",
       "      <td>may</td>\n",
       "      <td>261</td>\n",
       "      <td>1</td>\n",
       "      <td>unknown</td>\n",
       "      <td>no</td>\n",
       "    </tr>\n",
       "    <tr>\n",
       "      <th>1</th>\n",
       "      <td>44</td>\n",
       "      <td>technician</td>\n",
       "      <td>single</td>\n",
       "      <td>secondary</td>\n",
       "      <td>unknown</td>\n",
       "      <td>5</td>\n",
       "      <td>may</td>\n",
       "      <td>151</td>\n",
       "      <td>1</td>\n",
       "      <td>unknown</td>\n",
       "      <td>no</td>\n",
       "    </tr>\n",
       "    <tr>\n",
       "      <th>2</th>\n",
       "      <td>33</td>\n",
       "      <td>entrepreneur</td>\n",
       "      <td>married</td>\n",
       "      <td>secondary</td>\n",
       "      <td>unknown</td>\n",
       "      <td>5</td>\n",
       "      <td>may</td>\n",
       "      <td>76</td>\n",
       "      <td>1</td>\n",
       "      <td>unknown</td>\n",
       "      <td>no</td>\n",
       "    </tr>\n",
       "    <tr>\n",
       "      <th>3</th>\n",
       "      <td>47</td>\n",
       "      <td>blue-collar</td>\n",
       "      <td>married</td>\n",
       "      <td>unknown</td>\n",
       "      <td>unknown</td>\n",
       "      <td>5</td>\n",
       "      <td>may</td>\n",
       "      <td>92</td>\n",
       "      <td>1</td>\n",
       "      <td>unknown</td>\n",
       "      <td>no</td>\n",
       "    </tr>\n",
       "    <tr>\n",
       "      <th>4</th>\n",
       "      <td>33</td>\n",
       "      <td>unknown</td>\n",
       "      <td>single</td>\n",
       "      <td>unknown</td>\n",
       "      <td>unknown</td>\n",
       "      <td>5</td>\n",
       "      <td>may</td>\n",
       "      <td>198</td>\n",
       "      <td>1</td>\n",
       "      <td>unknown</td>\n",
       "      <td>no</td>\n",
       "    </tr>\n",
       "  </tbody>\n",
       "</table>\n",
       "</div>"
      ],
      "text/plain": [
       "   age           job  marital education_qual call_type  day  mon  dur  \\\n",
       "0   58    management  married       tertiary   unknown    5  may  261   \n",
       "1   44    technician   single      secondary   unknown    5  may  151   \n",
       "2   33  entrepreneur  married      secondary   unknown    5  may   76   \n",
       "3   47   blue-collar  married        unknown   unknown    5  may   92   \n",
       "4   33       unknown   single        unknown   unknown    5  may  198   \n",
       "\n",
       "   num_calls prev_outcome   y  \n",
       "0          1      unknown  no  \n",
       "1          1      unknown  no  \n",
       "2          1      unknown  no  \n",
       "3          1      unknown  no  \n",
       "4          1      unknown  no  "
      ]
     },
     "execution_count": 4,
     "metadata": {},
     "output_type": "execute_result"
    }
   ],
   "source": [
    "# Checking datas\n",
    "data.head()"
   ]
  },
  {
   "cell_type": "code",
   "execution_count": 6,
   "id": "a1d327c3",
   "metadata": {},
   "outputs": [
    {
     "data": {
      "text/plain": [
       "(45211, 11)"
      ]
     },
     "execution_count": 6,
     "metadata": {},
     "output_type": "execute_result"
    }
   ],
   "source": [
    "# Finding the total shape of the data\n",
    "data.shape"
   ]
  },
  {
   "cell_type": "code",
   "execution_count": 7,
   "id": "e7c0481e",
   "metadata": {},
   "outputs": [
    {
     "name": "stdout",
     "output_type": "stream",
     "text": [
      "<class 'pandas.core.frame.DataFrame'>\n",
      "RangeIndex: 45211 entries, 0 to 45210\n",
      "Data columns (total 11 columns):\n",
      " #   Column          Non-Null Count  Dtype \n",
      "---  ------          --------------  ----- \n",
      " 0   age             45211 non-null  int64 \n",
      " 1   job             45211 non-null  object\n",
      " 2   marital         45211 non-null  object\n",
      " 3   education_qual  45211 non-null  object\n",
      " 4   call_type       45211 non-null  object\n",
      " 5   day             45211 non-null  int64 \n",
      " 6   mon             45211 non-null  object\n",
      " 7   dur             45211 non-null  int64 \n",
      " 8   num_calls       45211 non-null  int64 \n",
      " 9   prev_outcome    45211 non-null  object\n",
      " 10  y               45211 non-null  object\n",
      "dtypes: int64(4), object(7)\n",
      "memory usage: 3.8+ MB\n"
     ]
    }
   ],
   "source": [
    "data.info()"
   ]
  },
  {
   "cell_type": "code",
   "execution_count": 8,
   "id": "52bcc24c",
   "metadata": {},
   "outputs": [
    {
     "data": {
      "text/plain": [
       "Index(['age', 'job', 'marital', 'education_qual', 'call_type', 'day', 'mon',\n",
       "       'dur', 'num_calls', 'prev_outcome', 'y'],\n",
       "      dtype='object')"
      ]
     },
     "execution_count": 8,
     "metadata": {},
     "output_type": "execute_result"
    }
   ],
   "source": [
    "# Checking the columns present in the data\n",
    "data.columns"
   ]
  },
  {
   "cell_type": "markdown",
   "id": "f8b6088c",
   "metadata": {},
   "source": [
    "# Unique values of each column"
   ]
  },
  {
   "cell_type": "code",
   "execution_count": 9,
   "id": "8bc915fb",
   "metadata": {},
   "outputs": [
    {
     "name": "stdout",
     "output_type": "stream",
     "text": [
      "age\n",
      "[58 44 33 47 35 28 42 43 41 29 53 57 51 45 60 56 32 25 40 39 52 46 36 49\n",
      " 59 37 50 54 55 48 24 38 31 30 27 34 23 26 61 22 21 20 66 62 83 75 67 70\n",
      " 65 68 64 69 72 71 19 76 85 63 90 82 73 74 78 80 94 79 77 86 95 81 18 89\n",
      " 84 87 92 93 88]\n",
      "job\n",
      "['management' 'technician' 'entrepreneur' 'blue-collar' 'unknown'\n",
      " 'retired' 'admin.' 'services' 'self-employed' 'unemployed' 'housemaid'\n",
      " 'student']\n",
      "marital\n",
      "['married' 'single' 'divorced']\n",
      "education_qual\n",
      "['tertiary' 'secondary' 'unknown' 'primary']\n",
      "call_type\n",
      "['unknown' 'cellular' 'telephone']\n",
      "day\n",
      "[ 5  6  7  8  9 12 13 14 15 16 19 20 21 23 26 27 28 29 30  2  3  4 11 17\n",
      " 18 24 25  1 10 22 31]\n",
      "mon\n",
      "['may' 'jun' 'jul' 'aug' 'oct' 'nov' 'dec' 'jan' 'feb' 'mar' 'apr' 'sep']\n",
      "dur\n",
      "[ 261  151   76 ... 1298 1246 1556]\n",
      "num_calls\n",
      "[ 1  2  3  5  4  6  7  8  9 10 11 12 13 19 14 24 16 32 18 22 15 17 25 21\n",
      " 43 51 63 41 26 28 55 50 38 23 20 29 31 37 30 46 27 58 33 35 34 36 39 44]\n",
      "prev_outcome\n",
      "['unknown' 'failure' 'other' 'success']\n",
      "y\n",
      "['no' 'yes']\n"
     ]
    }
   ],
   "source": [
    "for i in data.columns:\n",
    "    print(i)\n",
    "    print(data[i].unique())"
   ]
  },
  {
   "cell_type": "code",
   "execution_count": 10,
   "id": "9b31579c",
   "metadata": {},
   "outputs": [
    {
     "data": {
      "text/plain": [
       "Index(['age', 'day', 'dur', 'num_calls'], dtype='object')"
      ]
     },
     "execution_count": 10,
     "metadata": {},
     "output_type": "execute_result"
    }
   ],
   "source": [
    "# Identifing integer columns\n",
    "number = data.select_dtypes(include=[np.number])\n",
    "number.columns"
   ]
  },
  {
   "cell_type": "code",
   "execution_count": 11,
   "id": "b881aca4",
   "metadata": {},
   "outputs": [
    {
     "data": {
      "text/plain": [
       "Index(['job', 'marital', 'education_qual', 'call_type', 'mon', 'prev_outcome',\n",
       "       'y'],\n",
       "      dtype='object')"
      ]
     },
     "execution_count": 11,
     "metadata": {},
     "output_type": "execute_result"
    }
   ],
   "source": [
    "# Identifing category columns\n",
    "string = data.select_dtypes(include=['object']).columns\n",
    "string"
   ]
  },
  {
   "cell_type": "code",
   "execution_count": 12,
   "id": "5e7ed930",
   "metadata": {},
   "outputs": [
    {
     "data": {
      "text/plain": [
       "age                int64\n",
       "job               object\n",
       "marital           object\n",
       "education_qual    object\n",
       "call_type         object\n",
       "day                int64\n",
       "mon               object\n",
       "dur                int64\n",
       "num_calls          int64\n",
       "prev_outcome      object\n",
       "y                 object\n",
       "dtype: object"
      ]
     },
     "execution_count": 12,
     "metadata": {},
     "output_type": "execute_result"
    }
   ],
   "source": [
    "# Checking for correct datatypes\n",
    "data.dtypes"
   ]
  },
  {
   "cell_type": "code",
   "execution_count": 13,
   "id": "fd9c2d82",
   "metadata": {},
   "outputs": [
    {
     "data": {
      "text/plain": [
       "blue-collar      9732\n",
       "management       9458\n",
       "technician       7597\n",
       "admin.           5171\n",
       "services         4154\n",
       "retired          2264\n",
       "self-employed    1579\n",
       "entrepreneur     1487\n",
       "unemployed       1303\n",
       "housemaid        1240\n",
       "student           938\n",
       "unknown           288\n",
       "Name: job, dtype: int64"
      ]
     },
     "execution_count": 13,
     "metadata": {},
     "output_type": "execute_result"
    }
   ],
   "source": [
    "# checking the unknown priority\n",
    "data.job.value_counts()"
   ]
  },
  {
   "cell_type": "code",
   "execution_count": 14,
   "id": "77983681",
   "metadata": {},
   "outputs": [],
   "source": [
    "# Replacing the unknown values\n",
    "data.job = data.job.str.replace(\"unknown\",\"blue-collar\")"
   ]
  },
  {
   "cell_type": "code",
   "execution_count": 15,
   "id": "653bf89c",
   "metadata": {},
   "outputs": [
    {
     "data": {
      "text/plain": [
       "blue-collar      10020\n",
       "management        9458\n",
       "technician        7597\n",
       "admin.            5171\n",
       "services          4154\n",
       "retired           2264\n",
       "self-employed     1579\n",
       "entrepreneur      1487\n",
       "unemployed        1303\n",
       "housemaid         1240\n",
       "student            938\n",
       "Name: job, dtype: int64"
      ]
     },
     "execution_count": 15,
     "metadata": {},
     "output_type": "execute_result"
    }
   ],
   "source": [
    "# Checking the unknown has been replaced or not\n",
    "data.job.value_counts()"
   ]
  },
  {
   "cell_type": "code",
   "execution_count": 16,
   "id": "79b0413a",
   "metadata": {},
   "outputs": [
    {
     "data": {
      "text/plain": [
       "secondary    23202\n",
       "tertiary     13301\n",
       "primary       6851\n",
       "unknown       1857\n",
       "Name: education_qual, dtype: int64"
      ]
     },
     "execution_count": 16,
     "metadata": {},
     "output_type": "execute_result"
    }
   ],
   "source": [
    "# Checking for unknown priority\n",
    "data.education_qual.value_counts()"
   ]
  },
  {
   "cell_type": "code",
   "execution_count": 17,
   "id": "105a2187",
   "metadata": {},
   "outputs": [],
   "source": [
    "# Replacing the unknown values\n",
    "data.education_qual = data.education_qual.str.replace(\"unknown\",\"secondary\")"
   ]
  },
  {
   "cell_type": "code",
   "execution_count": 18,
   "id": "00df1654",
   "metadata": {},
   "outputs": [
    {
     "data": {
      "text/plain": [
       "secondary    25059\n",
       "tertiary     13301\n",
       "primary       6851\n",
       "Name: education_qual, dtype: int64"
      ]
     },
     "execution_count": 18,
     "metadata": {},
     "output_type": "execute_result"
    }
   ],
   "source": [
    "# Checking for the unknown value replaced or not\n",
    "data.education_qual.value_counts()"
   ]
  },
  {
   "cell_type": "code",
   "execution_count": 19,
   "id": "63861fc7",
   "metadata": {},
   "outputs": [
    {
     "data": {
      "text/plain": [
       "cellular     29285\n",
       "unknown      13020\n",
       "telephone     2906\n",
       "Name: call_type, dtype: int64"
      ]
     },
     "execution_count": 19,
     "metadata": {},
     "output_type": "execute_result"
    }
   ],
   "source": [
    "# Unknown value is large so it is defined as a category\n",
    "data.call_type.value_counts()"
   ]
  },
  {
   "cell_type": "code",
   "execution_count": 20,
   "id": "3f915b42",
   "metadata": {},
   "outputs": [
    {
     "data": {
      "text/plain": [
       "unknown    36959\n",
       "failure     4901\n",
       "other       1840\n",
       "success     1511\n",
       "Name: prev_outcome, dtype: int64"
      ]
     },
     "execution_count": 20,
     "metadata": {},
     "output_type": "execute_result"
    }
   ],
   "source": [
    "# Unknown value is large so it is defined as a category\n",
    "data.prev_outcome.value_counts()"
   ]
  },
  {
   "cell_type": "markdown",
   "id": "ae0fe211",
   "metadata": {},
   "source": [
    "# Converting the target value from 'str' to 'int'"
   ]
  },
  {
   "cell_type": "code",
   "execution_count": 21,
   "id": "6a022794",
   "metadata": {},
   "outputs": [
    {
     "data": {
      "text/plain": [
       "no     39922\n",
       "yes     5289\n",
       "Name: y, dtype: int64"
      ]
     },
     "execution_count": 21,
     "metadata": {},
     "output_type": "execute_result"
    }
   ],
   "source": [
    "# Count of values in Target variable column\n",
    "data['y'].value_counts()"
   ]
  },
  {
   "cell_type": "code",
   "execution_count": 22,
   "id": "394b4408",
   "metadata": {},
   "outputs": [
    {
     "name": "stdout",
     "output_type": "stream",
     "text": [
      "45211\n",
      "88.30151954170445\n",
      "11.698480458295547\n"
     ]
    }
   ],
   "source": [
    "# Find the sum of y variable\n",
    "d = pd.Series({'no': 39922, 'yes': 5289})\n",
    "total = d.sum()\n",
    "\n",
    "print(total)\n",
    "\n",
    "# Finding the percentage for Target variable (No)\n",
    "no = ((39922)/(total))*100\n",
    "print(no)\n",
    "\n",
    "# Finding the percentage for Target variable (YES)\n",
    "yes = ((5289)/(total))*100\n",
    "print(yes)"
   ]
  },
  {
   "cell_type": "code",
   "execution_count": 23,
   "id": "f34949b0",
   "metadata": {},
   "outputs": [],
   "source": [
    "# Converting the values of 'y' to numerical values\n",
    "data['y'] = data['y'].map({'yes':1,'no':0})"
   ]
  },
  {
   "cell_type": "code",
   "execution_count": 24,
   "id": "442ee3e3",
   "metadata": {},
   "outputs": [
    {
     "data": {
      "text/html": [
       "<div>\n",
       "<style scoped>\n",
       "    .dataframe tbody tr th:only-of-type {\n",
       "        vertical-align: middle;\n",
       "    }\n",
       "\n",
       "    .dataframe tbody tr th {\n",
       "        vertical-align: top;\n",
       "    }\n",
       "\n",
       "    .dataframe thead th {\n",
       "        text-align: right;\n",
       "    }\n",
       "</style>\n",
       "<table border=\"1\" class=\"dataframe\">\n",
       "  <thead>\n",
       "    <tr style=\"text-align: right;\">\n",
       "      <th></th>\n",
       "      <th>age</th>\n",
       "      <th>job</th>\n",
       "      <th>marital</th>\n",
       "      <th>education_qual</th>\n",
       "      <th>call_type</th>\n",
       "      <th>day</th>\n",
       "      <th>mon</th>\n",
       "      <th>dur</th>\n",
       "      <th>num_calls</th>\n",
       "      <th>prev_outcome</th>\n",
       "      <th>y</th>\n",
       "    </tr>\n",
       "  </thead>\n",
       "  <tbody>\n",
       "    <tr>\n",
       "      <th>0</th>\n",
       "      <td>58</td>\n",
       "      <td>management</td>\n",
       "      <td>married</td>\n",
       "      <td>tertiary</td>\n",
       "      <td>unknown</td>\n",
       "      <td>5</td>\n",
       "      <td>may</td>\n",
       "      <td>261</td>\n",
       "      <td>1</td>\n",
       "      <td>unknown</td>\n",
       "      <td>0</td>\n",
       "    </tr>\n",
       "    <tr>\n",
       "      <th>1</th>\n",
       "      <td>44</td>\n",
       "      <td>technician</td>\n",
       "      <td>single</td>\n",
       "      <td>secondary</td>\n",
       "      <td>unknown</td>\n",
       "      <td>5</td>\n",
       "      <td>may</td>\n",
       "      <td>151</td>\n",
       "      <td>1</td>\n",
       "      <td>unknown</td>\n",
       "      <td>0</td>\n",
       "    </tr>\n",
       "    <tr>\n",
       "      <th>2</th>\n",
       "      <td>33</td>\n",
       "      <td>entrepreneur</td>\n",
       "      <td>married</td>\n",
       "      <td>secondary</td>\n",
       "      <td>unknown</td>\n",
       "      <td>5</td>\n",
       "      <td>may</td>\n",
       "      <td>76</td>\n",
       "      <td>1</td>\n",
       "      <td>unknown</td>\n",
       "      <td>0</td>\n",
       "    </tr>\n",
       "    <tr>\n",
       "      <th>3</th>\n",
       "      <td>47</td>\n",
       "      <td>blue-collar</td>\n",
       "      <td>married</td>\n",
       "      <td>secondary</td>\n",
       "      <td>unknown</td>\n",
       "      <td>5</td>\n",
       "      <td>may</td>\n",
       "      <td>92</td>\n",
       "      <td>1</td>\n",
       "      <td>unknown</td>\n",
       "      <td>0</td>\n",
       "    </tr>\n",
       "    <tr>\n",
       "      <th>4</th>\n",
       "      <td>33</td>\n",
       "      <td>blue-collar</td>\n",
       "      <td>single</td>\n",
       "      <td>secondary</td>\n",
       "      <td>unknown</td>\n",
       "      <td>5</td>\n",
       "      <td>may</td>\n",
       "      <td>198</td>\n",
       "      <td>1</td>\n",
       "      <td>unknown</td>\n",
       "      <td>0</td>\n",
       "    </tr>\n",
       "    <tr>\n",
       "      <th>...</th>\n",
       "      <td>...</td>\n",
       "      <td>...</td>\n",
       "      <td>...</td>\n",
       "      <td>...</td>\n",
       "      <td>...</td>\n",
       "      <td>...</td>\n",
       "      <td>...</td>\n",
       "      <td>...</td>\n",
       "      <td>...</td>\n",
       "      <td>...</td>\n",
       "      <td>...</td>\n",
       "    </tr>\n",
       "    <tr>\n",
       "      <th>45206</th>\n",
       "      <td>51</td>\n",
       "      <td>technician</td>\n",
       "      <td>married</td>\n",
       "      <td>tertiary</td>\n",
       "      <td>cellular</td>\n",
       "      <td>17</td>\n",
       "      <td>nov</td>\n",
       "      <td>977</td>\n",
       "      <td>3</td>\n",
       "      <td>unknown</td>\n",
       "      <td>1</td>\n",
       "    </tr>\n",
       "    <tr>\n",
       "      <th>45207</th>\n",
       "      <td>71</td>\n",
       "      <td>retired</td>\n",
       "      <td>divorced</td>\n",
       "      <td>primary</td>\n",
       "      <td>cellular</td>\n",
       "      <td>17</td>\n",
       "      <td>nov</td>\n",
       "      <td>456</td>\n",
       "      <td>2</td>\n",
       "      <td>unknown</td>\n",
       "      <td>1</td>\n",
       "    </tr>\n",
       "    <tr>\n",
       "      <th>45208</th>\n",
       "      <td>72</td>\n",
       "      <td>retired</td>\n",
       "      <td>married</td>\n",
       "      <td>secondary</td>\n",
       "      <td>cellular</td>\n",
       "      <td>17</td>\n",
       "      <td>nov</td>\n",
       "      <td>1127</td>\n",
       "      <td>5</td>\n",
       "      <td>success</td>\n",
       "      <td>1</td>\n",
       "    </tr>\n",
       "    <tr>\n",
       "      <th>45209</th>\n",
       "      <td>57</td>\n",
       "      <td>blue-collar</td>\n",
       "      <td>married</td>\n",
       "      <td>secondary</td>\n",
       "      <td>telephone</td>\n",
       "      <td>17</td>\n",
       "      <td>nov</td>\n",
       "      <td>508</td>\n",
       "      <td>4</td>\n",
       "      <td>unknown</td>\n",
       "      <td>0</td>\n",
       "    </tr>\n",
       "    <tr>\n",
       "      <th>45210</th>\n",
       "      <td>37</td>\n",
       "      <td>entrepreneur</td>\n",
       "      <td>married</td>\n",
       "      <td>secondary</td>\n",
       "      <td>cellular</td>\n",
       "      <td>17</td>\n",
       "      <td>nov</td>\n",
       "      <td>361</td>\n",
       "      <td>2</td>\n",
       "      <td>other</td>\n",
       "      <td>0</td>\n",
       "    </tr>\n",
       "  </tbody>\n",
       "</table>\n",
       "<p>45211 rows × 11 columns</p>\n",
       "</div>"
      ],
      "text/plain": [
       "       age           job   marital education_qual  call_type  day  mon   dur  \\\n",
       "0       58    management   married       tertiary    unknown    5  may   261   \n",
       "1       44    technician    single      secondary    unknown    5  may   151   \n",
       "2       33  entrepreneur   married      secondary    unknown    5  may    76   \n",
       "3       47   blue-collar   married      secondary    unknown    5  may    92   \n",
       "4       33   blue-collar    single      secondary    unknown    5  may   198   \n",
       "...    ...           ...       ...            ...        ...  ...  ...   ...   \n",
       "45206   51    technician   married       tertiary   cellular   17  nov   977   \n",
       "45207   71       retired  divorced        primary   cellular   17  nov   456   \n",
       "45208   72       retired   married      secondary   cellular   17  nov  1127   \n",
       "45209   57   blue-collar   married      secondary  telephone   17  nov   508   \n",
       "45210   37  entrepreneur   married      secondary   cellular   17  nov   361   \n",
       "\n",
       "       num_calls prev_outcome  y  \n",
       "0              1      unknown  0  \n",
       "1              1      unknown  0  \n",
       "2              1      unknown  0  \n",
       "3              1      unknown  0  \n",
       "4              1      unknown  0  \n",
       "...          ...          ... ..  \n",
       "45206          3      unknown  1  \n",
       "45207          2      unknown  1  \n",
       "45208          5      success  1  \n",
       "45209          4      unknown  0  \n",
       "45210          2        other  0  \n",
       "\n",
       "[45211 rows x 11 columns]"
      ]
     },
     "execution_count": 24,
     "metadata": {},
     "output_type": "execute_result"
    }
   ],
   "source": [
    "# Checking the target values are converted into numerical values or not\n",
    "data"
   ]
  },
  {
   "cell_type": "code",
   "execution_count": 25,
   "id": "51bf1b09",
   "metadata": {},
   "outputs": [
    {
     "data": {
      "text/plain": [
       "age                int64\n",
       "job               object\n",
       "marital           object\n",
       "education_qual    object\n",
       "call_type         object\n",
       "day                int64\n",
       "mon               object\n",
       "dur                int64\n",
       "num_calls          int64\n",
       "prev_outcome      object\n",
       "y                  int64\n",
       "dtype: object"
      ]
     },
     "execution_count": 25,
     "metadata": {},
     "output_type": "execute_result"
    }
   ],
   "source": [
    "# Checking whether the target column has converted into integer(int64)\n",
    "data.dtypes"
   ]
  },
  {
   "cell_type": "markdown",
   "id": "39b186c6",
   "metadata": {},
   "source": [
    "# Cleaning the data"
   ]
  },
  {
   "cell_type": "code",
   "execution_count": 26,
   "id": "dd62f258",
   "metadata": {},
   "outputs": [
    {
     "data": {
      "text/plain": [
       "age               0\n",
       "job               0\n",
       "marital           0\n",
       "education_qual    0\n",
       "call_type         0\n",
       "day               0\n",
       "mon               0\n",
       "dur               0\n",
       "num_calls         0\n",
       "prev_outcome      0\n",
       "y                 0\n",
       "dtype: int64"
      ]
     },
     "execution_count": 26,
     "metadata": {},
     "output_type": "execute_result"
    }
   ],
   "source": [
    "# Checking for missing value\n",
    "data.isnull().sum()"
   ]
  },
  {
   "cell_type": "code",
   "execution_count": 27,
   "id": "81d42a3e",
   "metadata": {},
   "outputs": [],
   "source": [
    "# If there is any null values this will drop them\n",
    "data = data.dropna()"
   ]
  },
  {
   "cell_type": "code",
   "execution_count": 28,
   "id": "70ff4ecb",
   "metadata": {},
   "outputs": [
    {
     "data": {
      "text/html": [
       "<div>\n",
       "<style scoped>\n",
       "    .dataframe tbody tr th:only-of-type {\n",
       "        vertical-align: middle;\n",
       "    }\n",
       "\n",
       "    .dataframe tbody tr th {\n",
       "        vertical-align: top;\n",
       "    }\n",
       "\n",
       "    .dataframe thead th {\n",
       "        text-align: right;\n",
       "    }\n",
       "</style>\n",
       "<table border=\"1\" class=\"dataframe\">\n",
       "  <thead>\n",
       "    <tr style=\"text-align: right;\">\n",
       "      <th></th>\n",
       "      <th>age</th>\n",
       "      <th>job</th>\n",
       "      <th>marital</th>\n",
       "      <th>education_qual</th>\n",
       "      <th>call_type</th>\n",
       "      <th>day</th>\n",
       "      <th>mon</th>\n",
       "      <th>dur</th>\n",
       "      <th>num_calls</th>\n",
       "      <th>prev_outcome</th>\n",
       "      <th>y</th>\n",
       "    </tr>\n",
       "  </thead>\n",
       "  <tbody>\n",
       "    <tr>\n",
       "      <th>6893</th>\n",
       "      <td>34</td>\n",
       "      <td>services</td>\n",
       "      <td>married</td>\n",
       "      <td>secondary</td>\n",
       "      <td>unknown</td>\n",
       "      <td>28</td>\n",
       "      <td>may</td>\n",
       "      <td>124</td>\n",
       "      <td>1</td>\n",
       "      <td>unknown</td>\n",
       "      <td>0</td>\n",
       "    </tr>\n",
       "    <tr>\n",
       "      <th>8138</th>\n",
       "      <td>29</td>\n",
       "      <td>admin.</td>\n",
       "      <td>single</td>\n",
       "      <td>secondary</td>\n",
       "      <td>unknown</td>\n",
       "      <td>2</td>\n",
       "      <td>jun</td>\n",
       "      <td>121</td>\n",
       "      <td>4</td>\n",
       "      <td>unknown</td>\n",
       "      <td>0</td>\n",
       "    </tr>\n",
       "    <tr>\n",
       "      <th>11630</th>\n",
       "      <td>39</td>\n",
       "      <td>blue-collar</td>\n",
       "      <td>married</td>\n",
       "      <td>primary</td>\n",
       "      <td>unknown</td>\n",
       "      <td>19</td>\n",
       "      <td>jun</td>\n",
       "      <td>112</td>\n",
       "      <td>4</td>\n",
       "      <td>unknown</td>\n",
       "      <td>0</td>\n",
       "    </tr>\n",
       "    <tr>\n",
       "      <th>13400</th>\n",
       "      <td>36</td>\n",
       "      <td>blue-collar</td>\n",
       "      <td>married</td>\n",
       "      <td>secondary</td>\n",
       "      <td>cellular</td>\n",
       "      <td>9</td>\n",
       "      <td>jul</td>\n",
       "      <td>183</td>\n",
       "      <td>1</td>\n",
       "      <td>unknown</td>\n",
       "      <td>0</td>\n",
       "    </tr>\n",
       "    <tr>\n",
       "      <th>19826</th>\n",
       "      <td>36</td>\n",
       "      <td>management</td>\n",
       "      <td>married</td>\n",
       "      <td>tertiary</td>\n",
       "      <td>cellular</td>\n",
       "      <td>8</td>\n",
       "      <td>aug</td>\n",
       "      <td>75</td>\n",
       "      <td>2</td>\n",
       "      <td>unknown</td>\n",
       "      <td>0</td>\n",
       "    </tr>\n",
       "    <tr>\n",
       "      <th>19854</th>\n",
       "      <td>32</td>\n",
       "      <td>technician</td>\n",
       "      <td>single</td>\n",
       "      <td>tertiary</td>\n",
       "      <td>cellular</td>\n",
       "      <td>8</td>\n",
       "      <td>aug</td>\n",
       "      <td>31</td>\n",
       "      <td>2</td>\n",
       "      <td>unknown</td>\n",
       "      <td>0</td>\n",
       "    </tr>\n",
       "  </tbody>\n",
       "</table>\n",
       "</div>"
      ],
      "text/plain": [
       "       age          job  marital education_qual call_type  day  mon  dur  \\\n",
       "6893    34     services  married      secondary   unknown   28  may  124   \n",
       "8138    29       admin.   single      secondary   unknown    2  jun  121   \n",
       "11630   39  blue-collar  married        primary   unknown   19  jun  112   \n",
       "13400   36  blue-collar  married      secondary  cellular    9  jul  183   \n",
       "19826   36   management  married       tertiary  cellular    8  aug   75   \n",
       "19854   32   technician   single       tertiary  cellular    8  aug   31   \n",
       "\n",
       "       num_calls prev_outcome  y  \n",
       "6893           1      unknown  0  \n",
       "8138           4      unknown  0  \n",
       "11630          4      unknown  0  \n",
       "13400          1      unknown  0  \n",
       "19826          2      unknown  0  \n",
       "19854          2      unknown  0  "
      ]
     },
     "execution_count": 28,
     "metadata": {},
     "output_type": "execute_result"
    }
   ],
   "source": [
    "# Duplicates in dataframe\n",
    "duplicates = data[data.duplicated()]\n",
    "duplicates"
   ]
  },
  {
   "cell_type": "code",
   "execution_count": 29,
   "id": "9d43ad12",
   "metadata": {},
   "outputs": [
    {
     "name": "stdout",
     "output_type": "stream",
     "text": [
      "Duplicates in data: 6 Nos\n"
     ]
    }
   ],
   "source": [
    "#Checking for duplicates in data\n",
    "\n",
    "D=data.duplicated().sum()\n",
    "\n",
    "print('Duplicates in data:', D,'Nos')"
   ]
  },
  {
   "cell_type": "code",
   "execution_count": 30,
   "id": "378c5b0b",
   "metadata": {},
   "outputs": [
    {
     "name": "stdout",
     "output_type": "stream",
     "text": [
      "Duplicates in data: 0 Nos\n"
     ]
    }
   ],
   "source": [
    "# Removing the duplicates\n",
    "data = data.drop_duplicates()\n",
    "print('Duplicates in data:',data.duplicated().sum(),'Nos')"
   ]
  },
  {
   "cell_type": "code",
   "execution_count": 31,
   "id": "8b976eb4",
   "metadata": {},
   "outputs": [
    {
     "data": {
      "text/plain": [
       "(45205, 11)"
      ]
     },
     "execution_count": 31,
     "metadata": {},
     "output_type": "execute_result"
    }
   ],
   "source": [
    "data.shape"
   ]
  },
  {
   "cell_type": "code",
   "execution_count": 32,
   "id": "38be5bd2",
   "metadata": {},
   "outputs": [
    {
     "data": {
      "text/html": [
       "<div>\n",
       "<style scoped>\n",
       "    .dataframe tbody tr th:only-of-type {\n",
       "        vertical-align: middle;\n",
       "    }\n",
       "\n",
       "    .dataframe tbody tr th {\n",
       "        vertical-align: top;\n",
       "    }\n",
       "\n",
       "    .dataframe thead th {\n",
       "        text-align: right;\n",
       "    }\n",
       "</style>\n",
       "<table border=\"1\" class=\"dataframe\">\n",
       "  <thead>\n",
       "    <tr style=\"text-align: right;\">\n",
       "      <th></th>\n",
       "      <th>age</th>\n",
       "      <th>day</th>\n",
       "      <th>dur</th>\n",
       "      <th>num_calls</th>\n",
       "      <th>y</th>\n",
       "    </tr>\n",
       "  </thead>\n",
       "  <tbody>\n",
       "    <tr>\n",
       "      <th>count</th>\n",
       "      <td>45205.000000</td>\n",
       "      <td>45205.00000</td>\n",
       "      <td>45205.000000</td>\n",
       "      <td>45205.000000</td>\n",
       "      <td>45205.000000</td>\n",
       "    </tr>\n",
       "    <tr>\n",
       "      <th>mean</th>\n",
       "      <td>40.937087</td>\n",
       "      <td>15.80688</td>\n",
       "      <td>258.183055</td>\n",
       "      <td>2.763898</td>\n",
       "      <td>0.117000</td>\n",
       "    </tr>\n",
       "    <tr>\n",
       "      <th>std</th>\n",
       "      <td>10.619130</td>\n",
       "      <td>8.32234</td>\n",
       "      <td>257.538504</td>\n",
       "      <td>3.098189</td>\n",
       "      <td>0.321424</td>\n",
       "    </tr>\n",
       "    <tr>\n",
       "      <th>min</th>\n",
       "      <td>18.000000</td>\n",
       "      <td>1.00000</td>\n",
       "      <td>0.000000</td>\n",
       "      <td>1.000000</td>\n",
       "      <td>0.000000</td>\n",
       "    </tr>\n",
       "    <tr>\n",
       "      <th>25%</th>\n",
       "      <td>33.000000</td>\n",
       "      <td>8.00000</td>\n",
       "      <td>103.000000</td>\n",
       "      <td>1.000000</td>\n",
       "      <td>0.000000</td>\n",
       "    </tr>\n",
       "    <tr>\n",
       "      <th>50%</th>\n",
       "      <td>39.000000</td>\n",
       "      <td>16.00000</td>\n",
       "      <td>180.000000</td>\n",
       "      <td>2.000000</td>\n",
       "      <td>0.000000</td>\n",
       "    </tr>\n",
       "    <tr>\n",
       "      <th>75%</th>\n",
       "      <td>48.000000</td>\n",
       "      <td>21.00000</td>\n",
       "      <td>319.000000</td>\n",
       "      <td>3.000000</td>\n",
       "      <td>0.000000</td>\n",
       "    </tr>\n",
       "    <tr>\n",
       "      <th>max</th>\n",
       "      <td>95.000000</td>\n",
       "      <td>31.00000</td>\n",
       "      <td>4918.000000</td>\n",
       "      <td>63.000000</td>\n",
       "      <td>1.000000</td>\n",
       "    </tr>\n",
       "  </tbody>\n",
       "</table>\n",
       "</div>"
      ],
      "text/plain": [
       "                age          day           dur     num_calls             y\n",
       "count  45205.000000  45205.00000  45205.000000  45205.000000  45205.000000\n",
       "mean      40.937087     15.80688    258.183055      2.763898      0.117000\n",
       "std       10.619130      8.32234    257.538504      3.098189      0.321424\n",
       "min       18.000000      1.00000      0.000000      1.000000      0.000000\n",
       "25%       33.000000      8.00000    103.000000      1.000000      0.000000\n",
       "50%       39.000000     16.00000    180.000000      2.000000      0.000000\n",
       "75%       48.000000     21.00000    319.000000      3.000000      0.000000\n",
       "max       95.000000     31.00000   4918.000000     63.000000      1.000000"
      ]
     },
     "execution_count": 32,
     "metadata": {},
     "output_type": "execute_result"
    }
   ],
   "source": [
    "data.describe()"
   ]
  },
  {
   "cell_type": "code",
   "execution_count": 33,
   "id": "6043707e",
   "metadata": {},
   "outputs": [
    {
     "data": {
      "text/plain": [
       "age                int64\n",
       "job               object\n",
       "marital           object\n",
       "education_qual    object\n",
       "call_type         object\n",
       "day                int64\n",
       "mon               object\n",
       "dur                int64\n",
       "num_calls          int64\n",
       "prev_outcome      object\n",
       "y                  int64\n",
       "dtype: object"
      ]
     },
     "execution_count": 33,
     "metadata": {},
     "output_type": "execute_result"
    }
   ],
   "source": [
    "data.dtypes"
   ]
  },
  {
   "cell_type": "markdown",
   "id": "392e0da7",
   "metadata": {},
   "source": [
    "# Detecting outliers"
   ]
  },
  {
   "cell_type": "code",
   "execution_count": 34,
   "id": "6287d396",
   "metadata": {},
   "outputs": [
    {
     "name": "stdout",
     "output_type": "stream",
     "text": [
      "Interquantile range is 15.0\n",
      "upper_threshold is 70.5\n",
      "lower_threshold is 10.5\n",
      "above outlier count is 0\n",
      "below outlier count is 0\n"
     ]
    }
   ],
   "source": [
    "# Detcting outliers for 'AGE' column\n",
    "iqr = data.age.quantile(0.75) - data.age.quantile(0.25)\n",
    "print('Interquantile range is',iqr)\n",
    "up_threshold = data.age.quantile(0.75) + (1.5*iqr)\n",
    "low_threshold = data.age.quantile(0.25) - (1.5*iqr)\n",
    "\n",
    "# Clipping the outliers to upper and lower threshold\n",
    "data.age =data.age.clip(up_threshold,low_threshold)\n",
    "\n",
    "print('upper_threshold is',up_threshold)\n",
    "print('lower_threshold is',low_threshold)\n",
    "\n",
    "# Converting the 'age' column to int64\n",
    "data['age'] = data['age'].astype('int64')\n",
    "\n",
    "# Counting the number of outliers above and below the thresholds\n",
    "below = data[data['age'] < low_threshold]['age'].count()\n",
    "above = data[data['age'] > up_threshold]['age'].count()\n",
    "\n",
    "print('above outlier count is',above)\n",
    "print('below outlier count is',below)"
   ]
  },
  {
   "cell_type": "code",
   "execution_count": 35,
   "id": "61d1afb9",
   "metadata": {},
   "outputs": [
    {
     "name": "stdout",
     "output_type": "stream",
     "text": [
      "Interquantile range is 216.0\n",
      "upper_threshold is 643.0\n",
      "lower_threshold is -221.0\n",
      "above outlier count is 0\n",
      "below outlier count is 0\n"
     ]
    }
   ],
   "source": [
    "# Detcting outliers for 'DUR' column\n",
    "iqr = data.dur.quantile(0.75) - data.dur.quantile(0.25)\n",
    "print('Interquantile range is',iqr)\n",
    "up_threshold = data.dur.quantile(0.75) + (1.5*iqr)\n",
    "low_threshold = data.dur.quantile(0.25) - (1.5*iqr)\n",
    "\n",
    "# Clipping the outliers to upper and lower threshold\n",
    "data.dur =data.dur.clip(up_threshold,low_threshold)\n",
    "\n",
    "print('upper_threshold is',up_threshold)\n",
    "print('lower_threshold is',low_threshold)\n",
    "\n",
    "# Counting the number of outliers above and below the thresholds\n",
    "below = data[data['dur'] < low_threshold]['dur'].count()\n",
    "above = data[data['dur'] > up_threshold]['dur'].count()\n",
    "\n",
    "print('above outlier count is',above)\n",
    "print('below outlier count is',below)"
   ]
  },
  {
   "cell_type": "code",
   "execution_count": 36,
   "id": "e4842348",
   "metadata": {},
   "outputs": [
    {
     "name": "stdout",
     "output_type": "stream",
     "text": [
      "Interquantile range is 2.0\n",
      "upper_threshold is 6.0\n",
      "lower_threshold is -2.0\n",
      "above outlier count is 0\n",
      "below outlier count is 0\n"
     ]
    }
   ],
   "source": [
    "# Detcting outliers for 'NUM_CALLS' column\n",
    "iqr = data.num_calls.quantile(0.75) - data.num_calls.quantile(0.25)\n",
    "print('Interquantile range is',iqr)\n",
    "up_threshold = data.num_calls.quantile(0.75) + (1.5*iqr)\n",
    "low_threshold = data.num_calls.quantile(0.25) - (1.5*iqr)\n",
    "\n",
    "# Clipping the outliers to upper and lower threshold\n",
    "data.num_calls =data.num_calls.clip(up_threshold,low_threshold)\n",
    "\n",
    "print('upper_threshold is',up_threshold)\n",
    "print('lower_threshold is',low_threshold)\n",
    "\n",
    "# Counting the number of outliers above and below the thresholds\n",
    "below = data[data['num_calls'] < low_threshold]['num_calls'].count()\n",
    "above = data[data['num_calls'] > up_threshold]['num_calls'].count()\n",
    "\n",
    "print('above outlier count is',above)\n",
    "print('below outlier count is',below)"
   ]
  },
  {
   "cell_type": "code",
   "execution_count": 37,
   "id": "31c7378b",
   "metadata": {},
   "outputs": [
    {
     "data": {
      "text/plain": [
       "count    45205.000000\n",
       "mean         2.392235\n",
       "std          1.600152\n",
       "min          1.000000\n",
       "25%          1.000000\n",
       "50%          2.000000\n",
       "75%          3.000000\n",
       "max          6.000000\n",
       "Name: num_calls, dtype: float64"
      ]
     },
     "execution_count": 37,
     "metadata": {},
     "output_type": "execute_result"
    }
   ],
   "source": [
    "data.num_calls.describe()"
   ]
  },
  {
   "cell_type": "code",
   "execution_count": 38,
   "id": "4414edb0",
   "metadata": {},
   "outputs": [
    {
     "data": {
      "text/html": [
       "<div>\n",
       "<style scoped>\n",
       "    .dataframe tbody tr th:only-of-type {\n",
       "        vertical-align: middle;\n",
       "    }\n",
       "\n",
       "    .dataframe tbody tr th {\n",
       "        vertical-align: top;\n",
       "    }\n",
       "\n",
       "    .dataframe thead th {\n",
       "        text-align: right;\n",
       "    }\n",
       "</style>\n",
       "<table border=\"1\" class=\"dataframe\">\n",
       "  <thead>\n",
       "    <tr style=\"text-align: right;\">\n",
       "      <th></th>\n",
       "      <th>age</th>\n",
       "      <th>day</th>\n",
       "      <th>dur</th>\n",
       "      <th>num_calls</th>\n",
       "      <th>y</th>\n",
       "    </tr>\n",
       "  </thead>\n",
       "  <tbody>\n",
       "    <tr>\n",
       "      <th>count</th>\n",
       "      <td>45205.000000</td>\n",
       "      <td>45205.00000</td>\n",
       "      <td>45205.00000</td>\n",
       "      <td>45205.000000</td>\n",
       "      <td>45205.000000</td>\n",
       "    </tr>\n",
       "    <tr>\n",
       "      <th>mean</th>\n",
       "      <td>40.863666</td>\n",
       "      <td>15.80688</td>\n",
       "      <td>234.95620</td>\n",
       "      <td>2.392235</td>\n",
       "      <td>0.117000</td>\n",
       "    </tr>\n",
       "    <tr>\n",
       "      <th>std</th>\n",
       "      <td>10.380009</td>\n",
       "      <td>8.32234</td>\n",
       "      <td>176.75476</td>\n",
       "      <td>1.600152</td>\n",
       "      <td>0.321424</td>\n",
       "    </tr>\n",
       "    <tr>\n",
       "      <th>min</th>\n",
       "      <td>18.000000</td>\n",
       "      <td>1.00000</td>\n",
       "      <td>0.00000</td>\n",
       "      <td>1.000000</td>\n",
       "      <td>0.000000</td>\n",
       "    </tr>\n",
       "    <tr>\n",
       "      <th>25%</th>\n",
       "      <td>33.000000</td>\n",
       "      <td>8.00000</td>\n",
       "      <td>103.00000</td>\n",
       "      <td>1.000000</td>\n",
       "      <td>0.000000</td>\n",
       "    </tr>\n",
       "    <tr>\n",
       "      <th>50%</th>\n",
       "      <td>39.000000</td>\n",
       "      <td>16.00000</td>\n",
       "      <td>180.00000</td>\n",
       "      <td>2.000000</td>\n",
       "      <td>0.000000</td>\n",
       "    </tr>\n",
       "    <tr>\n",
       "      <th>75%</th>\n",
       "      <td>48.000000</td>\n",
       "      <td>21.00000</td>\n",
       "      <td>319.00000</td>\n",
       "      <td>3.000000</td>\n",
       "      <td>0.000000</td>\n",
       "    </tr>\n",
       "    <tr>\n",
       "      <th>max</th>\n",
       "      <td>70.000000</td>\n",
       "      <td>31.00000</td>\n",
       "      <td>643.00000</td>\n",
       "      <td>6.000000</td>\n",
       "      <td>1.000000</td>\n",
       "    </tr>\n",
       "  </tbody>\n",
       "</table>\n",
       "</div>"
      ],
      "text/plain": [
       "                age          day          dur     num_calls             y\n",
       "count  45205.000000  45205.00000  45205.00000  45205.000000  45205.000000\n",
       "mean      40.863666     15.80688    234.95620      2.392235      0.117000\n",
       "std       10.380009      8.32234    176.75476      1.600152      0.321424\n",
       "min       18.000000      1.00000      0.00000      1.000000      0.000000\n",
       "25%       33.000000      8.00000    103.00000      1.000000      0.000000\n",
       "50%       39.000000     16.00000    180.00000      2.000000      0.000000\n",
       "75%       48.000000     21.00000    319.00000      3.000000      0.000000\n",
       "max       70.000000     31.00000    643.00000      6.000000      1.000000"
      ]
     },
     "execution_count": 38,
     "metadata": {},
     "output_type": "execute_result"
    }
   ],
   "source": [
    "data.describe()"
   ]
  },
  {
   "cell_type": "code",
   "execution_count": 39,
   "id": "a7207fd4",
   "metadata": {},
   "outputs": [
    {
     "data": {
      "text/plain": [
       "age                int64\n",
       "job               object\n",
       "marital           object\n",
       "education_qual    object\n",
       "call_type         object\n",
       "day                int64\n",
       "mon               object\n",
       "dur                int64\n",
       "num_calls          int64\n",
       "prev_outcome      object\n",
       "y                  int64\n",
       "dtype: object"
      ]
     },
     "execution_count": 39,
     "metadata": {},
     "output_type": "execute_result"
    }
   ],
   "source": [
    "data.dtypes"
   ]
  },
  {
   "cell_type": "markdown",
   "id": "4937eac8",
   "metadata": {},
   "source": [
    "# Exploratory Data Analysis (EDA)"
   ]
  },
  {
   "cell_type": "code",
   "execution_count": 40,
   "id": "9023ffb2",
   "metadata": {},
   "outputs": [
    {
     "data": {
      "image/png": "[encoded data removed]",
      "text/plain": [
       "<Figure size 1200x600 with 2 Axes>"
      ]
     },
     "metadata": {},
     "output_type": "display_data"
    }
   ],
   "source": [
    "# Creating a plot to check the distribution for AGE and DAY\n",
    "plt.figure(figsize=(12,6))                  #describing the size of the histogram\n",
    "plt.subplot(1,2,1)                          #this creates a grid of 2 plots in a single row and gives which plot comes first\n",
    "sns.distplot(data.age, color = 'orange')    #this pulls the data from age column and gives a orange color histplot\n",
    "plt.subplot(1,2,2)                          #this creates the 2nd plot of the same row\n",
    "sns.distplot(data.day,color = 'blue')       #this pulls the data from day column and gives a blue color histplot\n",
    "plt.tight_layout()                          #this adjusts the space between the two subplots to fit perfectly"
   ]
  },
  {
   "cell_type": "markdown",
   "id": "949b14ac",
   "metadata": {},
   "source": [
    "The age distributed between 18 to 70 and middle age from 30 to 45 are more likely to purchase insurance\n",
    "\n",
    "The day distributed between 1 to 31 days"
   ]
  },
  {
   "cell_type": "code",
   "execution_count": 41,
   "id": "3c4dff03",
   "metadata": {},
   "outputs": [
    {
     "data": {
      "image/png": "[encoded data removed]",
      "text/plain": [
       "<Figure size 1200x600 with 2 Axes>"
      ]
     },
     "metadata": {},
     "output_type": "display_data"
    }
   ],
   "source": [
    "# Creating a plot to check the distribution for DUR and NUM_CALLS\n",
    "plt.figure(figsize=(12,6))                      #describing the size of the histogram\n",
    "plt.subplot(1,2,1)                              #this creates a grid of 2 plots in a single row and gives which plot comes first\n",
    "sns.distplot(data.dur, color = 'pink')          #this pulls the data from dur column and gives a orange color histplot\n",
    "plt.subplot(1,2,2)                              #this creates the 2nd plot of the same row\n",
    "sns.distplot(data.num_calls,color = 'green')    #this pulls the data from num_calls column and gives a blue color histplot\n",
    "plt.tight_layout()                              #this adjusts the space between the two subplots to fit perfectly"
   ]
  },
  {
   "cell_type": "markdown",
   "id": "34e519f5",
   "metadata": {},
   "source": [
    "The duration between 0 to 650\n",
    "\n",
    "the numb calls from 1 to 6"
   ]
  },
  {
   "cell_type": "markdown",
   "id": "74987d54",
   "metadata": {},
   "source": [
    "# Feature VS Target"
   ]
  },
  {
   "cell_type": "markdown",
   "id": "3b98aa94",
   "metadata": {},
   "source": [
    "# JOB"
   ]
  },
  {
   "cell_type": "code",
   "execution_count": 42,
   "id": "0d15bc26",
   "metadata": {},
   "outputs": [
    {
     "data": {
      "image/png": "[encoded data removed]",
      "text/plain": [
       "<Figure size 1000x600 with 1 Axes>"
      ]
     },
     "metadata": {},
     "output_type": "display_data"
    }
   ],
   "source": [
    "# Plotting the figure using barplot\n",
    "plt.figure(figsize=(10,6))\n",
    "sns.barplot(x='job',y='y',data=data,order=data.groupby('job')['y'].mean().reset_index().sort_values('y')['job'])\n",
    "plt.xticks(rotation=45)\n",
    "plt.title('Job vs Target')\n",
    "plt.show()"
   ]
  },
  {
   "cell_type": "markdown",
   "id": "c51cda87",
   "metadata": {},
   "source": [
    "Students are targeted more compared with other professions, second highest is retired persons we can see a linear increase in job column so we go with label encoding.\n",
    "\n",
    "{'blue-collar' :0, 'entrepreneur' :1, 'housemaid' :2, 'services' :3, 'technician' :4, 'self-employed' :5, 'admin.' :6, 'management' :7, 'unemployed' :8, 'retired' :9, 'student' :10}"
   ]
  },
  {
   "cell_type": "markdown",
   "id": "f896f22f",
   "metadata": {},
   "source": [
    "# Marital"
   ]
  },
  {
   "cell_type": "code",
   "execution_count": 43,
   "id": "d88f95d2",
   "metadata": {},
   "outputs": [
    {
     "data": {
      "image/png": "[encoded data removed]",
      "text/plain": [
       "<Figure size 1000x600 with 1 Axes>"
      ]
     },
     "metadata": {},
     "output_type": "display_data"
    }
   ],
   "source": [
    "# Plotting the figure using barplot\n",
    "plt.figure(figsize=(10,6))\n",
    "sns.barplot(x='marital',y='y',data=data,order=data.groupby('marital')['y'].mean().reset_index().sort_values('y')['marital'])\n",
    "plt.xticks(rotation=0)\n",
    "plt.title('Marital vs Target')\n",
    "plt.show()"
   ]
  },
  {
   "cell_type": "markdown",
   "id": "54fe23c5",
   "metadata": {},
   "source": [
    "Single category has subsribed to insurance other than married and divorced there is a linear increase \n",
    "\n",
    "{'married' :0, 'divorced' :1, 'single' :2}"
   ]
  },
  {
   "cell_type": "markdown",
   "id": "48b58fbb",
   "metadata": {},
   "source": [
    "# Education_qual"
   ]
  },
  {
   "cell_type": "code",
   "execution_count": 44,
   "id": "d99c3fd3",
   "metadata": {},
   "outputs": [
    {
     "data": {
      "image/png": "[encoded data removed]",
      "text/plain": [
       "<Figure size 1000x600 with 1 Axes>"
      ]
     },
     "metadata": {},
     "output_type": "display_data"
    }
   ],
   "source": [
    "# Plotting the figure using barplot\n",
    "plt.figure(figsize=(10,6))\n",
    "sns.barplot(x='education_qual',y='y',data=data,order=data.groupby('education_qual')['y'].mean().reset_index().sort_values('y')['education_qual'])\n",
    "plt.xticks(rotation=0)\n",
    "plt.title('Education_qual vs Target')\n",
    "plt.show()"
   ]
  },
  {
   "cell_type": "markdown",
   "id": "adf81f71",
   "metadata": {},
   "source": [
    "Tertiary category is intrested more to subscribe to the insurance other than primary and secondary, we can see a linear increase, so we can use label encoding. \n",
    "\n",
    "{'primary' :0, 'secondary' :1, 'tertiary' :2}"
   ]
  },
  {
   "cell_type": "markdown",
   "id": "0ee8e228",
   "metadata": {},
   "source": [
    "# Call_Type"
   ]
  },
  {
   "cell_type": "code",
   "execution_count": 45,
   "id": "0cf0b5f8",
   "metadata": {},
   "outputs": [
    {
     "data": {
      "image/png": "[encoded data removed]",
      "text/plain": [
       "<Figure size 1000x600 with 1 Axes>"
      ]
     },
     "metadata": {},
     "output_type": "display_data"
    }
   ],
   "source": [
    "# Plotting the figure using barplot\n",
    "plt.figure(figsize=(10,6))\n",
    "sns.barplot(x='call_type',y='y',data=data,order=data.groupby('call_type')['y'].mean().reset_index().sort_values('y')['call_type'])\n",
    "plt.xticks(rotation=0)\n",
    "plt.title('Call_type vs Target')\n",
    "plt.show()"
   ]
  },
  {
   "cell_type": "markdown",
   "id": "95766e77",
   "metadata": {},
   "source": [
    "We can see, through cellular the most calls were registered and subscribed to insurance plan , there is no linear increase so we go with one-hot encoding.\n",
    "\n",
    "{'unknown' :0, 'telephone' :1, 'cellular' :2}"
   ]
  },
  {
   "cell_type": "markdown",
   "id": "80a54dc8",
   "metadata": {},
   "source": [
    "# Month(Mon)"
   ]
  },
  {
   "cell_type": "code",
   "execution_count": 46,
   "id": "c620c750",
   "metadata": {},
   "outputs": [
    {
     "data": {
      "image/png": "[encoded data removed]",
      "text/plain": [
       "<Figure size 1000x600 with 1 Axes>"
      ]
     },
     "metadata": {},
     "output_type": "display_data"
    }
   ],
   "source": [
    "# Plotting the figure using barplot\n",
    "plt.figure(figsize=(10,6))\n",
    "sns.barplot(x='mon',y='y',data=data,order=data.groupby('mon')['y'].mean().reset_index().sort_values('y')['mon'])\n",
    "plt.xticks(rotation=0)\n",
    "plt.title('Mon vs Target')\n",
    "plt.show()"
   ]
  },
  {
   "cell_type": "markdown",
   "id": "a0de1536",
   "metadata": {},
   "source": [
    "We can see that month of march, have more insurance policy subscribed.\n",
    "\n",
    "{'may' :0, 'jul' :1, 'jan' :2, 'nov' :3, 'jun' :4, 'aug' :5, 'feb' :6, 'apr' :7, 'oct' :8, 'sep' :9, 'dec' :10, 'mar' :11}"
   ]
  },
  {
   "cell_type": "markdown",
   "id": "a26a696b",
   "metadata": {},
   "source": [
    "# Prev_Outcome"
   ]
  },
  {
   "cell_type": "code",
   "execution_count": 47,
   "id": "e802b21b",
   "metadata": {},
   "outputs": [
    {
     "data": {
      "image/png": "[encoded data removed]",
      "text/plain": [
       "<Figure size 1000x600 with 1 Axes>"
      ]
     },
     "metadata": {},
     "output_type": "display_data"
    }
   ],
   "source": [
    "# Plotting the figure using barplot\n",
    "plt.figure(figsize=(10,6))\n",
    "sns.barplot(x='prev_outcome',y='y',data=data,order=data.groupby('prev_outcome')['y'].mean().reset_index().sort_values('y')['prev_outcome'])\n",
    "plt.xticks(rotation=0)\n",
    "plt.title('Prev_outcome vs Target')\n",
    "plt.show()"
   ]
  },
  {
   "cell_type": "markdown",
   "id": "aa8443af",
   "metadata": {},
   "source": [
    "# For Numerical data"
   ]
  },
  {
   "cell_type": "markdown",
   "id": "3c1798fb",
   "metadata": {},
   "source": [
    "# AGE"
   ]
  },
  {
   "cell_type": "code",
   "execution_count": 48,
   "id": "8d14141c",
   "metadata": {},
   "outputs": [
    {
     "data": {
      "image/png": "[encoded data removed]",
      "text/plain": [
       "<Figure size 1500x600 with 1 Axes>"
      ]
     },
     "metadata": {},
     "output_type": "display_data"
    }
   ],
   "source": [
    "# Plotting the figure using barplot\n",
    "sorted_age = sorted(data['age'].unique())\n",
    "plt.figure(figsize=(15,6))\n",
    "sns.barplot(x='age', y='y', data=data, order=sorted_age)\n",
    "plt.xticks(rotation=0)\n",
    "plt.title('Age vs Target')\n",
    "plt.show()"
   ]
  },
  {
   "cell_type": "markdown",
   "id": "c833f1c2",
   "metadata": {},
   "source": [
    "# DAY"
   ]
  },
  {
   "cell_type": "code",
   "execution_count": 49,
   "id": "8bc3ed21",
   "metadata": {},
   "outputs": [
    {
     "data": {
      "image/png": "[encoded data removed]",
      "text/plain": [
       "<Figure size 1000x600 with 1 Axes>"
      ]
     },
     "metadata": {},
     "output_type": "display_data"
    }
   ],
   "source": [
    "# Plotting the figure using barplot\n",
    "sorted_days = sorted(data['day'].unique())\n",
    "plt.figure(figsize=(10,6))\n",
    "sns.barplot(x='day', y='y', data=data, order=sorted_days)\n",
    "plt.xticks(rotation=0)\n",
    "plt.title('Day vs Target')\n",
    "plt.show()"
   ]
  },
  {
   "cell_type": "markdown",
   "id": "691400ce",
   "metadata": {},
   "source": [
    "We can see that the day 1 has the highest conversion rate and day 10 has the second highest conversion rate."
   ]
  },
  {
   "cell_type": "markdown",
   "id": "38833166",
   "metadata": {},
   "source": [
    "# Num_Calls"
   ]
  },
  {
   "cell_type": "code",
   "execution_count": 50,
   "id": "aa4a1e4d",
   "metadata": {},
   "outputs": [
    {
     "data": {
      "image/png": "[encoded data removed]",
      "text/plain": [
       "<Figure size 1000x600 with 1 Axes>"
      ]
     },
     "metadata": {},
     "output_type": "display_data"
    }
   ],
   "source": [
    "# Plotting the figure using barplot\n",
    "sort = sorted(data['num_calls'].unique())\n",
    "plt.figure(figsize=(10,6))\n",
    "sns.barplot(x='num_calls', y='y', data=data, order=sort)\n",
    "plt.xticks(rotation=0)\n",
    "plt.title('Num_calls vs Target')\n",
    "plt.show()"
   ]
  },
  {
   "cell_type": "markdown",
   "id": "feeb6235",
   "metadata": {},
   "source": [
    "we can see that no 1 has the highest conversion rate."
   ]
  },
  {
   "cell_type": "markdown",
   "id": "9cd0b4b6",
   "metadata": {},
   "source": [
    "# DUR"
   ]
  },
  {
   "cell_type": "code",
   "execution_count": 51,
   "id": "e93ed9d4",
   "metadata": {},
   "outputs": [
    {
     "data": {
      "image/png": "[encoded data removed]",
      "text/plain": [
       "<Figure size 1500x600 with 1 Axes>"
      ]
     },
     "metadata": {},
     "output_type": "display_data"
    }
   ],
   "source": [
    "# Plotting the figure using barplot\n",
    "sort_dur = sorted(data['dur'].unique())\n",
    "plt.figure(figsize=(15,6))\n",
    "sns.barplot(x='dur', y='y', data=data, order=sort_dur)\n",
    "plt.xticks(rotation=0)\n",
    "plt.title('Dur vs Target')\n",
    "plt.show()"
   ]
  },
  {
   "cell_type": "markdown",
   "id": "23b6953c",
   "metadata": {},
   "source": [
    "# Features Vs Target plots together (for our reference)"
   ]
  },
  {
   "cell_type": "code",
   "execution_count": 52,
   "id": "5a2f2cd7",
   "metadata": {},
   "outputs": [
    {
     "data": {
      "image/png": "[encoded data removed]",
      "text/plain": [
       "<Figure size 2000x1500 with 6 Axes>"
      ]
     },
     "metadata": {},
     "output_type": "display_data"
    },
    {
     "data": {
      "text/plain": [
       "<Figure size 640x480 with 0 Axes>"
      ]
     },
     "metadata": {},
     "output_type": "display_data"
    }
   ],
   "source": [
    "# Plotting the figure using barplot\n",
    "plt.figure(figsize=(20,15))\n",
    "\n",
    "plt.subplot(231)\n",
    "sns.barplot(x='job',y='y',data=data,order=data.groupby('job')['y'].mean().reset_index().sort_values('y')['job'])\n",
    "plt.xticks(rotation=45)\n",
    "plt.title('Job vs Target')\n",
    "\n",
    "plt.subplot(232)\n",
    "sns.barplot(x='marital',y='y',data=data,order=data.groupby('marital')['y'].mean().reset_index().sort_values('y')['marital'])\n",
    "plt.xticks(rotation=0)\n",
    "plt.title('Marital vs Target')\n",
    "\n",
    "plt.subplot(233)\n",
    "sns.barplot(x='education_qual',y='y',data=data,order=data.groupby('education_qual')['y'].mean().reset_index().sort_values('y')['education_qual'])\n",
    "plt.xticks(rotation=0)\n",
    "plt.title('Education_qual vs Target')\n",
    "\n",
    "plt.subplot(234)\n",
    "sns.barplot(x='call_type',y='y',data=data,order=data.groupby('call_type')['y'].mean().reset_index().sort_values('y')['call_type'])\n",
    "plt.xticks(rotation=0)\n",
    "plt.title('Call_type vs Target')\n",
    "\n",
    "plt.subplot(235)\n",
    "sns.barplot(x='mon',y='y',data=data,order=data.groupby('mon')['y'].mean().reset_index().sort_values('y')['mon'])\n",
    "plt.xticks(rotation=0)\n",
    "plt.title('Mon vs Target')\n",
    "\n",
    "plt.subplot(236)\n",
    "sns.barplot(x='prev_outcome',y='y',data=data,order=data.groupby('prev_outcome')['y'].mean().reset_index().sort_values('y')['prev_outcome'])\n",
    "plt.xticks(rotation=0)\n",
    "plt.title('Prev_outcome vs Target')\n",
    "\n",
    "plt.show()\n",
    "plt.tight_layout()"
   ]
  },
  {
   "cell_type": "markdown",
   "id": "eb1ac894",
   "metadata": {},
   "source": [
    "# Finding Conversion rate for Age & Duration"
   ]
  },
  {
   "cell_type": "markdown",
   "id": "cecf14cb",
   "metadata": {},
   "source": [
    "# Age"
   ]
  },
  {
   "cell_type": "code",
   "execution_count": 53,
   "id": "b26d1bd4",
   "metadata": {},
   "outputs": [
    {
     "data": {
      "image/png": "[encoded data removed]",
      "text/plain": [
       "<Figure size 640x480 with 1 Axes>"
      ]
     },
     "metadata": {},
     "output_type": "display_data"
    }
   ],
   "source": [
    "bins = np.linspace(data.age.min(), data.age.max(), 20)\n",
    "c = np.digitize(data.age, bins)\n",
    "\n",
    "# Define colors for each bar based on the condition\n",
    "colors = ['blue' if i == 1 else 'orange' for i in c]\n",
    "\n",
    "plt.bar(\n",
    "    bins[:-1], \n",
    "    [np.mean(data.y.values[c == i]) for i in range(1, len(bins))],\n",
    "    width=bins[1] - bins[0],\n",
    "    color=colors  # Adding the colors parameter\n",
    ")\n",
    "\n",
    "plt.title('Age vs Target')  # Adding the title\n",
    "plt.xlabel('Age', labelpad=12)\n",
    "plt.ylabel('Y', labelpad=12)\n",
    "plt.show()"
   ]
  },
  {
   "cell_type": "markdown",
   "id": "047935df",
   "metadata": {},
   "source": [
    "# Dur"
   ]
  },
  {
   "cell_type": "code",
   "execution_count": 54,
   "id": "0105e7e2",
   "metadata": {},
   "outputs": [
    {
     "data": {
      "image/png": "[encoded data removed]",
      "text/plain": [
       "<Figure size 640x480 with 1 Axes>"
      ]
     },
     "metadata": {},
     "output_type": "display_data"
    }
   ],
   "source": [
    "bins = np.linspace(data.dur.min(), data.dur.max(), 20)\n",
    "c = np.digitize(data.dur, bins)\n",
    "\n",
    "# Define colors for each bar based on the condition\n",
    "colors = ['blue' if i == 1 else 'orange' for i in c]\n",
    "\n",
    "plt.bar(\n",
    "    bins[:-1], \n",
    "    [np.mean(data.y.values[c == i]) for i in range(1, len(bins))],\n",
    "    width=bins[1] - bins[0],\n",
    "    color=colors  # Adding the colors parameter\n",
    ")\n",
    "\n",
    "plt.title('Dur vs Target')  # Adding the title\n",
    "plt.xlabel('Dur', labelpad=12)\n",
    "plt.ylabel('Y', labelpad=12)\n",
    "plt.show()"
   ]
  },
  {
   "cell_type": "markdown",
   "id": "a120551f",
   "metadata": {},
   "source": [
    "# Feature analysis"
   ]
  },
  {
   "cell_type": "code",
   "execution_count": 55,
   "id": "4bf02725",
   "metadata": {},
   "outputs": [],
   "source": [
    "# plt.figure(figsize=(10, 8))\n",
    "# sns.scatterplot(x='age', y='num_calls', hue='y', data=data, s=150)\n",
    "# plt.title(\"Age vs Num_calls vs Target\", y=1.020, fontsize=20)\n",
    "# plt.xlabel(\"age\", labelpad=12)\n",
    "# plt.ylabel(\"num_calls\", labelpad=12)\n",
    "# ax = plt.gca()"
   ]
  },
  {
   "cell_type": "code",
   "execution_count": 56,
   "id": "761dc384",
   "metadata": {},
   "outputs": [],
   "source": [
    "# plt.figure(figsize=(10, 8))\n",
    "# sns.scatterplot(x='dur', y='num_calls', hue='y', data=data, s=150)\n",
    "# plt.title(\"Dur vs Num_calls vs Target\", y=1.015, fontsize=20)\n",
    "# plt.xlabel(\"dur\", labelpad=12)\n",
    "# plt.ylabel(\"num_calls\", labelpad=12)\n",
    "# ax = plt.gca()"
   ]
  },
  {
   "cell_type": "markdown",
   "id": "e5487680",
   "metadata": {},
   "source": [
    "# Encoding The data"
   ]
  },
  {
   "cell_type": "code",
   "execution_count": 57,
   "id": "c103554f",
   "metadata": {},
   "outputs": [
    {
     "data": {
      "text/plain": [
       "age                int64\n",
       "job               object\n",
       "marital           object\n",
       "education_qual    object\n",
       "call_type         object\n",
       "day                int64\n",
       "mon               object\n",
       "dur                int64\n",
       "num_calls          int64\n",
       "prev_outcome      object\n",
       "y                  int64\n",
       "dtype: object"
      ]
     },
     "execution_count": 57,
     "metadata": {},
     "output_type": "execute_result"
    }
   ],
   "source": [
    "# Assuring the data types before encoding\n",
    "data.dtypes"
   ]
  },
  {
   "cell_type": "code",
   "execution_count": 58,
   "id": "78beb8ad",
   "metadata": {},
   "outputs": [],
   "source": [
    "# Saving the cleaned data to csv for streamlit\n",
    "data.to_csv(\"D:/Clinton files.py/My details/Fin_project/Streamlit_data.csv\")"
   ]
  },
  {
   "cell_type": "markdown",
   "id": "d6771fc2",
   "metadata": {},
   "source": [
    "# Label Encoding"
   ]
  },
  {
   "cell_type": "code",
   "execution_count": 59,
   "id": "9491121e",
   "metadata": {},
   "outputs": [
    {
     "data": {
      "text/html": [
       "<div>\n",
       "<style scoped>\n",
       "    .dataframe tbody tr th:only-of-type {\n",
       "        vertical-align: middle;\n",
       "    }\n",
       "\n",
       "    .dataframe tbody tr th {\n",
       "        vertical-align: top;\n",
       "    }\n",
       "\n",
       "    .dataframe thead th {\n",
       "        text-align: right;\n",
       "    }\n",
       "</style>\n",
       "<table border=\"1\" class=\"dataframe\">\n",
       "  <thead>\n",
       "    <tr style=\"text-align: right;\">\n",
       "      <th></th>\n",
       "      <th>age</th>\n",
       "      <th>job</th>\n",
       "      <th>marital</th>\n",
       "      <th>education_qual</th>\n",
       "      <th>call_type</th>\n",
       "      <th>day</th>\n",
       "      <th>mon</th>\n",
       "      <th>dur</th>\n",
       "      <th>num_calls</th>\n",
       "      <th>prev_outcome</th>\n",
       "      <th>y</th>\n",
       "    </tr>\n",
       "  </thead>\n",
       "  <tbody>\n",
       "    <tr>\n",
       "      <th>0</th>\n",
       "      <td>58</td>\n",
       "      <td>7</td>\n",
       "      <td>0</td>\n",
       "      <td>2</td>\n",
       "      <td>unknown</td>\n",
       "      <td>5</td>\n",
       "      <td>may</td>\n",
       "      <td>261</td>\n",
       "      <td>1</td>\n",
       "      <td>unknown</td>\n",
       "      <td>0</td>\n",
       "    </tr>\n",
       "    <tr>\n",
       "      <th>1</th>\n",
       "      <td>44</td>\n",
       "      <td>4</td>\n",
       "      <td>2</td>\n",
       "      <td>1</td>\n",
       "      <td>unknown</td>\n",
       "      <td>5</td>\n",
       "      <td>may</td>\n",
       "      <td>151</td>\n",
       "      <td>1</td>\n",
       "      <td>unknown</td>\n",
       "      <td>0</td>\n",
       "    </tr>\n",
       "    <tr>\n",
       "      <th>2</th>\n",
       "      <td>33</td>\n",
       "      <td>1</td>\n",
       "      <td>0</td>\n",
       "      <td>1</td>\n",
       "      <td>unknown</td>\n",
       "      <td>5</td>\n",
       "      <td>may</td>\n",
       "      <td>76</td>\n",
       "      <td>1</td>\n",
       "      <td>unknown</td>\n",
       "      <td>0</td>\n",
       "    </tr>\n",
       "    <tr>\n",
       "      <th>3</th>\n",
       "      <td>47</td>\n",
       "      <td>0</td>\n",
       "      <td>0</td>\n",
       "      <td>1</td>\n",
       "      <td>unknown</td>\n",
       "      <td>5</td>\n",
       "      <td>may</td>\n",
       "      <td>92</td>\n",
       "      <td>1</td>\n",
       "      <td>unknown</td>\n",
       "      <td>0</td>\n",
       "    </tr>\n",
       "    <tr>\n",
       "      <th>4</th>\n",
       "      <td>33</td>\n",
       "      <td>0</td>\n",
       "      <td>2</td>\n",
       "      <td>1</td>\n",
       "      <td>unknown</td>\n",
       "      <td>5</td>\n",
       "      <td>may</td>\n",
       "      <td>198</td>\n",
       "      <td>1</td>\n",
       "      <td>unknown</td>\n",
       "      <td>0</td>\n",
       "    </tr>\n",
       "  </tbody>\n",
       "</table>\n",
       "</div>"
      ],
      "text/plain": [
       "   age  job  marital  education_qual call_type  day  mon  dur  num_calls  \\\n",
       "0   58    7        0               2   unknown    5  may  261          1   \n",
       "1   44    4        2               1   unknown    5  may  151          1   \n",
       "2   33    1        0               1   unknown    5  may   76          1   \n",
       "3   47    0        0               1   unknown    5  may   92          1   \n",
       "4   33    0        2               1   unknown    5  may  198          1   \n",
       "\n",
       "  prev_outcome  y  \n",
       "0      unknown  0  \n",
       "1      unknown  0  \n",
       "2      unknown  0  \n",
       "3      unknown  0  \n",
       "4      unknown  0  "
      ]
     },
     "execution_count": 59,
     "metadata": {},
     "output_type": "execute_result"
    }
   ],
   "source": [
    "data['job'] = data['job'].map({'blue-collar':0, 'entrepreneur':1, 'housemaid':2, 'services':3, 'technician':4, 'self-employed':5, 'admin.':6, 'management':7, 'unemployed':8, 'retired':9, 'student':10})\n",
    "data['education_qual'] = data['education_qual'].map({'primary':0, 'secondary':1, 'tertiary':2})\n",
    "data['marital'] = data['marital'].map({'married':0, 'divorced':1, 'single':2})\n",
    "\n",
    "data.head()"
   ]
  },
  {
   "cell_type": "markdown",
   "id": "7a39b05d",
   "metadata": {},
   "source": [
    "# One Hot Encoding"
   ]
  },
  {
   "cell_type": "code",
   "execution_count": 60,
   "id": "75200070",
   "metadata": {},
   "outputs": [
    {
     "data": {
      "text/html": [
       "<div>\n",
       "<style scoped>\n",
       "    .dataframe tbody tr th:only-of-type {\n",
       "        vertical-align: middle;\n",
       "    }\n",
       "\n",
       "    .dataframe tbody tr th {\n",
       "        vertical-align: top;\n",
       "    }\n",
       "\n",
       "    .dataframe thead th {\n",
       "        text-align: right;\n",
       "    }\n",
       "</style>\n",
       "<table border=\"1\" class=\"dataframe\">\n",
       "  <thead>\n",
       "    <tr style=\"text-align: right;\">\n",
       "      <th></th>\n",
       "      <th>age</th>\n",
       "      <th>job</th>\n",
       "      <th>marital</th>\n",
       "      <th>education_qual</th>\n",
       "      <th>day</th>\n",
       "      <th>dur</th>\n",
       "      <th>num_calls</th>\n",
       "      <th>y</th>\n",
       "      <th>call_type_cellular</th>\n",
       "      <th>call_type_telephone</th>\n",
       "      <th>...</th>\n",
       "      <th>mon_jun</th>\n",
       "      <th>mon_mar</th>\n",
       "      <th>mon_may</th>\n",
       "      <th>mon_nov</th>\n",
       "      <th>mon_oct</th>\n",
       "      <th>mon_sep</th>\n",
       "      <th>prev_outcome_failure</th>\n",
       "      <th>prev_outcome_other</th>\n",
       "      <th>prev_outcome_success</th>\n",
       "      <th>prev_outcome_unknown</th>\n",
       "    </tr>\n",
       "  </thead>\n",
       "  <tbody>\n",
       "    <tr>\n",
       "      <th>0</th>\n",
       "      <td>58</td>\n",
       "      <td>7</td>\n",
       "      <td>0</td>\n",
       "      <td>2</td>\n",
       "      <td>5</td>\n",
       "      <td>261</td>\n",
       "      <td>1</td>\n",
       "      <td>0</td>\n",
       "      <td>0</td>\n",
       "      <td>0</td>\n",
       "      <td>...</td>\n",
       "      <td>0</td>\n",
       "      <td>0</td>\n",
       "      <td>1</td>\n",
       "      <td>0</td>\n",
       "      <td>0</td>\n",
       "      <td>0</td>\n",
       "      <td>0</td>\n",
       "      <td>0</td>\n",
       "      <td>0</td>\n",
       "      <td>1</td>\n",
       "    </tr>\n",
       "    <tr>\n",
       "      <th>1</th>\n",
       "      <td>44</td>\n",
       "      <td>4</td>\n",
       "      <td>2</td>\n",
       "      <td>1</td>\n",
       "      <td>5</td>\n",
       "      <td>151</td>\n",
       "      <td>1</td>\n",
       "      <td>0</td>\n",
       "      <td>0</td>\n",
       "      <td>0</td>\n",
       "      <td>...</td>\n",
       "      <td>0</td>\n",
       "      <td>0</td>\n",
       "      <td>1</td>\n",
       "      <td>0</td>\n",
       "      <td>0</td>\n",
       "      <td>0</td>\n",
       "      <td>0</td>\n",
       "      <td>0</td>\n",
       "      <td>0</td>\n",
       "      <td>1</td>\n",
       "    </tr>\n",
       "    <tr>\n",
       "      <th>2</th>\n",
       "      <td>33</td>\n",
       "      <td>1</td>\n",
       "      <td>0</td>\n",
       "      <td>1</td>\n",
       "      <td>5</td>\n",
       "      <td>76</td>\n",
       "      <td>1</td>\n",
       "      <td>0</td>\n",
       "      <td>0</td>\n",
       "      <td>0</td>\n",
       "      <td>...</td>\n",
       "      <td>0</td>\n",
       "      <td>0</td>\n",
       "      <td>1</td>\n",
       "      <td>0</td>\n",
       "      <td>0</td>\n",
       "      <td>0</td>\n",
       "      <td>0</td>\n",
       "      <td>0</td>\n",
       "      <td>0</td>\n",
       "      <td>1</td>\n",
       "    </tr>\n",
       "    <tr>\n",
       "      <th>3</th>\n",
       "      <td>47</td>\n",
       "      <td>0</td>\n",
       "      <td>0</td>\n",
       "      <td>1</td>\n",
       "      <td>5</td>\n",
       "      <td>92</td>\n",
       "      <td>1</td>\n",
       "      <td>0</td>\n",
       "      <td>0</td>\n",
       "      <td>0</td>\n",
       "      <td>...</td>\n",
       "      <td>0</td>\n",
       "      <td>0</td>\n",
       "      <td>1</td>\n",
       "      <td>0</td>\n",
       "      <td>0</td>\n",
       "      <td>0</td>\n",
       "      <td>0</td>\n",
       "      <td>0</td>\n",
       "      <td>0</td>\n",
       "      <td>1</td>\n",
       "    </tr>\n",
       "    <tr>\n",
       "      <th>4</th>\n",
       "      <td>33</td>\n",
       "      <td>0</td>\n",
       "      <td>2</td>\n",
       "      <td>1</td>\n",
       "      <td>5</td>\n",
       "      <td>198</td>\n",
       "      <td>1</td>\n",
       "      <td>0</td>\n",
       "      <td>0</td>\n",
       "      <td>0</td>\n",
       "      <td>...</td>\n",
       "      <td>0</td>\n",
       "      <td>0</td>\n",
       "      <td>1</td>\n",
       "      <td>0</td>\n",
       "      <td>0</td>\n",
       "      <td>0</td>\n",
       "      <td>0</td>\n",
       "      <td>0</td>\n",
       "      <td>0</td>\n",
       "      <td>1</td>\n",
       "    </tr>\n",
       "  </tbody>\n",
       "</table>\n",
       "<p>5 rows × 27 columns</p>\n",
       "</div>"
      ],
      "text/plain": [
       "   age  job  marital  education_qual  day  dur  num_calls  y  \\\n",
       "0   58    7        0               2    5  261          1  0   \n",
       "1   44    4        2               1    5  151          1  0   \n",
       "2   33    1        0               1    5   76          1  0   \n",
       "3   47    0        0               1    5   92          1  0   \n",
       "4   33    0        2               1    5  198          1  0   \n",
       "\n",
       "   call_type_cellular  call_type_telephone  ...  mon_jun  mon_mar  mon_may  \\\n",
       "0                   0                    0  ...        0        0        1   \n",
       "1                   0                    0  ...        0        0        1   \n",
       "2                   0                    0  ...        0        0        1   \n",
       "3                   0                    0  ...        0        0        1   \n",
       "4                   0                    0  ...        0        0        1   \n",
       "\n",
       "   mon_nov  mon_oct  mon_sep  prev_outcome_failure  prev_outcome_other  \\\n",
       "0        0        0        0                     0                   0   \n",
       "1        0        0        0                     0                   0   \n",
       "2        0        0        0                     0                   0   \n",
       "3        0        0        0                     0                   0   \n",
       "4        0        0        0                     0                   0   \n",
       "\n",
       "   prev_outcome_success  prev_outcome_unknown  \n",
       "0                     0                     1  \n",
       "1                     0                     1  \n",
       "2                     0                     1  \n",
       "3                     0                     1  \n",
       "4                     0                     1  \n",
       "\n",
       "[5 rows x 27 columns]"
      ]
     },
     "execution_count": 60,
     "metadata": {},
     "output_type": "execute_result"
    }
   ],
   "source": [
    "data= pd.get_dummies(data, columns=['call_type','mon','prev_outcome'])\n",
    "\n",
    "data.head()"
   ]
  },
  {
   "cell_type": "markdown",
   "id": "00370424",
   "metadata": {},
   "source": [
    "Encoding the data has been done!"
   ]
  },
  {
   "cell_type": "markdown",
   "id": "edf87026",
   "metadata": {},
   "source": [
    "# Target and Feature "
   ]
  },
  {
   "cell_type": "code",
   "execution_count": 61,
   "id": "732479a4",
   "metadata": {},
   "outputs": [],
   "source": [
    "X = data[['age','job','marital','education_qual','day','dur','num_calls','call_type_cellular','call_type_telephone','call_type_unknown','mon_apr', \n",
    "          'mon_aug','mon_dec','mon_feb','mon_jan','mon_jul','mon_jun','mon_mar','mon_may','mon_nov','mon_oct','mon_sep','prev_outcome_failure','prev_outcome_other','prev_outcome_success','prev_outcome_unknown']].values\n",
    "\n",
    "y = data['y'].values"
   ]
  },
  {
   "cell_type": "markdown",
   "id": "87a59641",
   "metadata": {},
   "source": [
    "# splitting the Data"
   ]
  },
  {
   "cell_type": "code",
   "execution_count": 62,
   "id": "8733e960",
   "metadata": {},
   "outputs": [],
   "source": [
    "X_train,X_test,y_train,y_test = train_test_split(X,y,test_size=0.20,random_state=0)"
   ]
  },
  {
   "cell_type": "code",
   "execution_count": 63,
   "id": "1f3a51ba",
   "metadata": {},
   "outputs": [
    {
     "data": {
      "text/plain": [
       "((36164, 26), (9041, 26), (36164,), (9041,))"
      ]
     },
     "execution_count": 63,
     "metadata": {},
     "output_type": "execute_result"
    }
   ],
   "source": [
    "X_train.shape, X_test.shape, y_train.shape, y_test.shape"
   ]
  },
  {
   "cell_type": "markdown",
   "id": "ae4cba2b",
   "metadata": {},
   "source": [
    "# Balancing the data using (SMOTEENN)"
   ]
  },
  {
   "cell_type": "code",
   "execution_count": 64,
   "id": "28d63a24",
   "metadata": {},
   "outputs": [],
   "source": [
    "# Balancing the data using SMOTEENN\n",
    "smt = SMOTEENN(sampling_strategy='all') \n",
    "X_train, y_train = smt.fit_resample(X_train, y_train)"
   ]
  },
  {
   "cell_type": "code",
   "execution_count": 65,
   "id": "b4e29ee7",
   "metadata": {},
   "outputs": [
    {
     "name": "stdout",
     "output_type": "stream",
     "text": [
      "51344\n",
      "51344\n"
     ]
    }
   ],
   "source": [
    "# Checking whether it is balanced or not\n",
    "print(len(X_train))\n",
    "print(len(y_train))"
   ]
  },
  {
   "cell_type": "markdown",
   "id": "e639ea35",
   "metadata": {},
   "source": [
    "# SCALING the data"
   ]
  },
  {
   "cell_type": "code",
   "execution_count": 66,
   "id": "ffc95c3f",
   "metadata": {},
   "outputs": [],
   "source": [
    "# Scaling the data\n",
    "scaler = StandardScaler()\n",
    "X_train_scaled = scaler.fit_transform(X_train)\n",
    "X_test_scaled = scaler.transform(X_test)"
   ]
  },
  {
   "cell_type": "markdown",
   "id": "2b817ebb",
   "metadata": {},
   "source": [
    "# Modelling"
   ]
  },
  {
   "cell_type": "markdown",
   "id": "d82286df",
   "metadata": {},
   "source": [
    "# (a) Logistic Regression"
   ]
  },
  {
   "cell_type": "code",
   "execution_count": 67,
   "id": "80b06e7a",
   "metadata": {},
   "outputs": [
    {
     "name": "stdout",
     "output_type": "stream",
     "text": [
      "Training Accuracy : 0.918335151137426\n",
      "Testing Accuracy : 0.7930538657228182\n",
      "F1 Score : 0.48186098033785657\n",
      "ROC AUC Score : 0.8000817427555483\n"
     ]
    }
   ],
   "source": [
    "# Creating an instance to LR\n",
    "Lr = LogisticRegression()\n",
    "\n",
    "# fitting the model to training dataset\n",
    "Lr.fit(X_train,y_train)\n",
    "\n",
    "# To find the Training accuracy\n",
    "Lr.score(X_train,y_train)\n",
    "\n",
    "# To make predictions on the test dataset\n",
    "y_pred = Lr.predict(X_test)\n",
    "\n",
    "print(\"Training Accuracy :\",Lr.score(X_train,y_train))\n",
    "print(\"Testing Accuracy :\",Lr.score(X_test,y_test))\n",
    "print(\"F1 Score :\", f1_score(y_test,y_pred))\n",
    "print(\"ROC AUC Score :\", roc_auc_score(y_test,y_pred))"
   ]
  },
  {
   "cell_type": "code",
   "execution_count": 68,
   "id": "38ea1fee",
   "metadata": {},
   "outputs": [
    {
     "name": "stdout",
     "output_type": "stream",
     "text": [
      "0.918335151137426\n"
     ]
    }
   ],
   "source": [
    "Lr = LogisticRegression()\n",
    "Lr.fit(X_train, y_train)\n",
    "Lr.score(X_train,y_train)\n",
    "\n",
    "lr_Train = Lr.score(X_train,y_train)\n",
    "print(lr_Train)"
   ]
  },
  {
   "cell_type": "code",
   "execution_count": 69,
   "id": "f489a183",
   "metadata": {},
   "outputs": [
    {
     "name": "stdout",
     "output_type": "stream",
     "text": [
      "0.7930538657228182\n"
     ]
    }
   ],
   "source": [
    "Lr = LogisticRegression()\n",
    "Lr.fit(X_train, y_train)\n",
    "Lr.score(X_test,y_test)\n",
    "\n",
    "lr_Test = Lr.score(X_test,y_test)\n",
    "print(lr_Test)"
   ]
  },
  {
   "cell_type": "code",
   "execution_count": 70,
   "id": "9860e52b",
   "metadata": {},
   "outputs": [
    {
     "name": "stdout",
     "output_type": "stream",
     "text": [
      "0.8000817427555483\n"
     ]
    }
   ],
   "source": [
    "Lr = LogisticRegression()\n",
    "Lr.fit(X_train, y_train)\n",
    "y_pred = Lr.predict(X_test)\n",
    "\n",
    "lr_auroc = roc_auc_score(y_test, y_pred)\n",
    "\n",
    "print(lr_auroc)"
   ]
  },
  {
   "cell_type": "code",
   "execution_count": 71,
   "id": "494a41c3",
   "metadata": {},
   "outputs": [
    {
     "data": {
      "text/plain": [
       "0.48186098033785657"
      ]
     },
     "execution_count": 71,
     "metadata": {},
     "output_type": "execute_result"
    }
   ],
   "source": [
    "Lr = LogisticRegression()\n",
    "Lr.fit(X_train, y_train)\n",
    "y_pred = Lr.predict(X_test)\n",
    "\n",
    "lr_f1 = f1_score(y_test, y_pred)\n",
    "lr_f1"
   ]
  },
  {
   "cell_type": "markdown",
   "id": "3541ef8c",
   "metadata": {},
   "source": [
    "# (b) Decision Tree"
   ]
  },
  {
   "cell_type": "code",
   "execution_count": 72,
   "id": "91725fcb",
   "metadata": {},
   "outputs": [
    {
     "name": "stdout",
     "output_type": "stream",
     "text": [
      "Depth  :  1  Training Accuracy :  0.7980484574633843  Cross val score :  0.8281344324556986\n",
      "Depth  :  2  Training Accuracy :  0.8333593019632284  Cross val score :  0.8641314834620651\n",
      "Depth  :  3  Training Accuracy :  0.879947023995014  Cross val score :  0.9008929354638046\n",
      "Depth  :  4  Training Accuracy :  0.8904448426301028  Cross val score :  0.908582995279659\n",
      "Depth  :  5  Training Accuracy :  0.905597538173886  Cross val score :  0.91737540173096\n",
      "Depth  :  6  Training Accuracy :  0.9184714864443752  Cross val score :  0.926659391868798\n",
      "Depth  :  7  Training Accuracy :  0.9335073231536304  Cross val score :  0.9400934557409064\n",
      "Depth  :  8  Training Accuracy :  0.9472382362106575  Cross val score :  0.9485692830331294\n",
      "Depth  :  9  Training Accuracy :  0.9552041134309753  Cross val score :  0.9515550155690761\n",
      "Depth  :  10  Training Accuracy :  0.9650786849485821  Cross val score :  0.9558069770093528\n",
      "Depth  :  20  Training Accuracy :  0.9987729822374571  Cross val score :  0.9588282197662782\n",
      "Depth  :  40  Training Accuracy :  1.0  Cross val score :  0.9589006301855036\n",
      "Depth  :  60  Training Accuracy :  1.0  Cross val score :  0.9593674861464094\n"
     ]
    }
   ],
   "source": [
    "for depth in [1,2,3,4,5,6,7,8,9,10,20,40,60]:\n",
    "    dt = DecisionTreeClassifier(max_depth=depth) #this will stop the tree when it reaches the max depth\n",
    "    dt.fit(X_train, y_train)\n",
    "    trainAccuracy = accuracy_score(y_train, dt.predict(X_train))\n",
    "    dt = DecisionTreeClassifier(max_depth=depth)\n",
    "    valAccuracy = cross_val_score(dt, X_train, y_train, cv=10, scoring='f1')\n",
    "    dt = DecisionTreeClassifier(max_depth=depth)\n",
    "    dt.fit(X_train,y_train)\n",
    "    y_pred = dt.predict(X_test)\n",
    "    roc = roc_auc_score(y_test,y_pred)\n",
    "    \n",
    "    print(\"Depth  : \", depth, \" Training Accuracy : \", trainAccuracy, \" Cross val score : \" ,np.mean(valAccuracy))"
   ]
  },
  {
   "cell_type": "code",
   "execution_count": 73,
   "id": "591957f0",
   "metadata": {},
   "outputs": [
    {
     "name": "stdout",
     "output_type": "stream",
     "text": [
      "Training Accuracy : 1.0\n",
      "Testing Accuracy : 0.8494635549164915\n",
      "F1 Score : 0.5308514305411927\n",
      "ROC AUC Score : 0.7918578376705651\n"
     ]
    }
   ],
   "source": [
    "t = DecisionTreeClassifier(max_depth=40)\n",
    "t.fit(X_train,y_train)\n",
    "y_pred = t.predict(X_test)\n",
    "print(\"Training Accuracy :\",t.score(X_train,y_train))\n",
    "print(\"Testing Accuracy :\",t.score(X_test,y_test))\n",
    "print(\"F1 Score :\", f1_score(y_test,y_pred))\n",
    "print(\"ROC AUC Score :\", roc_auc_score(y_test,y_pred))"
   ]
  },
  {
   "cell_type": "code",
   "execution_count": 74,
   "id": "e226bb7e",
   "metadata": {},
   "outputs": [
    {
     "name": "stdout",
     "output_type": "stream",
     "text": [
      "1.0\n"
     ]
    }
   ],
   "source": [
    "t = DecisionTreeClassifier(max_depth=40)\n",
    "t.fit(X_train,y_train)\n",
    "t.score(X_train,y_train)\n",
    "\n",
    "dt_train = t.score(X_train,y_train)\n",
    "print(dt_train)"
   ]
  },
  {
   "cell_type": "code",
   "execution_count": 75,
   "id": "b3975dad",
   "metadata": {},
   "outputs": [
    {
     "name": "stdout",
     "output_type": "stream",
     "text": [
      "0.8491317332153523\n"
     ]
    }
   ],
   "source": [
    "t = DecisionTreeClassifier(max_depth=40)\n",
    "t.fit(X_train,y_train)\n",
    "t.score(X_train,y_train)\n",
    "\n",
    "dt_test = t.score(X_test,y_test)\n",
    "print(dt_test)"
   ]
  },
  {
   "cell_type": "code",
   "execution_count": 76,
   "id": "a420f974",
   "metadata": {},
   "outputs": [
    {
     "name": "stdout",
     "output_type": "stream",
     "text": [
      "0.5302713987473904\n"
     ]
    }
   ],
   "source": [
    "t = DecisionTreeClassifier(max_depth=40)\n",
    "t.fit(X_train,y_train)\n",
    "y_pred = t.predict(X_test)\n",
    "\n",
    "dt_f1 = f1_score(y_test,y_pred)\n",
    "print(dt_f1)"
   ]
  },
  {
   "cell_type": "code",
   "execution_count": 77,
   "id": "a6a8d1fa",
   "metadata": {},
   "outputs": [
    {
     "name": "stdout",
     "output_type": "stream",
     "text": [
      "0.7870071057809644\n"
     ]
    }
   ],
   "source": [
    "t = DecisionTreeClassifier(max_depth=40)\n",
    "t.fit(X_train,y_train)\n",
    "y_pred = t.predict(X_test)\n",
    "\n",
    "dt_auroc = roc_auc_score(y_test, y_pred)\n",
    "print(dt_auroc)"
   ]
  },
  {
   "cell_type": "markdown",
   "id": "de4ebee7",
   "metadata": {},
   "source": [
    "# Feature Importance"
   ]
  },
  {
   "cell_type": "code",
   "execution_count": 78,
   "id": "8881a703",
   "metadata": {},
   "outputs": [
    {
     "data": {
      "text/plain": [
       "Index(['age', 'job', 'marital', 'education_qual', 'day', 'dur', 'num_calls',\n",
       "       'y', 'call_type_cellular', 'call_type_telephone', 'call_type_unknown',\n",
       "       'mon_apr', 'mon_aug', 'mon_dec', 'mon_feb', 'mon_jan', 'mon_jul',\n",
       "       'mon_jun', 'mon_mar', 'mon_may', 'mon_nov', 'mon_oct', 'mon_sep',\n",
       "       'prev_outcome_failure', 'prev_outcome_other', 'prev_outcome_success',\n",
       "       'prev_outcome_unknown'],\n",
       "      dtype='object')"
      ]
     },
     "execution_count": 78,
     "metadata": {},
     "output_type": "execute_result"
    }
   ],
   "source": [
    "data.columns"
   ]
  },
  {
   "cell_type": "code",
   "execution_count": 79,
   "id": "8cc0ca85",
   "metadata": {},
   "outputs": [
    {
     "name": "stdout",
     "output_type": "stream",
     "text": [
      "dur:                   0.46323912677645473\n",
      "prev_outcome_unknown:  0.11156490525302344\n",
      "prev_outcome_failure:  0.0687259129055268\n",
      "call_type_unknown:     0.06688292650867556\n",
      "day:                   0.04195918804987189\n",
      "age:                   0.036707633338026\n",
      "prev_outcome_other:    0.03658395019212507\n",
      "mon_may:               0.02427720489786711\n",
      "mon_jul:               0.02137935614883641\n",
      "mon_nov:               0.01941717696031774\n",
      "mon_aug:               0.0167078922278396\n",
      "num_calls:             0.01580091617110937\n",
      "job:                   0.015627572612358708\n",
      "mon_feb:               0.012372455671766227\n",
      "mon_apr:               0.01150243705991214\n",
      "mon_jan:               0.011396478035912093\n",
      "marital:               0.005591557684449935\n",
      "education_qual:        0.00452388060239428\n",
      "prev_outcome_success:  0.003060686546061933\n",
      "call_type_telephone:   0.0027505587708691165\n",
      "call_type_cellular:    0.002451654267632602\n",
      "mon_oct:               0.0022271263040011804\n",
      "mon_jun:               0.0020980803153911745\n",
      "mon_mar:               0.001414244625304536\n",
      "mon_sep:               0.0013218241254427335\n",
      "mon_dec:               0.0004152539488296874\n"
     ]
    }
   ],
   "source": [
    "X_test = pd.DataFrame(X_test, columns = ['age', 'job', 'marital', 'education_qual', 'day', 'dur', 'num_calls',\n",
    "       'call_type_cellular', 'call_type_telephone', 'call_type_unknown',\n",
    "       'mon_apr', 'mon_aug', 'mon_dec', 'mon_feb', 'mon_jan', 'mon_jul',\n",
    "       'mon_jun', 'mon_mar', 'mon_may', 'mon_nov', 'mon_oct', 'mon_sep',\n",
    "       'prev_outcome_failure', 'prev_outcome_other', 'prev_outcome_success',\n",
    "       'prev_outcome_unknown'])\n",
    "\n",
    "# Creating instance of decision tree classifier with maximum depth\n",
    "dtc = DecisionTreeClassifier(max_depth=40)\n",
    "\n",
    "# Fitting the model with training data for prediction\n",
    "dtc.fit(X_train, y_train)\n",
    "\n",
    "# this retrieves the feature importance from the model\n",
    "importance = dtc.feature_importances_\n",
    "\n",
    "# this combines the feature names and its importance in a list of tuples\n",
    "feature_importances = list(zip(X_test.columns, importance))\n",
    "\n",
    "# This sorts the values in descending order (gets the second element of each tuple)\n",
    "feature_importances.sort(key=lambda x: x[1], reverse=True)\n",
    "\n",
    "# Finding the maximum length of feature names for consistent spacing\n",
    "max_length = max(len(feature) for feature, _ in feature_importances)\n",
    "\n",
    "# Printing the sorted feature importances with consistent spacing\n",
    "for feature, importance in feature_importances:\n",
    "    spacing = ' ' * (max_length - len(feature) + 1)\n",
    "    print(feature + ':' + spacing, importance)"
   ]
  },
  {
   "cell_type": "markdown",
   "id": "2afe9389",
   "metadata": {},
   "source": [
    "The Feature importance is \n",
    "\n",
    "1) Duration of the call\n",
    "\n",
    "2) Previous outcome unknown\n",
    "\n",
    "3) Call type unknown"
   ]
  },
  {
   "cell_type": "markdown",
   "id": "5db274fb",
   "metadata": {},
   "source": [
    "# (c) K-Nearest Neighbour "
   ]
  },
  {
   "cell_type": "code",
   "execution_count": 80,
   "id": "8c47382b",
   "metadata": {},
   "outputs": [
    {
     "name": "stdout",
     "output_type": "stream",
     "text": [
      "K value  :  1  Train score :  1.0  Cross val score :  0.9950790937560161\n",
      "K value  :  2  Train score :  0.9998831411654721  Cross val score :  0.995187562824871\n",
      "K value  :  3  Train score :  0.9962605172951076  Cross val score :  0.9865885003703957\n",
      "K value  :  4  Train score :  0.9962020878778436  Cross val score :  0.9875270410969351\n",
      "K value  :  5  Train score :  0.988314116547211  Cross val score :  0.9764490689609534\n",
      "K value  :  6  Train score :  0.9896579931442817  Cross val score :  0.9778739142232711\n",
      "K value  :  7  Train score :  0.9800755687129947  Cross val score :  0.967355779419567\n",
      "K value  :  8  Train score :  0.9814194453100654  Cross val score :  0.9692805065248938\n",
      "K value  :  9  Train score :  0.9705320972265503  Cross val score :  0.9603605363721408\n",
      "K value  :  10  Train score :  0.9725186974135245  Cross val score :  0.9622847282321322\n",
      "K value  :  20  Train score :  0.9393502648800249  Cross val score :  0.9379908099431222\n",
      "K value  :  30  Train score :  0.9206138984107198  Cross val score :  0.9238437113022038\n",
      "K value  :  40  Train score :  0.9061818323465254  Cross val score :  0.9118117327763\n",
      "K value  :  50  Train score :  0.8941453723901527  Cross val score :  0.9034390070988095\n"
     ]
    }
   ],
   "source": [
    "for i in [1,2,3,4,5,6,7,8,9,10,20,30,40,50]:\n",
    "    knn= KNeighborsClassifier(i)\n",
    "    knn.fit(X_train, y_train)\n",
    "    print(\"K value  : \" , i, \" Train score : \", knn.score(X_train,y_train) , \" Cross val score : \", np.mean(cross_val_score(knn, X_train, y_train, cv=10, scoring='f1')))"
   ]
  },
  {
   "cell_type": "code",
   "execution_count": 81,
   "id": "d5f45e03",
   "metadata": {},
   "outputs": [
    {
     "name": "stdout",
     "output_type": "stream",
     "text": [
      "Training Accuracy : 0.9962020878778436\n",
      "Testing Accuracy : 0.7154075876562327\n",
      "F1 Score : 0.373508643778914\n",
      "ROC AUC Score : 0.7145774775353392\n"
     ]
    }
   ],
   "source": [
    "knn = KNeighborsClassifier(4)\n",
    "knn.fit(X_train,y_train)\n",
    "y_pred = knn.predict(X_test)\n",
    "print(\"Training Accuracy :\",knn.score(X_train,y_train))\n",
    "print(\"Testing Accuracy :\",knn.score(X_test,y_test))\n",
    "print(\"F1 Score :\", f1_score(y_test,y_pred))\n",
    "print(\"ROC AUC Score :\", roc_auc_score(y_test,y_pred))"
   ]
  },
  {
   "cell_type": "code",
   "execution_count": 82,
   "id": "a59abbdf",
   "metadata": {},
   "outputs": [
    {
     "name": "stdout",
     "output_type": "stream",
     "text": [
      "0.9962020878778436\n"
     ]
    }
   ],
   "source": [
    "knn = KNeighborsClassifier(4)\n",
    "knn.fit(X_train,y_train)\n",
    "knn.score(X_train,y_train)\n",
    "\n",
    "knn_train = knn.score(X_train,y_train)\n",
    "print(knn_train)"
   ]
  },
  {
   "cell_type": "code",
   "execution_count": 83,
   "id": "d754e3c9",
   "metadata": {},
   "outputs": [
    {
     "name": "stdout",
     "output_type": "stream",
     "text": [
      "0.7154075876562327\n"
     ]
    }
   ],
   "source": [
    "knn = KNeighborsClassifier(4)\n",
    "knn.fit(X_train,y_train)\n",
    "knn.score(X_train,y_train)\n",
    "\n",
    "knn_test = knn.score(X_test,y_test)\n",
    "print(knn_test)"
   ]
  },
  {
   "cell_type": "code",
   "execution_count": 84,
   "id": "5b365817",
   "metadata": {},
   "outputs": [
    {
     "name": "stdout",
     "output_type": "stream",
     "text": [
      "0.373508643778914\n"
     ]
    }
   ],
   "source": [
    "knn = KNeighborsClassifier(4)\n",
    "knn.fit(X_train,y_train)\n",
    "y_pred = knn.predict(X_test)\n",
    "\n",
    "knn_f1 = f1_score(y_test,y_pred)\n",
    "print(knn_f1)"
   ]
  },
  {
   "cell_type": "code",
   "execution_count": 85,
   "id": "706b526d",
   "metadata": {},
   "outputs": [
    {
     "name": "stdout",
     "output_type": "stream",
     "text": [
      "0.7145774775353392\n"
     ]
    }
   ],
   "source": [
    "knn = KNeighborsClassifier(4)\n",
    "knn.fit(X_train,y_train)\n",
    "y_pred = knn.predict(X_test)\n",
    "\n",
    "knn_auroc = roc_auc_score(y_test, y_pred)\n",
    "print(knn_auroc)"
   ]
  },
  {
   "cell_type": "markdown",
   "id": "c2287ad6",
   "metadata": {},
   "source": [
    "# (d) XG-Boost"
   ]
  },
  {
   "cell_type": "code",
   "execution_count": 86,
   "id": "f1f50a8e",
   "metadata": {},
   "outputs": [
    {
     "name": "stdout",
     "output_type": "stream",
     "text": [
      "Learning rate :  0.01  Train score :  0.9453879713306326  Cross-Val score :  0.9460678689806853\n",
      "Learning rate :  0.02  Train score :  0.9505297600498598  Cross-Val score :  0.9524026934313639\n",
      "Learning rate :  0.03  Train score :  0.9578529136802743  Cross-Val score :  0.9580393605421597\n",
      "Learning rate :  0.04  Train score :  0.9654876908694298  Cross-Val score :  0.9635618130446721\n",
      "Learning rate :  0.05  Train score :  0.9692856029915862  Cross-Val score :  0.9660383232686807\n",
      "Learning rate :  0.06  Train score :  0.97156435026488  Cross-Val score :  0.9672676955678581\n",
      "Learning rate :  0.07  Train score :  0.9732588033655344  Cross-Val score :  0.9674595645278163\n",
      "Learning rate :  0.08  Train score :  0.9741352446244936  Cross-Val score :  0.9677798925940969\n",
      "Learning rate :  0.09  Train score :  0.9749922094110315  Cross-Val score :  0.9679374542812125\n",
      "Learning rate :  0.1  Train score :  0.9762581801184169  Cross-Val score :  0.9681605618047893\n",
      "Learning rate :  0.11  Train score :  0.9762192271735743  Cross-Val score :  0.9688322188487503\n",
      "Learning rate :  0.12  Train score :  0.9769593331255843  Cross-Val score :  0.9687005945338063\n",
      "Learning rate :  0.13  Train score :  0.9778747273293861  Cross-Val score :  0.9691076110135995\n",
      "Learning rate :  0.14  Train score :  0.9787511685883453  Cross-Val score :  0.968956992665791\n",
      "Learning rate :  0.15  Train score :  0.9787901215331879  Cross-Val score :  0.9684874210753041\n",
      "Learning rate :  0.2  Train score :  0.9816142100342786  Cross-Val score :  0.9684983387753912\n",
      "Learning rate :  0.5  Train score :  0.9944686818323465  Cross-Val score :  0.970185316889696\n",
      "Learning rate :  0.7  Train score :  0.9977991586163913  Cross-Val score :  0.9700857200980731\n",
      "Learning rate :  1  Train score :  0.9994546587722032  Cross-Val score :  0.9698833809690249\n"
     ]
    }
   ],
   "source": [
    "for i in [0.01,0.02,0.03,0.04,0.05,0.06,0.07,0.08,0.09,0.1,0.11,0.12,0.13,0.14,0.15,0.2,0.5,0.7,1]:\n",
    "    model = xgb.XGBClassifier(learning_rate = i, n_estimators=100, verbosity = 0)\n",
    "    model.fit(X_train,y_train)\n",
    "    model.score(X_test, y_test)\n",
    "    \n",
    "    print(\"Learning rate : \", i, \" Train score : \", model.score(X_train,y_train), \" Cross-Val score : \", np.mean(cross_val_score(model, X_train, y_train, cv=10, scoring='f1')))"
   ]
  },
  {
   "cell_type": "code",
   "execution_count": 87,
   "id": "a83bb754",
   "metadata": {},
   "outputs": [
    {
     "name": "stdout",
     "output_type": "stream",
     "text": [
      "Training Accuracy : 0.9816142100342786\n",
      "Testing Accuracy : 0.8780002212144674\n",
      "F1 Score : 0.6125746399719002\n",
      "ROC AUC Score : 0.8490913124967157\n"
     ]
    }
   ],
   "source": [
    "xg = XGBClassifier(learning_rate = 0.2, n_estimators=100, verbosity = 0)\n",
    "xg.fit(X_train,y_train)\n",
    "y_pred = xg.predict(X_test)\n",
    "print(\"Training Accuracy :\",xg.score(X_train,y_train))\n",
    "print(\"Testing Accuracy :\",xg.score(X_test,y_test))\n",
    "print(\"F1 Score :\", f1_score(y_test,y_pred))\n",
    "print(\"ROC AUC Score :\", roc_auc_score(y_test,y_pred))"
   ]
  },
  {
   "cell_type": "code",
   "execution_count": 88,
   "id": "41d5bcce",
   "metadata": {},
   "outputs": [
    {
     "name": "stdout",
     "output_type": "stream",
     "text": [
      "0.9944686818323465\n"
     ]
    }
   ],
   "source": [
    "xg = XGBClassifier(learning_rate = 0.5, n_estimators=100, verbosity = 0)\n",
    "xg.fit(X_train,y_train)\n",
    "xg.score(X_train,y_train)\n",
    "\n",
    "xg_train = xg.score(X_train,y_train)\n",
    "print(xg_train)"
   ]
  },
  {
   "cell_type": "code",
   "execution_count": 89,
   "id": "3be8e376",
   "metadata": {},
   "outputs": [
    {
     "name": "stdout",
     "output_type": "stream",
     "text": [
      "0.8703683220882645\n"
     ]
    }
   ],
   "source": [
    "xg = XGBClassifier(learning_rate = 0.5, n_estimators=100, verbosity = 0)\n",
    "xg.fit(X_train,y_train)\n",
    "xg.score(X_train,y_train)\n",
    "\n",
    "xg_test = xg.score(X_test,y_test)\n",
    "print(xg_test)"
   ]
  },
  {
   "cell_type": "code",
   "execution_count": 90,
   "id": "373261e8",
   "metadata": {},
   "outputs": [
    {
     "name": "stdout",
     "output_type": "stream",
     "text": [
      "0.5876143560872624\n"
     ]
    }
   ],
   "source": [
    "xg = XGBClassifier(learning_rate = 0.5, n_estimators=100, verbosity = 0)\n",
    "xg.fit(X_train,y_train)\n",
    "y_pred = xg.predict(X_test)\n",
    "\n",
    "xg_f1 = f1_score(y_test,y_pred)\n",
    "print(xg_f1)"
   ]
  },
  {
   "cell_type": "code",
   "execution_count": 91,
   "id": "384502e4",
   "metadata": {},
   "outputs": [
    {
     "name": "stdout",
     "output_type": "stream",
     "text": [
      "0.8298734738919478\n"
     ]
    }
   ],
   "source": [
    "xg = XGBClassifier(learning_rate = 0.5, n_estimators=100, verbosity = 0)\n",
    "xg.fit(X_train,y_train)\n",
    "y_pred = xg.predict(X_test)\n",
    "\n",
    "xg_auroc = roc_auc_score(y_test, y_pred)\n",
    "print(xg_auroc)"
   ]
  },
  {
   "cell_type": "markdown",
   "id": "b4d4475e",
   "metadata": {},
   "source": [
    "# Feature Importance for XG-Boost"
   ]
  },
  {
   "cell_type": "code",
   "execution_count": 114,
   "id": "f0711f77",
   "metadata": {},
   "outputs": [
    {
     "data": {
      "text/plain": [
       "Index(['age', 'job', 'marital', 'education_qual', 'day', 'dur', 'num_calls',\n",
       "       'y', 'call_type_cellular', 'call_type_telephone', 'call_type_unknown',\n",
       "       'mon_apr', 'mon_aug', 'mon_dec', 'mon_feb', 'mon_jan', 'mon_jul',\n",
       "       'mon_jun', 'mon_mar', 'mon_may', 'mon_nov', 'mon_oct', 'mon_sep',\n",
       "       'prev_outcome_failure', 'prev_outcome_other', 'prev_outcome_success',\n",
       "       'prev_outcome_unknown'],\n",
       "      dtype='object')"
      ]
     },
     "execution_count": 114,
     "metadata": {},
     "output_type": "execute_result"
    }
   ],
   "source": [
    "data.columns"
   ]
  },
  {
   "cell_type": "code",
   "execution_count": 93,
   "id": "2be712b7",
   "metadata": {},
   "outputs": [
    {
     "name": "stdout",
     "output_type": "stream",
     "text": [
      "call_type_unknown:     0.14078005\n",
      "prev_outcome_failure:  0.1400134\n",
      "prev_outcome_unknown:  0.1246772\n",
      "prev_outcome_other:    0.12263654\n",
      "mon_jul:               0.07246526\n",
      "mon_nov:               0.06639536\n",
      "mon_may:               0.05442979\n",
      "mon_aug:               0.046839066\n",
      "mon_jan:               0.041852377\n",
      "dur:                   0.03821348\n",
      "mon_feb:               0.023275036\n",
      "mon_apr:               0.022907108\n",
      "mon_jun:               0.014575804\n",
      "prev_outcome_success:  0.012449725\n",
      "mon_sep:               0.010233977\n",
      "call_type_telephone:   0.0101187825\n",
      "num_calls:             0.009457218\n",
      "mon_oct:               0.008974382\n",
      "mon_dec:               0.00795784\n",
      "call_type_cellular:    0.007423832\n",
      "day:                   0.0054357816\n",
      "job:                   0.0052865604\n",
      "age:                   0.0049239607\n",
      "mon_mar:               0.0037974461\n",
      "marital:               0.0024498722\n",
      "education_qual:        0.0024301447\n"
     ]
    }
   ],
   "source": [
    "X_test = pd.DataFrame(X_test, columns = ['age', 'job', 'marital', 'education_qual', 'day', 'dur', 'num_calls',\n",
    "       'call_type_cellular', 'call_type_telephone', 'call_type_unknown',\n",
    "       'mon_apr', 'mon_aug', 'mon_dec', 'mon_feb', 'mon_jan', 'mon_jul',\n",
    "       'mon_jun', 'mon_mar', 'mon_may', 'mon_nov', 'mon_oct', 'mon_sep',\n",
    "       'prev_outcome_failure', 'prev_outcome_other', 'prev_outcome_success',\n",
    "       'prev_outcome_unknown'])\n",
    "\n",
    "# Creating instance of decision tree classifier with maximum depth\n",
    "xgboost_model = xgb.XGBClassifier(learning_rate = 0.5)\n",
    "\n",
    "# Fitting the model with training data for prediction\n",
    "xgboost_model.fit(X_train, y_train)\n",
    "\n",
    "# this retrieves the feature importance from the model\n",
    "importance = xgboost_model.feature_importances_\n",
    "\n",
    "# this combines the feature names and its importance in a list of tuples\n",
    "feature_importances = list(zip(X_test.columns, importance))\n",
    "\n",
    "# This sorts the values in descending order (gets the second element of each tuple)\n",
    "feature_importances.sort(key=lambda x: x[1], reverse=True)\n",
    "\n",
    "# Finding the maximum length of feature names for consistent spacing\n",
    "max_length = max(len(feature) for feature, _ in feature_importances)\n",
    "\n",
    "# Printing the sorted feature importances with consistent spacing\n",
    "for feature, importance in feature_importances:\n",
    "    spacing = ' ' * (max_length - len(feature) + 1)\n",
    "    print(feature + ':' + spacing, importance)"
   ]
  },
  {
   "cell_type": "markdown",
   "id": "821905f2",
   "metadata": {},
   "source": [
    "The feature importance is:\n",
    "\n",
    "1) call_type Unknown\n",
    "\n",
    "2) Prev_outcome_unknown\n",
    "\n",
    "3) Prev_outcome_failure"
   ]
  },
  {
   "cell_type": "markdown",
   "id": "ca56e01f",
   "metadata": {},
   "source": [
    "# (e) Random Forest"
   ]
  },
  {
   "cell_type": "code",
   "execution_count": 94,
   "id": "2a9f0b2b",
   "metadata": {},
   "outputs": [],
   "source": [
    "random = RandomForestClassifier(max_depth=2,n_estimators=100,max_features=\"sqrt\")\n",
    "random.fit(X_train, y_train)\n",
    "y_pred= random.predict(X_test)"
   ]
  },
  {
   "cell_type": "code",
   "execution_count": 95,
   "id": "d2b6e366",
   "metadata": {},
   "outputs": [
    {
     "name": "stdout",
     "output_type": "stream",
     "text": [
      "Depth  :  1  Training Accuracy :  1.0  Cross val score :  0.8937229493748011\n",
      "Depth  :  2  Training Accuracy :  1.0  Cross val score :  0.8990466359863485\n",
      "Depth  :  3  Training Accuracy :  1.0  Cross val score :  0.8935138461562306\n",
      "Depth  :  4  Training Accuracy :  1.0  Cross val score :  0.8928033410201076\n",
      "Depth  :  5  Training Accuracy :  1.0  Cross val score :  0.892232633486867\n",
      "Depth  :  6  Training Accuracy :  1.0  Cross val score :  0.8937727291739744\n",
      "Depth  :  7  Training Accuracy :  1.0  Cross val score :  0.8957945971982358\n",
      "Depth  :  8  Training Accuracy :  1.0  Cross val score :  0.8875247937287385\n",
      "Depth  :  9  Training Accuracy :  1.0  Cross val score :  0.8884031973143681\n",
      "Depth  :  10  Training Accuracy :  1.0  Cross val score :  0.8935258872851005\n"
     ]
    }
   ],
   "source": [
    "for depth in [1,2,3,4,5,6,7,8,9,10]:\n",
    "    random = RandomForestClassifier(max_depth=2,n_estimators=100,max_features=\"sqrt\")\n",
    "    random.fit(X_train, y_train)\n",
    "    random = RandomForestClassifier(max_depth=2,n_estimators=100,max_features=\"sqrt\")\n",
    "    valAccuracy = cross_val_score(random, X_train, y_train, cv=10, scoring='f1')\n",
    "    \n",
    "    print(\"Depth  : \", depth, \" Training Accuracy : \", trainAccuracy, \" Cross val score : \" ,np.mean(valAccuracy))"
   ]
  },
  {
   "cell_type": "code",
   "execution_count": 96,
   "id": "176281d0",
   "metadata": {},
   "outputs": [
    {
     "name": "stdout",
     "output_type": "stream",
     "text": [
      "Training Accuracy : 0.9639685260205672\n",
      "Testing Accuracy : 0.8361906868709214\n",
      "F1 Score : 0.5551216581556022\n",
      "ROC AUC Score : 0.8462876527567744\n"
     ]
    }
   ],
   "source": [
    "random = RandomForestClassifier(n_estimators= 100, max_depth = 10, max_features='sqrt')\n",
    "random.fit(X_train, y_train)\n",
    "predictions = random.predict(X_test)\n",
    "print(\"Training Accuracy :\",random.score(X_train,y_train))\n",
    "print(\"Testing Accuracy :\",random.score(X_test,y_test))\n",
    "print(\"F1 Score :\", f1_score(y_test,predictions))\n",
    "print(\"ROC AUC Score :\", roc_auc_score(y_test,predictions))\n"
   ]
  },
  {
   "cell_type": "code",
   "execution_count": 97,
   "id": "f3b6fcee",
   "metadata": {},
   "outputs": [
    {
     "name": "stdout",
     "output_type": "stream",
     "text": [
      "0.9635010906824556\n"
     ]
    }
   ],
   "source": [
    "random = RandomForestClassifier(n_estimators= 100, max_depth = 10, max_features='sqrt')\n",
    "random.fit(X_train, y_train)\n",
    "random.score(X_train,y_train)\n",
    "\n",
    "random_train = random.score(X_train,y_train)\n",
    "print(random_train)"
   ]
  },
  {
   "cell_type": "code",
   "execution_count": 98,
   "id": "1a9f3de9",
   "metadata": {},
   "outputs": [
    {
     "name": "stdout",
     "output_type": "stream",
     "text": [
      "0.8398407255834531\n"
     ]
    }
   ],
   "source": [
    "random = RandomForestClassifier(n_estimators= 100, max_depth = 10, max_features='sqrt')\n",
    "random.fit(X_train, y_train)\n",
    "random.score(X_train,y_train)\n",
    "\n",
    "random_test = random.score(X_test,y_test)\n",
    "print(random_test)"
   ]
  },
  {
   "cell_type": "code",
   "execution_count": 99,
   "id": "af0c1512",
   "metadata": {},
   "outputs": [
    {
     "name": "stdout",
     "output_type": "stream",
     "text": [
      "0.5534097767048883\n"
     ]
    }
   ],
   "source": [
    "random = RandomForestClassifier(n_estimators= 100, max_depth = 10, max_features='sqrt')\n",
    "random.fit(X_train, y_train)\n",
    "predictions = random.predict(X_test)\n",
    "\n",
    "random_f1 = f1_score(y_test,predictions)\n",
    "print(random_f1)"
   ]
  },
  {
   "cell_type": "code",
   "execution_count": 100,
   "id": "c93ff2b0",
   "metadata": {},
   "outputs": [
    {
     "name": "stdout",
     "output_type": "stream",
     "text": [
      "0.8460591233673345\n"
     ]
    }
   ],
   "source": [
    "random = RandomForestClassifier(n_estimators= 100, max_depth = 10, max_features='sqrt')\n",
    "random.fit(X_train, y_train)\n",
    "predictions = random.predict(X_test)\n",
    "\n",
    "random_auroc = roc_auc_score(y_test,predictions)\n",
    "print(random_auroc)"
   ]
  },
  {
   "cell_type": "code",
   "execution_count": 101,
   "id": "fd94c5b9",
   "metadata": {},
   "outputs": [
    {
     "data": {
      "text/plain": [
       "Index(['age', 'job', 'marital', 'education_qual', 'day', 'dur', 'num_calls',\n",
       "       'y', 'call_type_cellular', 'call_type_telephone', 'call_type_unknown',\n",
       "       'mon_apr', 'mon_aug', 'mon_dec', 'mon_feb', 'mon_jan', 'mon_jul',\n",
       "       'mon_jun', 'mon_mar', 'mon_may', 'mon_nov', 'mon_oct', 'mon_sep',\n",
       "       'prev_outcome_failure', 'prev_outcome_other', 'prev_outcome_success',\n",
       "       'prev_outcome_unknown'],\n",
       "      dtype='object')"
      ]
     },
     "execution_count": 101,
     "metadata": {},
     "output_type": "execute_result"
    }
   ],
   "source": [
    "data.columns"
   ]
  },
  {
   "cell_type": "markdown",
   "id": "22518dce",
   "metadata": {},
   "source": [
    "# CONCLUSION"
   ]
  },
  {
   "cell_type": "code",
   "execution_count": 102,
   "id": "05869aef",
   "metadata": {},
   "outputs": [],
   "source": [
    "# Creating a dataframe to analyse the best value of F1_Score\n",
    "models = {'Model_Classifier':['Logistic Regression','Decision Tree','K-Nearest Neighbour','XG-Boost','Random Forest'],\n",
    "          'Train_Accuracy':[lr_Train,dt_train,knn_train,xg_train,random_train],\n",
    "          'Test_Accuracy': [lr_Test,dt_test,knn_test,xg_test,random_test],\n",
    "          'roc_auc_score': [lr_auroc,dt_auroc,knn_auroc,xg_auroc,random_auroc],\n",
    "          'F1_Score':      [lr_f1,dt_f1,knn_f1,xg_f1,random_f1]}"
   ]
  },
  {
   "cell_type": "code",
   "execution_count": 103,
   "id": "28c0dd43",
   "metadata": {},
   "outputs": [
    {
     "data": {
      "text/html": [
       "<style type=\"text/css\">\n",
       "#T_7868b th {\n",
       "  text-align: center;\n",
       "}\n",
       "#T_7868b_row0_col0, #T_7868b_row0_col1, #T_7868b_row0_col2, #T_7868b_row0_col3, #T_7868b_row0_col4, #T_7868b_row1_col0, #T_7868b_row1_col1, #T_7868b_row1_col2, #T_7868b_row1_col3, #T_7868b_row1_col4, #T_7868b_row2_col0, #T_7868b_row2_col1, #T_7868b_row2_col2, #T_7868b_row2_col3, #T_7868b_row2_col4, #T_7868b_row3_col0, #T_7868b_row3_col1, #T_7868b_row3_col2, #T_7868b_row3_col3, #T_7868b_row3_col4, #T_7868b_row4_col0, #T_7868b_row4_col1, #T_7868b_row4_col2, #T_7868b_row4_col3, #T_7868b_row4_col4 {\n",
       "  text-align: center;\n",
       "  white-space: pre;\n",
       "}\n",
       "</style>\n",
       "<table id=\"T_7868b\">\n",
       "  <thead>\n",
       "    <tr>\n",
       "      <th class=\"blank level0\" >&nbsp;</th>\n",
       "      <th id=\"T_7868b_level0_col0\" class=\"col_heading level0 col0\" >Model_Classifier</th>\n",
       "      <th id=\"T_7868b_level0_col1\" class=\"col_heading level0 col1\" >Train_Accuracy</th>\n",
       "      <th id=\"T_7868b_level0_col2\" class=\"col_heading level0 col2\" >Test_Accuracy</th>\n",
       "      <th id=\"T_7868b_level0_col3\" class=\"col_heading level0 col3\" >roc_auc_score</th>\n",
       "      <th id=\"T_7868b_level0_col4\" class=\"col_heading level0 col4\" >F1_Score</th>\n",
       "    </tr>\n",
       "  </thead>\n",
       "  <tbody>\n",
       "    <tr>\n",
       "      <th id=\"T_7868b_level0_row0\" class=\"row_heading level0 row0\" >0</th>\n",
       "      <td id=\"T_7868b_row0_col0\" class=\"data row0 col0\" >Logistic Regression</td>\n",
       "      <td id=\"T_7868b_row0_col1\" class=\"data row0 col1\" >0.918335</td>\n",
       "      <td id=\"T_7868b_row0_col2\" class=\"data row0 col2\" >0.793054</td>\n",
       "      <td id=\"T_7868b_row0_col3\" class=\"data row0 col3\" >0.800082</td>\n",
       "      <td id=\"T_7868b_row0_col4\" class=\"data row0 col4\" >0.481861</td>\n",
       "    </tr>\n",
       "    <tr>\n",
       "      <th id=\"T_7868b_level0_row1\" class=\"row_heading level0 row1\" >1</th>\n",
       "      <td id=\"T_7868b_row1_col0\" class=\"data row1 col0\" >Decision Tree</td>\n",
       "      <td id=\"T_7868b_row1_col1\" class=\"data row1 col1\" >1.000000</td>\n",
       "      <td id=\"T_7868b_row1_col2\" class=\"data row1 col2\" >0.849132</td>\n",
       "      <td id=\"T_7868b_row1_col3\" class=\"data row1 col3\" >0.787007</td>\n",
       "      <td id=\"T_7868b_row1_col4\" class=\"data row1 col4\" >0.530271</td>\n",
       "    </tr>\n",
       "    <tr>\n",
       "      <th id=\"T_7868b_level0_row2\" class=\"row_heading level0 row2\" >2</th>\n",
       "      <td id=\"T_7868b_row2_col0\" class=\"data row2 col0\" >K-Nearest Neighbour</td>\n",
       "      <td id=\"T_7868b_row2_col1\" class=\"data row2 col1\" >0.996202</td>\n",
       "      <td id=\"T_7868b_row2_col2\" class=\"data row2 col2\" >0.715408</td>\n",
       "      <td id=\"T_7868b_row2_col3\" class=\"data row2 col3\" >0.714577</td>\n",
       "      <td id=\"T_7868b_row2_col4\" class=\"data row2 col4\" >0.373509</td>\n",
       "    </tr>\n",
       "    <tr>\n",
       "      <th id=\"T_7868b_level0_row3\" class=\"row_heading level0 row3\" >3</th>\n",
       "      <td id=\"T_7868b_row3_col0\" class=\"data row3 col0\" >XG-Boost</td>\n",
       "      <td id=\"T_7868b_row3_col1\" class=\"data row3 col1\" >0.994469</td>\n",
       "      <td id=\"T_7868b_row3_col2\" class=\"data row3 col2\" >0.870368</td>\n",
       "      <td id=\"T_7868b_row3_col3\" class=\"data row3 col3\" >0.829873</td>\n",
       "      <td id=\"T_7868b_row3_col4\" class=\"data row3 col4\" >0.587614</td>\n",
       "    </tr>\n",
       "    <tr>\n",
       "      <th id=\"T_7868b_level0_row4\" class=\"row_heading level0 row4\" >4</th>\n",
       "      <td id=\"T_7868b_row4_col0\" class=\"data row4 col0\" >Random Forest</td>\n",
       "      <td id=\"T_7868b_row4_col1\" class=\"data row4 col1\" >0.963501</td>\n",
       "      <td id=\"T_7868b_row4_col2\" class=\"data row4 col2\" >0.839841</td>\n",
       "      <td id=\"T_7868b_row4_col3\" class=\"data row4 col3\" >0.846059</td>\n",
       "      <td id=\"T_7868b_row4_col4\" class=\"data row4 col4\" >0.553410</td>\n",
       "    </tr>\n",
       "  </tbody>\n",
       "</table>\n"
      ],
      "text/plain": [
       "<pandas.io.formats.style.Styler at 0x17d8e66dab0>"
      ]
     },
     "metadata": {},
     "output_type": "display_data"
    }
   ],
   "source": [
    "# Assuming `models` is a list of models\n",
    "mdf = pd.DataFrame(models)\n",
    "\n",
    "# Applying alignment using the `style` attribute\n",
    "mdf_styled = mdf.style.set_properties(**{'text-align': 'center', 'white-space': 'pre'}).set_table_styles([{'selector': 'th', 'props': [('text-align', 'center')]}])\n",
    "\n",
    "# Displaying the styled dataframe\n",
    "display(mdf_styled)"
   ]
  },
  {
   "cell_type": "markdown",
   "id": "27ab9cf0",
   "metadata": {},
   "source": [
    "Hence, XG-Boost classifier gives the highest value for F1_Score"
   ]
  },
  {
   "cell_type": "code",
   "execution_count": 104,
   "id": "1c928827",
   "metadata": {},
   "outputs": [],
   "source": [
    "import pickle\n",
    "pickle_out = open(\"CCP.pkl\",\"wb\")\n",
    "pickle.dump(xg, pickle_out)\n",
    "pickle_out.close()"
   ]
  },
  {
   "cell_type": "code",
   "execution_count": 110,
   "id": "c169e848",
   "metadata": {},
   "outputs": [
    {
     "name": "stdout",
     "output_type": "stream",
     "text": [
      "Overwriting app.py\n"
     ]
    }
   ],
   "source": [
    "%%writefile app.py\n",
    "import pickle\n",
    "import streamlit as st\n",
    "from PIL import Image\n",
    "import pandas as pd\n",
    "\n",
    "data=pd.read_csv(\"Streamlit_data.csv\")\n",
    "\n",
    "pickle_in = open(\"CCP.pkl\",\"rb\")\n",
    "CCP=pickle.load(pickle_in)\n",
    "\n",
    "def main():\n",
    "    # Create a page dropdown\n",
    "    image = Image.open('health-insurance.jpg')\n",
    "    st.sidebar.image(image,width=100)\n",
    "    st.sidebar.title(\"Insurance Prediction\")\n",
    "    col1, col2 = st.columns( [0.5, 0.5])\n",
    "    with col1:\n",
    "        st.title(\"Insurance prediction\")   \n",
    "    with col2:\n",
    "       st.image(image,  width=150)\n",
    "    page = st.sidebar.selectbox(\"Select One\", [\"PREDICTION\",'ABOUT'])\n",
    "    if page == \"ABOUT\":\n",
    "        st.title('Welcome to Insurance Prediction')\n",
    "        st.write('Creator Profile:')\n",
    "        st.write('**Creators:** Clinton')\n",
    "        \n",
    "    if page == \"PREDICTION\":\n",
    "        st.title('PREDICTION')\n",
    "        age = st.slider(\"select the Age of the person\",int(data.age.min()),int(data.age.max()))\n",
    "        job = st.selectbox(\"Select the Occupation \",data.job.unique())\n",
    "        if job == 'blue-collar':\n",
    "            grouped=data[data['job']=='blue-collar']\n",
    "            job = 0\n",
    "        elif job == 'entrepreneur':\n",
    "            grouped=data[data['job']=='entrepreneur']\n",
    "            job = 1\n",
    "        elif job == 'housemaid':\n",
    "            grouped=data[data['job']=='housemaid']\n",
    "            job = 2\n",
    "        elif job == 'services':\n",
    "            grouped=data[data['job']=='services']\n",
    "            job = 3\n",
    "        elif job == 'technician':\n",
    "            grouped=data[data['job']=='technician']\n",
    "            job = 4\n",
    "        elif job == 'self-employed':\n",
    "            grouped=data[data['job']=='self-employed']\n",
    "            job = 5\n",
    "        elif job == 'admin.':\n",
    "            grouped=data[data['job']=='admin.']\n",
    "            job= 6\n",
    "        elif job == 'management':\n",
    "            grouped=data[data['job']=='management']\n",
    "            job= 7\n",
    "        elif job == 'unemployed':\n",
    "            grouped=data[data['job']=='unemployed']\n",
    "            job= 8\n",
    "        elif job == 'retired':\n",
    "            grouped=data[data['job']=='retired']\n",
    "            job= 9\n",
    "        elif job == 'student':\n",
    "            grouped=data[data['job']=='student']\n",
    "            job=10\n",
    "            \n",
    "        education_qual = st.selectbox(\"Select the Education qualification \",data.education_qual.unique())\n",
    "        if education_qual == 'primary':\n",
    "            grouped=data[data['education_qual']=='primary']\n",
    "            education_qual = 0\n",
    "        elif education_qual == 'secondary':\n",
    "            grouped=data[data['education_qual']=='secondary']\n",
    "            education_qual=1\n",
    "        elif education_qual == 'tertiary':\n",
    "            grouped=data[data['education_qual']=='tertiary']\n",
    "            education_qual=2\n",
    "            \n",
    "        marital = st.selectbox(\"Select the Marital status \",data.marital.unique())\n",
    "        if marital == 'married':\n",
    "            grouped=data[data['marital']=='married']\n",
    "            marital = 0\n",
    "        elif marital == 'divorced':\n",
    "            grouped=data[data['marital']=='divorced']\n",
    "            marital=1\n",
    "        elif marital == 'single':\n",
    "            grouped=data[data['marital']=='single']\n",
    "            marital=2\n",
    "            \n",
    "        day = st.slider(\"select the day \",int(data.day.min()),int(data.day.max()))\n",
    "        st.write('**from 0 to 11 is jan to dec')\n",
    "        mon = st.slider(\"select the Month \",0,11)\n",
    "        dur = st.slider(\"select the Call duration \",int(data.dur.min()),int(data.dur.max()))\n",
    "        num_calls = st.slider(\"select the Number of calls made to customer \",int(data.num_calls.min()),int(data.num_calls.max()))\n",
    "        \n",
    "        call_type = st.selectbox(\"Select the Call type \",data.call_type.unique())\n",
    "        if call_type == 'cellular':\n",
    "            call_type_cellular = 1\n",
    "        else:\n",
    "            call_type_cellular = 0\n",
    "            \n",
    "        if call_type == 'telephone':\n",
    "            call_type_telephone = 1\n",
    "        else:\n",
    "            call_type_telephone = 0\n",
    "        \n",
    "        if call_type == 'unknown':\n",
    "            call_type_unknown = 1\n",
    "        else:\n",
    "            call_type_unknown = 0\n",
    "            \n",
    "        prev_outcome = st.selectbox(\"Select the Previous Outcome \",data.prev_outcome.unique())\n",
    "        if prev_outcome == 'failure':\n",
    "            prev_outcome_failure=1\n",
    "        else:\n",
    "            prev_outcome_failure=0\n",
    "\n",
    "        if prev_outcome == 'other':\n",
    "            prev_outcome_other=1\n",
    "        else:\n",
    "            prev_outcome_other=0\n",
    "        \n",
    "        if prev_outcome == 'success':\n",
    "            prev_outcome_success=1\n",
    "        else:\n",
    "            prev_outcome_success=0\n",
    "\n",
    "        if prev_outcome == 'unknown':\n",
    "            prev_outcome_unknown=1\n",
    "        else:\n",
    "            prev_outcome_unknown=0\n",
    "            \n",
    "        input = pd.DataFrame([['age', 'job', 'marital', 'education_qual', 'day', 'dur', 'num_calls',\n",
    "                               'y', 'call_type_cellular', 'call_type_telephone', 'call_type_unknown',\n",
    "                               'mon_apr', 'mon_aug', 'mon_dec', 'mon_feb', 'mon_jan', 'mon_jul',\n",
    "                               'mon_jun', 'mon_mar', 'mon_may', 'mon_nov', 'mon_oct', 'mon_sep',\n",
    "                               'prev_outcome_failure', 'prev_outcome_other', 'prev_outcome_success',\n",
    "                               'prev_outcome_unknown']])\n",
    "        \n",
    "        if st.button(\"Predict\"):\n",
    "            valu = CCP.predict(input)\n",
    "            if valu==0:\n",
    "                st.write('DECLINED')\n",
    "            else:\n",
    "                st.write('ACCEPTED')\n",
    "                st.snow()\n",
    "\n",
    "        if st.button(\"About\"):\n",
    "            st.text(\"Lets Learn\")\n",
    "            st.text(\"Built with Streamlit\")\n",
    "\n",
    "if __name__=='__main__':\n",
    "    main()"
   ]
  }
 ],
 "metadata": {
  "kernelspec": {
   "display_name": "Python 3 (ipykernel)",
   "language": "python",
   "name": "python3"
  },
  "language_info": {
   "codemirror_mode": {
    "name": "ipython",
    "version": 3
   },
   "file_extension": ".py",
   "mimetype": "text/x-python",
   "name": "python",
   "nbconvert_exporter": "python",
   "pygments_lexer": "ipython3",
   "version": "3.10.9"
  }
 },
 "nbformat": 4,
 "nbformat_minor": 5
}
