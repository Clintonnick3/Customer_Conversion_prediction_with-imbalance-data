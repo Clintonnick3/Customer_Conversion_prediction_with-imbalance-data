{
 "cells": [
  {
   "cell_type": "code",
   "execution_count": 1,
   "id": "c986d91b",
   "metadata": {},
   "outputs": [
    {
     "name": "stdout",
     "output_type": "stream",
     "text": [
      "Defaulting to user installation because normal site-packages is not writeable\n",
      "Requirement already satisfied: xgboost in c:\\users\\admin\\appdata\\roaming\\python\\python310\\site-packages (1.7.6)\n",
      "Requirement already satisfied: numpy in c:\\programdata\\anaconda3\\lib\\site-packages (from xgboost) (1.23.5)\n",
      "Requirement already satisfied: scipy in c:\\programdata\\anaconda3\\lib\\site-packages (from xgboost) (1.10.0)\n"
     ]
    },
    {
     "name": "stderr",
     "output_type": "stream",
     "text": [
      "WARNING: Ignoring invalid distribution -ymongo (c:\\users\\admin\\appdata\\roaming\\python\\python310\\site-packages)\n",
      "WARNING: Ignoring invalid distribution -ymongo (c:\\users\\admin\\appdata\\roaming\\python\\python310\\site-packages)\n",
      "WARNING: Ignoring invalid distribution -ymongo (c:\\users\\admin\\appdata\\roaming\\python\\python310\\site-packages)\n",
      "WARNING: Ignoring invalid distribution -ymongo (c:\\users\\admin\\appdata\\roaming\\python\\python310\\site-packages)\n",
      "WARNING: Ignoring invalid distribution -ymongo (c:\\users\\admin\\appdata\\roaming\\python\\python310\\site-packages)\n",
      "WARNING: Ignoring invalid distribution -ymongo (c:\\users\\admin\\appdata\\roaming\\python\\python310\\site-packages)\n"
     ]
    }
   ],
   "source": [
    "# Installing package\n",
    "!pip install xgboost"
   ]
  },
  {
   "cell_type": "code",
   "execution_count": 2,
   "id": "932fe292",
   "metadata": {},
   "outputs": [],
   "source": [
    "# Importing Necessary Modules\n",
    "import pandas as pd\n",
    "import numpy as np\n",
    "\n",
    "from sklearn.model_selection import train_test_split\n",
    "from sklearn import metrics\n",
    "from sklearn.linear_model import LogisticRegression\n",
    "from sklearn.preprocessing import StandardScaler\n",
    "from sklearn.metrics import roc_auc_score, f1_score, accuracy_score\n",
    "from sklearn.tree import DecisionTreeClassifier\n",
    "from sklearn.model_selection import cross_val_score\n",
    "from sklearn.neighbors import KNeighborsClassifier\n",
    "from sklearn.ensemble import RandomForestClassifier\n",
    "from sklearn.metrics import classification_report\n",
    "\n",
    "from scipy.stats import zscore\n",
    "\n",
    "import seaborn as sns\n",
    "import matplotlib.pyplot as plt\n",
    "\n",
    "import imblearn\n",
    "from imblearn.combine import SMOTEENN\n",
    "from imblearn.under_sampling import RandomUnderSampler\n",
    "from imblearn.over_sampling import RandomOverSampler\n",
    "\n",
    "import xgboost as xgb\n",
    "from xgboost import XGBClassifier\n",
    "\n",
    "import warnings\n",
    "warnings.filterwarnings(\"ignore\")"
   ]
  },
  {
   "cell_type": "markdown",
   "id": "8111a73b",
   "metadata": {},
   "source": [
    "# Importing the dataset"
   ]
  },
  {
   "cell_type": "code",
   "execution_count": 3,
   "id": "f3a06608",
   "metadata": {},
   "outputs": [],
   "source": [
    "# Reading the data \n",
    "data = pd.read_csv('train.csv')"
   ]
  },
  {
   "cell_type": "code",
   "execution_count": 4,
   "id": "6e4fb294",
   "metadata": {},
   "outputs": [
    {
     "data": {
      "text/html": [
       "<div>\n",
       "<style scoped>\n",
       "    .dataframe tbody tr th:only-of-type {\n",
       "        vertical-align: middle;\n",
       "    }\n",
       "\n",
       "    .dataframe tbody tr th {\n",
       "        vertical-align: top;\n",
       "    }\n",
       "\n",
       "    .dataframe thead th {\n",
       "        text-align: right;\n",
       "    }\n",
       "</style>\n",
       "<table border=\"1\" class=\"dataframe\">\n",
       "  <thead>\n",
       "    <tr style=\"text-align: right;\">\n",
       "      <th></th>\n",
       "      <th>age</th>\n",
       "      <th>job</th>\n",
       "      <th>marital</th>\n",
       "      <th>education_qual</th>\n",
       "      <th>call_type</th>\n",
       "      <th>day</th>\n",
       "      <th>mon</th>\n",
       "      <th>dur</th>\n",
       "      <th>num_calls</th>\n",
       "      <th>prev_outcome</th>\n",
       "      <th>y</th>\n",
       "    </tr>\n",
       "  </thead>\n",
       "  <tbody>\n",
       "    <tr>\n",
       "      <th>0</th>\n",
       "      <td>58</td>\n",
       "      <td>management</td>\n",
       "      <td>married</td>\n",
       "      <td>tertiary</td>\n",
       "      <td>unknown</td>\n",
       "      <td>5</td>\n",
       "      <td>may</td>\n",
       "      <td>261</td>\n",
       "      <td>1</td>\n",
       "      <td>unknown</td>\n",
       "      <td>no</td>\n",
       "    </tr>\n",
       "    <tr>\n",
       "      <th>1</th>\n",
       "      <td>44</td>\n",
       "      <td>technician</td>\n",
       "      <td>single</td>\n",
       "      <td>secondary</td>\n",
       "      <td>unknown</td>\n",
       "      <td>5</td>\n",
       "      <td>may</td>\n",
       "      <td>151</td>\n",
       "      <td>1</td>\n",
       "      <td>unknown</td>\n",
       "      <td>no</td>\n",
       "    </tr>\n",
       "    <tr>\n",
       "      <th>2</th>\n",
       "      <td>33</td>\n",
       "      <td>entrepreneur</td>\n",
       "      <td>married</td>\n",
       "      <td>secondary</td>\n",
       "      <td>unknown</td>\n",
       "      <td>5</td>\n",
       "      <td>may</td>\n",
       "      <td>76</td>\n",
       "      <td>1</td>\n",
       "      <td>unknown</td>\n",
       "      <td>no</td>\n",
       "    </tr>\n",
       "    <tr>\n",
       "      <th>3</th>\n",
       "      <td>47</td>\n",
       "      <td>blue-collar</td>\n",
       "      <td>married</td>\n",
       "      <td>unknown</td>\n",
       "      <td>unknown</td>\n",
       "      <td>5</td>\n",
       "      <td>may</td>\n",
       "      <td>92</td>\n",
       "      <td>1</td>\n",
       "      <td>unknown</td>\n",
       "      <td>no</td>\n",
       "    </tr>\n",
       "    <tr>\n",
       "      <th>4</th>\n",
       "      <td>33</td>\n",
       "      <td>unknown</td>\n",
       "      <td>single</td>\n",
       "      <td>unknown</td>\n",
       "      <td>unknown</td>\n",
       "      <td>5</td>\n",
       "      <td>may</td>\n",
       "      <td>198</td>\n",
       "      <td>1</td>\n",
       "      <td>unknown</td>\n",
       "      <td>no</td>\n",
       "    </tr>\n",
       "  </tbody>\n",
       "</table>\n",
       "</div>"
      ],
      "text/plain": [
       "   age           job  marital education_qual call_type  day  mon  dur  \\\n",
       "0   58    management  married       tertiary   unknown    5  may  261   \n",
       "1   44    technician   single      secondary   unknown    5  may  151   \n",
       "2   33  entrepreneur  married      secondary   unknown    5  may   76   \n",
       "3   47   blue-collar  married        unknown   unknown    5  may   92   \n",
       "4   33       unknown   single        unknown   unknown    5  may  198   \n",
       "\n",
       "   num_calls prev_outcome   y  \n",
       "0          1      unknown  no  \n",
       "1          1      unknown  no  \n",
       "2          1      unknown  no  \n",
       "3          1      unknown  no  \n",
       "4          1      unknown  no  "
      ]
     },
     "execution_count": 4,
     "metadata": {},
     "output_type": "execute_result"
    }
   ],
   "source": [
    "# Checking datas\n",
    "data.head()"
   ]
  },
  {
   "cell_type": "code",
   "execution_count": 5,
   "id": "a1d327c3",
   "metadata": {},
   "outputs": [
    {
     "data": {
      "text/plain": [
       "(45211, 11)"
      ]
     },
     "execution_count": 5,
     "metadata": {},
     "output_type": "execute_result"
    }
   ],
   "source": [
    "# Finding the total shape of the data\n",
    "data.shape"
   ]
  },
  {
   "cell_type": "code",
   "execution_count": 6,
   "id": "e7c0481e",
   "metadata": {},
   "outputs": [
    {
     "name": "stdout",
     "output_type": "stream",
     "text": [
      "<class 'pandas.core.frame.DataFrame'>\n",
      "RangeIndex: 45211 entries, 0 to 45210\n",
      "Data columns (total 11 columns):\n",
      " #   Column          Non-Null Count  Dtype \n",
      "---  ------          --------------  ----- \n",
      " 0   age             45211 non-null  int64 \n",
      " 1   job             45211 non-null  object\n",
      " 2   marital         45211 non-null  object\n",
      " 3   education_qual  45211 non-null  object\n",
      " 4   call_type       45211 non-null  object\n",
      " 5   day             45211 non-null  int64 \n",
      " 6   mon             45211 non-null  object\n",
      " 7   dur             45211 non-null  int64 \n",
      " 8   num_calls       45211 non-null  int64 \n",
      " 9   prev_outcome    45211 non-null  object\n",
      " 10  y               45211 non-null  object\n",
      "dtypes: int64(4), object(7)\n",
      "memory usage: 3.8+ MB\n"
     ]
    }
   ],
   "source": [
    "data.info()"
   ]
  },
  {
   "cell_type": "code",
   "execution_count": 7,
   "id": "52bcc24c",
   "metadata": {},
   "outputs": [
    {
     "data": {
      "text/plain": [
       "Index(['age', 'job', 'marital', 'education_qual', 'call_type', 'day', 'mon',\n",
       "       'dur', 'num_calls', 'prev_outcome', 'y'],\n",
       "      dtype='object')"
      ]
     },
     "execution_count": 7,
     "metadata": {},
     "output_type": "execute_result"
    }
   ],
   "source": [
    "# Checking the columns present in the data\n",
    "data.columns"
   ]
  },
  {
   "cell_type": "markdown",
   "id": "f8b6088c",
   "metadata": {},
   "source": [
    "# Unique values of each column"
   ]
  },
  {
   "cell_type": "code",
   "execution_count": 8,
   "id": "8bc915fb",
   "metadata": {},
   "outputs": [
    {
     "name": "stdout",
     "output_type": "stream",
     "text": [
      "age\n",
      "[58 44 33 47 35 28 42 43 41 29 53 57 51 45 60 56 32 25 40 39 52 46 36 49\n",
      " 59 37 50 54 55 48 24 38 31 30 27 34 23 26 61 22 21 20 66 62 83 75 67 70\n",
      " 65 68 64 69 72 71 19 76 85 63 90 82 73 74 78 80 94 79 77 86 95 81 18 89\n",
      " 84 87 92 93 88]\n",
      "job\n",
      "['management' 'technician' 'entrepreneur' 'blue-collar' 'unknown'\n",
      " 'retired' 'admin.' 'services' 'self-employed' 'unemployed' 'housemaid'\n",
      " 'student']\n",
      "marital\n",
      "['married' 'single' 'divorced']\n",
      "education_qual\n",
      "['tertiary' 'secondary' 'unknown' 'primary']\n",
      "call_type\n",
      "['unknown' 'cellular' 'telephone']\n",
      "day\n",
      "[ 5  6  7  8  9 12 13 14 15 16 19 20 21 23 26 27 28 29 30  2  3  4 11 17\n",
      " 18 24 25  1 10 22 31]\n",
      "mon\n",
      "['may' 'jun' 'jul' 'aug' 'oct' 'nov' 'dec' 'jan' 'feb' 'mar' 'apr' 'sep']\n",
      "dur\n",
      "[ 261  151   76 ... 1298 1246 1556]\n",
      "num_calls\n",
      "[ 1  2  3  5  4  6  7  8  9 10 11 12 13 19 14 24 16 32 18 22 15 17 25 21\n",
      " 43 51 63 41 26 28 55 50 38 23 20 29 31 37 30 46 27 58 33 35 34 36 39 44]\n",
      "prev_outcome\n",
      "['unknown' 'failure' 'other' 'success']\n",
      "y\n",
      "['no' 'yes']\n"
     ]
    }
   ],
   "source": [
    "for i in data.columns:\n",
    "    print(i)\n",
    "    print(data[i].unique())"
   ]
  },
  {
   "cell_type": "code",
   "execution_count": 9,
   "id": "9b31579c",
   "metadata": {},
   "outputs": [
    {
     "data": {
      "text/plain": [
       "Index(['age', 'day', 'dur', 'num_calls'], dtype='object')"
      ]
     },
     "execution_count": 9,
     "metadata": {},
     "output_type": "execute_result"
    }
   ],
   "source": [
    "# Identifing integer columns\n",
    "number = data.select_dtypes(include=[np.number])\n",
    "number.columns"
   ]
  },
  {
   "cell_type": "code",
   "execution_count": 10,
   "id": "b881aca4",
   "metadata": {},
   "outputs": [
    {
     "data": {
      "text/plain": [
       "Index(['job', 'marital', 'education_qual', 'call_type', 'mon', 'prev_outcome',\n",
       "       'y'],\n",
       "      dtype='object')"
      ]
     },
     "execution_count": 10,
     "metadata": {},
     "output_type": "execute_result"
    }
   ],
   "source": [
    "# Identifing category columns\n",
    "string = data.select_dtypes(include=['object']).columns\n",
    "string"
   ]
  },
  {
   "cell_type": "code",
   "execution_count": 11,
   "id": "5e7ed930",
   "metadata": {},
   "outputs": [
    {
     "data": {
      "text/plain": [
       "age                int64\n",
       "job               object\n",
       "marital           object\n",
       "education_qual    object\n",
       "call_type         object\n",
       "day                int64\n",
       "mon               object\n",
       "dur                int64\n",
       "num_calls          int64\n",
       "prev_outcome      object\n",
       "y                 object\n",
       "dtype: object"
      ]
     },
     "execution_count": 11,
     "metadata": {},
     "output_type": "execute_result"
    }
   ],
   "source": [
    "# Checking for correct datatypes\n",
    "data.dtypes"
   ]
  },
  {
   "cell_type": "code",
   "execution_count": 12,
   "id": "fd9c2d82",
   "metadata": {},
   "outputs": [
    {
     "data": {
      "text/plain": [
       "blue-collar      9732\n",
       "management       9458\n",
       "technician       7597\n",
       "admin.           5171\n",
       "services         4154\n",
       "retired          2264\n",
       "self-employed    1579\n",
       "entrepreneur     1487\n",
       "unemployed       1303\n",
       "housemaid        1240\n",
       "student           938\n",
       "unknown           288\n",
       "Name: job, dtype: int64"
      ]
     },
     "execution_count": 12,
     "metadata": {},
     "output_type": "execute_result"
    }
   ],
   "source": [
    "# checking the unknown priority\n",
    "data.job.value_counts()"
   ]
  },
  {
   "cell_type": "code",
   "execution_count": 13,
   "id": "77983681",
   "metadata": {},
   "outputs": [],
   "source": [
    "# Replacing the unknown values\n",
    "data.job = data.job.str.replace(\"unknown\",\"blue-collar\")"
   ]
  },
  {
   "cell_type": "code",
   "execution_count": 14,
   "id": "653bf89c",
   "metadata": {},
   "outputs": [
    {
     "data": {
      "text/plain": [
       "blue-collar      10020\n",
       "management        9458\n",
       "technician        7597\n",
       "admin.            5171\n",
       "services          4154\n",
       "retired           2264\n",
       "self-employed     1579\n",
       "entrepreneur      1487\n",
       "unemployed        1303\n",
       "housemaid         1240\n",
       "student            938\n",
       "Name: job, dtype: int64"
      ]
     },
     "execution_count": 14,
     "metadata": {},
     "output_type": "execute_result"
    }
   ],
   "source": [
    "# Checking the unknown has been replaced or not\n",
    "data.job.value_counts()"
   ]
  },
  {
   "cell_type": "code",
   "execution_count": 15,
   "id": "79b0413a",
   "metadata": {},
   "outputs": [
    {
     "data": {
      "text/plain": [
       "secondary    23202\n",
       "tertiary     13301\n",
       "primary       6851\n",
       "unknown       1857\n",
       "Name: education_qual, dtype: int64"
      ]
     },
     "execution_count": 15,
     "metadata": {},
     "output_type": "execute_result"
    }
   ],
   "source": [
    "# Checking for unknown priority\n",
    "data.education_qual.value_counts()"
   ]
  },
  {
   "cell_type": "code",
   "execution_count": 16,
   "id": "105a2187",
   "metadata": {},
   "outputs": [],
   "source": [
    "# Replacing the unknown values\n",
    "data.education_qual = data.education_qual.str.replace(\"unknown\",\"secondary\")"
   ]
  },
  {
   "cell_type": "code",
   "execution_count": 17,
   "id": "00df1654",
   "metadata": {},
   "outputs": [
    {
     "data": {
      "text/plain": [
       "secondary    25059\n",
       "tertiary     13301\n",
       "primary       6851\n",
       "Name: education_qual, dtype: int64"
      ]
     },
     "execution_count": 17,
     "metadata": {},
     "output_type": "execute_result"
    }
   ],
   "source": [
    "# Checking for the unknown value replaced or not\n",
    "data.education_qual.value_counts()"
   ]
  },
  {
   "cell_type": "code",
   "execution_count": 18,
   "id": "63861fc7",
   "metadata": {},
   "outputs": [
    {
     "data": {
      "text/plain": [
       "cellular     29285\n",
       "unknown      13020\n",
       "telephone     2906\n",
       "Name: call_type, dtype: int64"
      ]
     },
     "execution_count": 18,
     "metadata": {},
     "output_type": "execute_result"
    }
   ],
   "source": [
    "# Unknown value is large so it is defined as a category\n",
    "data.call_type.value_counts()"
   ]
  },
  {
   "cell_type": "code",
   "execution_count": 19,
   "id": "3f915b42",
   "metadata": {},
   "outputs": [
    {
     "data": {
      "text/plain": [
       "unknown    36959\n",
       "failure     4901\n",
       "other       1840\n",
       "success     1511\n",
       "Name: prev_outcome, dtype: int64"
      ]
     },
     "execution_count": 19,
     "metadata": {},
     "output_type": "execute_result"
    }
   ],
   "source": [
    "# Unknown value is large so it is defined as a category\n",
    "data.prev_outcome.value_counts()"
   ]
  },
  {
   "cell_type": "markdown",
   "id": "ae0fe211",
   "metadata": {},
   "source": [
    "# Converting the target value from 'str' to 'int'"
   ]
  },
  {
   "cell_type": "code",
   "execution_count": 20,
   "id": "6a022794",
   "metadata": {},
   "outputs": [
    {
     "data": {
      "text/plain": [
       "no     39922\n",
       "yes     5289\n",
       "Name: y, dtype: int64"
      ]
     },
     "execution_count": 20,
     "metadata": {},
     "output_type": "execute_result"
    }
   ],
   "source": [
    "# Count of values in Target variable column\n",
    "data['y'].value_counts()"
   ]
  },
  {
   "cell_type": "code",
   "execution_count": 21,
   "id": "394b4408",
   "metadata": {},
   "outputs": [
    {
     "name": "stdout",
     "output_type": "stream",
     "text": [
      "45211\n",
      "88.30151954170445\n",
      "11.698480458295547\n"
     ]
    }
   ],
   "source": [
    "# Find the sum of y variable\n",
    "d = pd.Series({'no': 39922, 'yes': 5289})\n",
    "total = d.sum()\n",
    "\n",
    "print(total)\n",
    "\n",
    "# Finding the percentage for Target variable (No)\n",
    "no = ((39922)/(total))*100\n",
    "print(no)\n",
    "\n",
    "# Finding the percentage for Target variable (YES)\n",
    "yes = ((5289)/(total))*100\n",
    "print(yes)"
   ]
  },
  {
   "cell_type": "code",
   "execution_count": 22,
   "id": "f34949b0",
   "metadata": {},
   "outputs": [],
   "source": [
    "# Converting the values of 'y' to numerical values\n",
    "data['y'] = data['y'].map({'yes':1,'no':0})"
   ]
  },
  {
   "cell_type": "code",
   "execution_count": 23,
   "id": "442ee3e3",
   "metadata": {},
   "outputs": [
    {
     "data": {
      "text/html": [
       "<div>\n",
       "<style scoped>\n",
       "    .dataframe tbody tr th:only-of-type {\n",
       "        vertical-align: middle;\n",
       "    }\n",
       "\n",
       "    .dataframe tbody tr th {\n",
       "        vertical-align: top;\n",
       "    }\n",
       "\n",
       "    .dataframe thead th {\n",
       "        text-align: right;\n",
       "    }\n",
       "</style>\n",
       "<table border=\"1\" class=\"dataframe\">\n",
       "  <thead>\n",
       "    <tr style=\"text-align: right;\">\n",
       "      <th></th>\n",
       "      <th>age</th>\n",
       "      <th>job</th>\n",
       "      <th>marital</th>\n",
       "      <th>education_qual</th>\n",
       "      <th>call_type</th>\n",
       "      <th>day</th>\n",
       "      <th>mon</th>\n",
       "      <th>dur</th>\n",
       "      <th>num_calls</th>\n",
       "      <th>prev_outcome</th>\n",
       "      <th>y</th>\n",
       "    </tr>\n",
       "  </thead>\n",
       "  <tbody>\n",
       "    <tr>\n",
       "      <th>0</th>\n",
       "      <td>58</td>\n",
       "      <td>management</td>\n",
       "      <td>married</td>\n",
       "      <td>tertiary</td>\n",
       "      <td>unknown</td>\n",
       "      <td>5</td>\n",
       "      <td>may</td>\n",
       "      <td>261</td>\n",
       "      <td>1</td>\n",
       "      <td>unknown</td>\n",
       "      <td>0</td>\n",
       "    </tr>\n",
       "    <tr>\n",
       "      <th>1</th>\n",
       "      <td>44</td>\n",
       "      <td>technician</td>\n",
       "      <td>single</td>\n",
       "      <td>secondary</td>\n",
       "      <td>unknown</td>\n",
       "      <td>5</td>\n",
       "      <td>may</td>\n",
       "      <td>151</td>\n",
       "      <td>1</td>\n",
       "      <td>unknown</td>\n",
       "      <td>0</td>\n",
       "    </tr>\n",
       "    <tr>\n",
       "      <th>2</th>\n",
       "      <td>33</td>\n",
       "      <td>entrepreneur</td>\n",
       "      <td>married</td>\n",
       "      <td>secondary</td>\n",
       "      <td>unknown</td>\n",
       "      <td>5</td>\n",
       "      <td>may</td>\n",
       "      <td>76</td>\n",
       "      <td>1</td>\n",
       "      <td>unknown</td>\n",
       "      <td>0</td>\n",
       "    </tr>\n",
       "    <tr>\n",
       "      <th>3</th>\n",
       "      <td>47</td>\n",
       "      <td>blue-collar</td>\n",
       "      <td>married</td>\n",
       "      <td>secondary</td>\n",
       "      <td>unknown</td>\n",
       "      <td>5</td>\n",
       "      <td>may</td>\n",
       "      <td>92</td>\n",
       "      <td>1</td>\n",
       "      <td>unknown</td>\n",
       "      <td>0</td>\n",
       "    </tr>\n",
       "    <tr>\n",
       "      <th>4</th>\n",
       "      <td>33</td>\n",
       "      <td>blue-collar</td>\n",
       "      <td>single</td>\n",
       "      <td>secondary</td>\n",
       "      <td>unknown</td>\n",
       "      <td>5</td>\n",
       "      <td>may</td>\n",
       "      <td>198</td>\n",
       "      <td>1</td>\n",
       "      <td>unknown</td>\n",
       "      <td>0</td>\n",
       "    </tr>\n",
       "    <tr>\n",
       "      <th>...</th>\n",
       "      <td>...</td>\n",
       "      <td>...</td>\n",
       "      <td>...</td>\n",
       "      <td>...</td>\n",
       "      <td>...</td>\n",
       "      <td>...</td>\n",
       "      <td>...</td>\n",
       "      <td>...</td>\n",
       "      <td>...</td>\n",
       "      <td>...</td>\n",
       "      <td>...</td>\n",
       "    </tr>\n",
       "    <tr>\n",
       "      <th>45206</th>\n",
       "      <td>51</td>\n",
       "      <td>technician</td>\n",
       "      <td>married</td>\n",
       "      <td>tertiary</td>\n",
       "      <td>cellular</td>\n",
       "      <td>17</td>\n",
       "      <td>nov</td>\n",
       "      <td>977</td>\n",
       "      <td>3</td>\n",
       "      <td>unknown</td>\n",
       "      <td>1</td>\n",
       "    </tr>\n",
       "    <tr>\n",
       "      <th>45207</th>\n",
       "      <td>71</td>\n",
       "      <td>retired</td>\n",
       "      <td>divorced</td>\n",
       "      <td>primary</td>\n",
       "      <td>cellular</td>\n",
       "      <td>17</td>\n",
       "      <td>nov</td>\n",
       "      <td>456</td>\n",
       "      <td>2</td>\n",
       "      <td>unknown</td>\n",
       "      <td>1</td>\n",
       "    </tr>\n",
       "    <tr>\n",
       "      <th>45208</th>\n",
       "      <td>72</td>\n",
       "      <td>retired</td>\n",
       "      <td>married</td>\n",
       "      <td>secondary</td>\n",
       "      <td>cellular</td>\n",
       "      <td>17</td>\n",
       "      <td>nov</td>\n",
       "      <td>1127</td>\n",
       "      <td>5</td>\n",
       "      <td>success</td>\n",
       "      <td>1</td>\n",
       "    </tr>\n",
       "    <tr>\n",
       "      <th>45209</th>\n",
       "      <td>57</td>\n",
       "      <td>blue-collar</td>\n",
       "      <td>married</td>\n",
       "      <td>secondary</td>\n",
       "      <td>telephone</td>\n",
       "      <td>17</td>\n",
       "      <td>nov</td>\n",
       "      <td>508</td>\n",
       "      <td>4</td>\n",
       "      <td>unknown</td>\n",
       "      <td>0</td>\n",
       "    </tr>\n",
       "    <tr>\n",
       "      <th>45210</th>\n",
       "      <td>37</td>\n",
       "      <td>entrepreneur</td>\n",
       "      <td>married</td>\n",
       "      <td>secondary</td>\n",
       "      <td>cellular</td>\n",
       "      <td>17</td>\n",
       "      <td>nov</td>\n",
       "      <td>361</td>\n",
       "      <td>2</td>\n",
       "      <td>other</td>\n",
       "      <td>0</td>\n",
       "    </tr>\n",
       "  </tbody>\n",
       "</table>\n",
       "<p>45211 rows × 11 columns</p>\n",
       "</div>"
      ],
      "text/plain": [
       "       age           job   marital education_qual  call_type  day  mon   dur  \\\n",
       "0       58    management   married       tertiary    unknown    5  may   261   \n",
       "1       44    technician    single      secondary    unknown    5  may   151   \n",
       "2       33  entrepreneur   married      secondary    unknown    5  may    76   \n",
       "3       47   blue-collar   married      secondary    unknown    5  may    92   \n",
       "4       33   blue-collar    single      secondary    unknown    5  may   198   \n",
       "...    ...           ...       ...            ...        ...  ...  ...   ...   \n",
       "45206   51    technician   married       tertiary   cellular   17  nov   977   \n",
       "45207   71       retired  divorced        primary   cellular   17  nov   456   \n",
       "45208   72       retired   married      secondary   cellular   17  nov  1127   \n",
       "45209   57   blue-collar   married      secondary  telephone   17  nov   508   \n",
       "45210   37  entrepreneur   married      secondary   cellular   17  nov   361   \n",
       "\n",
       "       num_calls prev_outcome  y  \n",
       "0              1      unknown  0  \n",
       "1              1      unknown  0  \n",
       "2              1      unknown  0  \n",
       "3              1      unknown  0  \n",
       "4              1      unknown  0  \n",
       "...          ...          ... ..  \n",
       "45206          3      unknown  1  \n",
       "45207          2      unknown  1  \n",
       "45208          5      success  1  \n",
       "45209          4      unknown  0  \n",
       "45210          2        other  0  \n",
       "\n",
       "[45211 rows x 11 columns]"
      ]
     },
     "execution_count": 23,
     "metadata": {},
     "output_type": "execute_result"
    }
   ],
   "source": [
    "# Checking the target values are converted into numerical values or not\n",
    "data"
   ]
  },
  {
   "cell_type": "code",
   "execution_count": 24,
   "id": "51bf1b09",
   "metadata": {},
   "outputs": [
    {
     "data": {
      "text/plain": [
       "age                int64\n",
       "job               object\n",
       "marital           object\n",
       "education_qual    object\n",
       "call_type         object\n",
       "day                int64\n",
       "mon               object\n",
       "dur                int64\n",
       "num_calls          int64\n",
       "prev_outcome      object\n",
       "y                  int64\n",
       "dtype: object"
      ]
     },
     "execution_count": 24,
     "metadata": {},
     "output_type": "execute_result"
    }
   ],
   "source": [
    "# Checking whether the target column has converted into integer(int64)\n",
    "data.dtypes"
   ]
  },
  {
   "cell_type": "markdown",
   "id": "39b186c6",
   "metadata": {},
   "source": [
    "# Cleaning the data"
   ]
  },
  {
   "cell_type": "code",
   "execution_count": 25,
   "id": "dd62f258",
   "metadata": {},
   "outputs": [
    {
     "data": {
      "text/plain": [
       "age               0\n",
       "job               0\n",
       "marital           0\n",
       "education_qual    0\n",
       "call_type         0\n",
       "day               0\n",
       "mon               0\n",
       "dur               0\n",
       "num_calls         0\n",
       "prev_outcome      0\n",
       "y                 0\n",
       "dtype: int64"
      ]
     },
     "execution_count": 25,
     "metadata": {},
     "output_type": "execute_result"
    }
   ],
   "source": [
    "# Checking for missing value\n",
    "data.isnull().sum()"
   ]
  },
  {
   "cell_type": "code",
   "execution_count": 26,
   "id": "81d42a3e",
   "metadata": {},
   "outputs": [],
   "source": [
    "# If there is any null values this will drop them\n",
    "data = data.dropna()"
   ]
  },
  {
   "cell_type": "code",
   "execution_count": 27,
   "id": "70ff4ecb",
   "metadata": {},
   "outputs": [
    {
     "data": {
      "text/html": [
       "<div>\n",
       "<style scoped>\n",
       "    .dataframe tbody tr th:only-of-type {\n",
       "        vertical-align: middle;\n",
       "    }\n",
       "\n",
       "    .dataframe tbody tr th {\n",
       "        vertical-align: top;\n",
       "    }\n",
       "\n",
       "    .dataframe thead th {\n",
       "        text-align: right;\n",
       "    }\n",
       "</style>\n",
       "<table border=\"1\" class=\"dataframe\">\n",
       "  <thead>\n",
       "    <tr style=\"text-align: right;\">\n",
       "      <th></th>\n",
       "      <th>age</th>\n",
       "      <th>job</th>\n",
       "      <th>marital</th>\n",
       "      <th>education_qual</th>\n",
       "      <th>call_type</th>\n",
       "      <th>day</th>\n",
       "      <th>mon</th>\n",
       "      <th>dur</th>\n",
       "      <th>num_calls</th>\n",
       "      <th>prev_outcome</th>\n",
       "      <th>y</th>\n",
       "    </tr>\n",
       "  </thead>\n",
       "  <tbody>\n",
       "    <tr>\n",
       "      <th>6893</th>\n",
       "      <td>34</td>\n",
       "      <td>services</td>\n",
       "      <td>married</td>\n",
       "      <td>secondary</td>\n",
       "      <td>unknown</td>\n",
       "      <td>28</td>\n",
       "      <td>may</td>\n",
       "      <td>124</td>\n",
       "      <td>1</td>\n",
       "      <td>unknown</td>\n",
       "      <td>0</td>\n",
       "    </tr>\n",
       "    <tr>\n",
       "      <th>8138</th>\n",
       "      <td>29</td>\n",
       "      <td>admin.</td>\n",
       "      <td>single</td>\n",
       "      <td>secondary</td>\n",
       "      <td>unknown</td>\n",
       "      <td>2</td>\n",
       "      <td>jun</td>\n",
       "      <td>121</td>\n",
       "      <td>4</td>\n",
       "      <td>unknown</td>\n",
       "      <td>0</td>\n",
       "    </tr>\n",
       "    <tr>\n",
       "      <th>11630</th>\n",
       "      <td>39</td>\n",
       "      <td>blue-collar</td>\n",
       "      <td>married</td>\n",
       "      <td>primary</td>\n",
       "      <td>unknown</td>\n",
       "      <td>19</td>\n",
       "      <td>jun</td>\n",
       "      <td>112</td>\n",
       "      <td>4</td>\n",
       "      <td>unknown</td>\n",
       "      <td>0</td>\n",
       "    </tr>\n",
       "    <tr>\n",
       "      <th>13400</th>\n",
       "      <td>36</td>\n",
       "      <td>blue-collar</td>\n",
       "      <td>married</td>\n",
       "      <td>secondary</td>\n",
       "      <td>cellular</td>\n",
       "      <td>9</td>\n",
       "      <td>jul</td>\n",
       "      <td>183</td>\n",
       "      <td>1</td>\n",
       "      <td>unknown</td>\n",
       "      <td>0</td>\n",
       "    </tr>\n",
       "    <tr>\n",
       "      <th>19826</th>\n",
       "      <td>36</td>\n",
       "      <td>management</td>\n",
       "      <td>married</td>\n",
       "      <td>tertiary</td>\n",
       "      <td>cellular</td>\n",
       "      <td>8</td>\n",
       "      <td>aug</td>\n",
       "      <td>75</td>\n",
       "      <td>2</td>\n",
       "      <td>unknown</td>\n",
       "      <td>0</td>\n",
       "    </tr>\n",
       "    <tr>\n",
       "      <th>19854</th>\n",
       "      <td>32</td>\n",
       "      <td>technician</td>\n",
       "      <td>single</td>\n",
       "      <td>tertiary</td>\n",
       "      <td>cellular</td>\n",
       "      <td>8</td>\n",
       "      <td>aug</td>\n",
       "      <td>31</td>\n",
       "      <td>2</td>\n",
       "      <td>unknown</td>\n",
       "      <td>0</td>\n",
       "    </tr>\n",
       "  </tbody>\n",
       "</table>\n",
       "</div>"
      ],
      "text/plain": [
       "       age          job  marital education_qual call_type  day  mon  dur  \\\n",
       "6893    34     services  married      secondary   unknown   28  may  124   \n",
       "8138    29       admin.   single      secondary   unknown    2  jun  121   \n",
       "11630   39  blue-collar  married        primary   unknown   19  jun  112   \n",
       "13400   36  blue-collar  married      secondary  cellular    9  jul  183   \n",
       "19826   36   management  married       tertiary  cellular    8  aug   75   \n",
       "19854   32   technician   single       tertiary  cellular    8  aug   31   \n",
       "\n",
       "       num_calls prev_outcome  y  \n",
       "6893           1      unknown  0  \n",
       "8138           4      unknown  0  \n",
       "11630          4      unknown  0  \n",
       "13400          1      unknown  0  \n",
       "19826          2      unknown  0  \n",
       "19854          2      unknown  0  "
      ]
     },
     "execution_count": 27,
     "metadata": {},
     "output_type": "execute_result"
    }
   ],
   "source": [
    "# Duplicates in dataframe\n",
    "duplicates = data[data.duplicated()]\n",
    "duplicates"
   ]
  },
  {
   "cell_type": "code",
   "execution_count": 28,
   "id": "9d43ad12",
   "metadata": {},
   "outputs": [
    {
     "name": "stdout",
     "output_type": "stream",
     "text": [
      "Duplicates in data: 6 Nos\n"
     ]
    }
   ],
   "source": [
    "#Checking for duplicates in data\n",
    "\n",
    "D=data.duplicated().sum()\n",
    "\n",
    "print('Duplicates in data:', D,'Nos')"
   ]
  },
  {
   "cell_type": "code",
   "execution_count": 29,
   "id": "378c5b0b",
   "metadata": {},
   "outputs": [
    {
     "name": "stdout",
     "output_type": "stream",
     "text": [
      "Duplicates in data: 0 Nos\n"
     ]
    }
   ],
   "source": [
    "# Removing the duplicates\n",
    "data = data.drop_duplicates()\n",
    "print('Duplicates in data:',data.duplicated().sum(),'Nos')"
   ]
  },
  {
   "cell_type": "code",
   "execution_count": 30,
   "id": "8b976eb4",
   "metadata": {},
   "outputs": [
    {
     "data": {
      "text/plain": [
       "(45205, 11)"
      ]
     },
     "execution_count": 30,
     "metadata": {},
     "output_type": "execute_result"
    }
   ],
   "source": [
    "data.shape"
   ]
  },
  {
   "cell_type": "code",
   "execution_count": 31,
   "id": "38be5bd2",
   "metadata": {},
   "outputs": [
    {
     "data": {
      "text/html": [
       "<div>\n",
       "<style scoped>\n",
       "    .dataframe tbody tr th:only-of-type {\n",
       "        vertical-align: middle;\n",
       "    }\n",
       "\n",
       "    .dataframe tbody tr th {\n",
       "        vertical-align: top;\n",
       "    }\n",
       "\n",
       "    .dataframe thead th {\n",
       "        text-align: right;\n",
       "    }\n",
       "</style>\n",
       "<table border=\"1\" class=\"dataframe\">\n",
       "  <thead>\n",
       "    <tr style=\"text-align: right;\">\n",
       "      <th></th>\n",
       "      <th>age</th>\n",
       "      <th>day</th>\n",
       "      <th>dur</th>\n",
       "      <th>num_calls</th>\n",
       "      <th>y</th>\n",
       "    </tr>\n",
       "  </thead>\n",
       "  <tbody>\n",
       "    <tr>\n",
       "      <th>count</th>\n",
       "      <td>45205.000000</td>\n",
       "      <td>45205.00000</td>\n",
       "      <td>45205.000000</td>\n",
       "      <td>45205.000000</td>\n",
       "      <td>45205.000000</td>\n",
       "    </tr>\n",
       "    <tr>\n",
       "      <th>mean</th>\n",
       "      <td>40.937087</td>\n",
       "      <td>15.80688</td>\n",
       "      <td>258.183055</td>\n",
       "      <td>2.763898</td>\n",
       "      <td>0.117000</td>\n",
       "    </tr>\n",
       "    <tr>\n",
       "      <th>std</th>\n",
       "      <td>10.619130</td>\n",
       "      <td>8.32234</td>\n",
       "      <td>257.538504</td>\n",
       "      <td>3.098189</td>\n",
       "      <td>0.321424</td>\n",
       "    </tr>\n",
       "    <tr>\n",
       "      <th>min</th>\n",
       "      <td>18.000000</td>\n",
       "      <td>1.00000</td>\n",
       "      <td>0.000000</td>\n",
       "      <td>1.000000</td>\n",
       "      <td>0.000000</td>\n",
       "    </tr>\n",
       "    <tr>\n",
       "      <th>25%</th>\n",
       "      <td>33.000000</td>\n",
       "      <td>8.00000</td>\n",
       "      <td>103.000000</td>\n",
       "      <td>1.000000</td>\n",
       "      <td>0.000000</td>\n",
       "    </tr>\n",
       "    <tr>\n",
       "      <th>50%</th>\n",
       "      <td>39.000000</td>\n",
       "      <td>16.00000</td>\n",
       "      <td>180.000000</td>\n",
       "      <td>2.000000</td>\n",
       "      <td>0.000000</td>\n",
       "    </tr>\n",
       "    <tr>\n",
       "      <th>75%</th>\n",
       "      <td>48.000000</td>\n",
       "      <td>21.00000</td>\n",
       "      <td>319.000000</td>\n",
       "      <td>3.000000</td>\n",
       "      <td>0.000000</td>\n",
       "    </tr>\n",
       "    <tr>\n",
       "      <th>max</th>\n",
       "      <td>95.000000</td>\n",
       "      <td>31.00000</td>\n",
       "      <td>4918.000000</td>\n",
       "      <td>63.000000</td>\n",
       "      <td>1.000000</td>\n",
       "    </tr>\n",
       "  </tbody>\n",
       "</table>\n",
       "</div>"
      ],
      "text/plain": [
       "                age          day           dur     num_calls             y\n",
       "count  45205.000000  45205.00000  45205.000000  45205.000000  45205.000000\n",
       "mean      40.937087     15.80688    258.183055      2.763898      0.117000\n",
       "std       10.619130      8.32234    257.538504      3.098189      0.321424\n",
       "min       18.000000      1.00000      0.000000      1.000000      0.000000\n",
       "25%       33.000000      8.00000    103.000000      1.000000      0.000000\n",
       "50%       39.000000     16.00000    180.000000      2.000000      0.000000\n",
       "75%       48.000000     21.00000    319.000000      3.000000      0.000000\n",
       "max       95.000000     31.00000   4918.000000     63.000000      1.000000"
      ]
     },
     "execution_count": 31,
     "metadata": {},
     "output_type": "execute_result"
    }
   ],
   "source": [
    "data.describe()"
   ]
  },
  {
   "cell_type": "code",
   "execution_count": 32,
   "id": "6043707e",
   "metadata": {},
   "outputs": [
    {
     "data": {
      "text/plain": [
       "age                int64\n",
       "job               object\n",
       "marital           object\n",
       "education_qual    object\n",
       "call_type         object\n",
       "day                int64\n",
       "mon               object\n",
       "dur                int64\n",
       "num_calls          int64\n",
       "prev_outcome      object\n",
       "y                  int64\n",
       "dtype: object"
      ]
     },
     "execution_count": 32,
     "metadata": {},
     "output_type": "execute_result"
    }
   ],
   "source": [
    "data.dtypes"
   ]
  },
  {
   "cell_type": "markdown",
   "id": "392e0da7",
   "metadata": {},
   "source": [
    "# Detecting outliers"
   ]
  },
  {
   "cell_type": "code",
   "execution_count": 33,
   "id": "6287d396",
   "metadata": {},
   "outputs": [
    {
     "name": "stdout",
     "output_type": "stream",
     "text": [
      "Interquantile range is 15.0\n",
      "upper_threshold is 70.5\n",
      "lower_threshold is 10.5\n",
      "above outlier count is 0\n",
      "below outlier count is 0\n"
     ]
    }
   ],
   "source": [
    "# Detcting outliers for 'AGE' column\n",
    "iqr = data.age.quantile(0.75) - data.age.quantile(0.25)\n",
    "print('Interquantile range is',iqr)\n",
    "up_threshold = data.age.quantile(0.75) + (1.5*iqr)\n",
    "low_threshold = data.age.quantile(0.25) - (1.5*iqr)\n",
    "\n",
    "# Clipping the outliers to upper and lower threshold\n",
    "data.age =data.age.clip(up_threshold,low_threshold)\n",
    "\n",
    "print('upper_threshold is',up_threshold)\n",
    "print('lower_threshold is',low_threshold)\n",
    "\n",
    "# Converting the 'age' column to int64\n",
    "data['age'] = data['age'].astype('int64')\n",
    "\n",
    "# Counting the number of outliers above and below the thresholds\n",
    "below = data[data['age'] < low_threshold]['age'].count()\n",
    "above = data[data['age'] > up_threshold]['age'].count()\n",
    "\n",
    "print('above outlier count is',above)\n",
    "print('below outlier count is',below)"
   ]
  },
  {
   "cell_type": "code",
   "execution_count": 34,
   "id": "61d1afb9",
   "metadata": {},
   "outputs": [
    {
     "name": "stdout",
     "output_type": "stream",
     "text": [
      "Interquantile range is 216.0\n",
      "upper_threshold is 643.0\n",
      "lower_threshold is -221.0\n",
      "above outlier count is 0\n",
      "below outlier count is 0\n"
     ]
    }
   ],
   "source": [
    "# Detcting outliers for 'DUR' column\n",
    "iqr = data.dur.quantile(0.75) - data.dur.quantile(0.25)\n",
    "print('Interquantile range is',iqr)\n",
    "up_threshold = data.dur.quantile(0.75) + (1.5*iqr)\n",
    "low_threshold = data.dur.quantile(0.25) - (1.5*iqr)\n",
    "\n",
    "# Clipping the outliers to upper and lower threshold\n",
    "data.dur =data.dur.clip(up_threshold,low_threshold)\n",
    "\n",
    "print('upper_threshold is',up_threshold)\n",
    "print('lower_threshold is',low_threshold)\n",
    "\n",
    "# Counting the number of outliers above and below the thresholds\n",
    "below = data[data['dur'] < low_threshold]['dur'].count()\n",
    "above = data[data['dur'] > up_threshold]['dur'].count()\n",
    "\n",
    "print('above outlier count is',above)\n",
    "print('below outlier count is',below)"
   ]
  },
  {
   "cell_type": "code",
   "execution_count": 35,
   "id": "e4842348",
   "metadata": {},
   "outputs": [
    {
     "name": "stdout",
     "output_type": "stream",
     "text": [
      "Interquantile range is 2.0\n",
      "upper_threshold is 6.0\n",
      "lower_threshold is -2.0\n",
      "above outlier count is 0\n",
      "below outlier count is 0\n"
     ]
    }
   ],
   "source": [
    "# Detcting outliers for 'NUM_CALLS' column\n",
    "iqr = data.num_calls.quantile(0.75) - data.num_calls.quantile(0.25)\n",
    "print('Interquantile range is',iqr)\n",
    "up_threshold = data.num_calls.quantile(0.75) + (1.5*iqr)\n",
    "low_threshold = data.num_calls.quantile(0.25) - (1.5*iqr)\n",
    "\n",
    "# Clipping the outliers to upper and lower threshold\n",
    "data.num_calls =data.num_calls.clip(up_threshold,low_threshold)\n",
    "\n",
    "print('upper_threshold is',up_threshold)\n",
    "print('lower_threshold is',low_threshold)\n",
    "\n",
    "# Counting the number of outliers above and below the thresholds\n",
    "below = data[data['num_calls'] < low_threshold]['num_calls'].count()\n",
    "above = data[data['num_calls'] > up_threshold]['num_calls'].count()\n",
    "\n",
    "print('above outlier count is',above)\n",
    "print('below outlier count is',below)"
   ]
  },
  {
   "cell_type": "code",
   "execution_count": 36,
   "id": "31c7378b",
   "metadata": {},
   "outputs": [
    {
     "data": {
      "text/plain": [
       "count    45205.000000\n",
       "mean         2.392235\n",
       "std          1.600152\n",
       "min          1.000000\n",
       "25%          1.000000\n",
       "50%          2.000000\n",
       "75%          3.000000\n",
       "max          6.000000\n",
       "Name: num_calls, dtype: float64"
      ]
     },
     "execution_count": 36,
     "metadata": {},
     "output_type": "execute_result"
    }
   ],
   "source": [
    "data.num_calls.describe()"
   ]
  },
  {
   "cell_type": "code",
   "execution_count": 37,
   "id": "4414edb0",
   "metadata": {},
   "outputs": [
    {
     "data": {
      "text/html": [
       "<div>\n",
       "<style scoped>\n",
       "    .dataframe tbody tr th:only-of-type {\n",
       "        vertical-align: middle;\n",
       "    }\n",
       "\n",
       "    .dataframe tbody tr th {\n",
       "        vertical-align: top;\n",
       "    }\n",
       "\n",
       "    .dataframe thead th {\n",
       "        text-align: right;\n",
       "    }\n",
       "</style>\n",
       "<table border=\"1\" class=\"dataframe\">\n",
       "  <thead>\n",
       "    <tr style=\"text-align: right;\">\n",
       "      <th></th>\n",
       "      <th>age</th>\n",
       "      <th>day</th>\n",
       "      <th>dur</th>\n",
       "      <th>num_calls</th>\n",
       "      <th>y</th>\n",
       "    </tr>\n",
       "  </thead>\n",
       "  <tbody>\n",
       "    <tr>\n",
       "      <th>count</th>\n",
       "      <td>45205.000000</td>\n",
       "      <td>45205.00000</td>\n",
       "      <td>45205.00000</td>\n",
       "      <td>45205.000000</td>\n",
       "      <td>45205.000000</td>\n",
       "    </tr>\n",
       "    <tr>\n",
       "      <th>mean</th>\n",
       "      <td>40.863666</td>\n",
       "      <td>15.80688</td>\n",
       "      <td>234.95620</td>\n",
       "      <td>2.392235</td>\n",
       "      <td>0.117000</td>\n",
       "    </tr>\n",
       "    <tr>\n",
       "      <th>std</th>\n",
       "      <td>10.380009</td>\n",
       "      <td>8.32234</td>\n",
       "      <td>176.75476</td>\n",
       "      <td>1.600152</td>\n",
       "      <td>0.321424</td>\n",
       "    </tr>\n",
       "    <tr>\n",
       "      <th>min</th>\n",
       "      <td>18.000000</td>\n",
       "      <td>1.00000</td>\n",
       "      <td>0.00000</td>\n",
       "      <td>1.000000</td>\n",
       "      <td>0.000000</td>\n",
       "    </tr>\n",
       "    <tr>\n",
       "      <th>25%</th>\n",
       "      <td>33.000000</td>\n",
       "      <td>8.00000</td>\n",
       "      <td>103.00000</td>\n",
       "      <td>1.000000</td>\n",
       "      <td>0.000000</td>\n",
       "    </tr>\n",
       "    <tr>\n",
       "      <th>50%</th>\n",
       "      <td>39.000000</td>\n",
       "      <td>16.00000</td>\n",
       "      <td>180.00000</td>\n",
       "      <td>2.000000</td>\n",
       "      <td>0.000000</td>\n",
       "    </tr>\n",
       "    <tr>\n",
       "      <th>75%</th>\n",
       "      <td>48.000000</td>\n",
       "      <td>21.00000</td>\n",
       "      <td>319.00000</td>\n",
       "      <td>3.000000</td>\n",
       "      <td>0.000000</td>\n",
       "    </tr>\n",
       "    <tr>\n",
       "      <th>max</th>\n",
       "      <td>70.000000</td>\n",
       "      <td>31.00000</td>\n",
       "      <td>643.00000</td>\n",
       "      <td>6.000000</td>\n",
       "      <td>1.000000</td>\n",
       "    </tr>\n",
       "  </tbody>\n",
       "</table>\n",
       "</div>"
      ],
      "text/plain": [
       "                age          day          dur     num_calls             y\n",
       "count  45205.000000  45205.00000  45205.00000  45205.000000  45205.000000\n",
       "mean      40.863666     15.80688    234.95620      2.392235      0.117000\n",
       "std       10.380009      8.32234    176.75476      1.600152      0.321424\n",
       "min       18.000000      1.00000      0.00000      1.000000      0.000000\n",
       "25%       33.000000      8.00000    103.00000      1.000000      0.000000\n",
       "50%       39.000000     16.00000    180.00000      2.000000      0.000000\n",
       "75%       48.000000     21.00000    319.00000      3.000000      0.000000\n",
       "max       70.000000     31.00000    643.00000      6.000000      1.000000"
      ]
     },
     "execution_count": 37,
     "metadata": {},
     "output_type": "execute_result"
    }
   ],
   "source": [
    "data.describe()"
   ]
  },
  {
   "cell_type": "code",
   "execution_count": 38,
   "id": "a7207fd4",
   "metadata": {},
   "outputs": [
    {
     "data": {
      "text/plain": [
       "age                int64\n",
       "job               object\n",
       "marital           object\n",
       "education_qual    object\n",
       "call_type         object\n",
       "day                int64\n",
       "mon               object\n",
       "dur                int64\n",
       "num_calls          int64\n",
       "prev_outcome      object\n",
       "y                  int64\n",
       "dtype: object"
      ]
     },
     "execution_count": 38,
     "metadata": {},
     "output_type": "execute_result"
    }
   ],
   "source": [
    "data.dtypes"
   ]
  },
  {
   "cell_type": "markdown",
   "id": "4937eac8",
   "metadata": {},
   "source": [
    "# Exploratory Data Analysis (EDA)"
   ]
  },
  {
   "cell_type": "code",
   "execution_count": 39,
   "id": "9023ffb2",
   "metadata": {},
   "outputs": [
    {
     "data": {
      "image/png": "[encoded data removed]",
      "text/plain": [
       "<Figure size 1200x600 with 2 Axes>"
      ]
     },
     "metadata": {},
     "output_type": "display_data"
    }
   ],
   "source": [
    "# Creating a plot to check the distribution for AGE and DAY\n",
    "plt.figure(figsize=(12,6))                  #describing the size of the histogram\n",
    "plt.subplot(1,2,1)                          #this creates a grid of 2 plots in a single row and gives which plot comes first\n",
    "sns.distplot(data.age, color = 'orange')    #this pulls the data from age column and gives a orange color histplot\n",
    "plt.subplot(1,2,2)                          #this creates the 2nd plot of the same row\n",
    "sns.distplot(data.day,color = 'blue')       #this pulls the data from day column and gives a blue color histplot\n",
    "plt.tight_layout()                          #this adjusts the space between the two subplots to fit perfectly"
   ]
  },
  {
   "cell_type": "markdown",
   "id": "949b14ac",
   "metadata": {},
   "source": [
    "The age distributed between 18 to 70 and middle age from 30 to 45 are more likely to purchase insurance\n",
    "\n",
    "The day distributed between 1 to 31 days"
   ]
  },
  {
   "cell_type": "code",
   "execution_count": 40,
   "id": "3c4dff03",
   "metadata": {},
   "outputs": [
    {
     "data": {
      "image/png": "[encoded data removed]",
      "text/plain": [
       "<Figure size 1200x600 with 2 Axes>"
      ]
     },
     "metadata": {},
     "output_type": "display_data"
    }
   ],
   "source": [
    "# Creating a plot to check the distribution for DUR and NUM_CALLS\n",
    "plt.figure(figsize=(12,6))                      #describing the size of the histogram\n",
    "plt.subplot(1,2,1)                              #this creates a grid of 2 plots in a single row and gives which plot comes first\n",
    "sns.distplot(data.dur, color = 'pink')          #this pulls the data from dur column and gives a orange color histplot\n",
    "plt.subplot(1,2,2)                              #this creates the 2nd plot of the same row\n",
    "sns.distplot(data.num_calls,color = 'green')    #this pulls the data from num_calls column and gives a blue color histplot\n",
    "plt.tight_layout()                              #this adjusts the space between the two subplots to fit perfectly"
   ]
  },
  {
   "cell_type": "markdown",
   "id": "34e519f5",
   "metadata": {},
   "source": [
    "The duration between 0 to 650\n",
    "\n",
    "the numb calls from 1 to 6"
   ]
  },
  {
   "cell_type": "markdown",
   "id": "74987d54",
   "metadata": {},
   "source": [
    "# Feature VS Target"
   ]
  },
  {
   "cell_type": "markdown",
   "id": "3b98aa94",
   "metadata": {},
   "source": [
    "# JOB"
   ]
  },
  {
   "cell_type": "code",
   "execution_count": 41,
   "id": "0d15bc26",
   "metadata": {},
   "outputs": [
    {
     "data": {
      "image/png": "[encoded data removed]",
      "text/plain": [
       "<Figure size 1000x600 with 1 Axes>"
      ]
     },
     "metadata": {},
     "output_type": "display_data"
    }
   ],
   "source": [
    "# Plotting the figure using barplot\n",
    "plt.figure(figsize=(10,6))\n",
    "sns.barplot(x='job',y='y',data=data,order=data.groupby('job')['y'].mean().reset_index().sort_values('y')['job'])\n",
    "plt.xticks(rotation=45)\n",
    "plt.title('Job vs Target')\n",
    "plt.show()"
   ]
  },
  {
   "cell_type": "markdown",
   "id": "c51cda87",
   "metadata": {},
   "source": [
    "Students are targeted more compared with other professions, second highest is retired persons we can see a linear increase in job column so we go with label encoding.\n",
    "\n",
    "{'blue-collar' :0, 'entrepreneur' :1, 'housemaid' :2, 'services' :3, 'technician' :4, 'self-employed' :5, 'admin.' :6, 'management' :7, 'unemployed' :8, 'retired' :9, 'student' :10}"
   ]
  },
  {
   "cell_type": "markdown",
   "id": "f896f22f",
   "metadata": {},
   "source": [
    "# Marital"
   ]
  },
  {
   "cell_type": "code",
   "execution_count": 42,
   "id": "d88f95d2",
   "metadata": {},
   "outputs": [
    {
     "data": {
      "image/png": "[encoded data removed]",
      "text/plain": [
       "<Figure size 1000x600 with 1 Axes>"
      ]
     },
     "metadata": {},
     "output_type": "display_data"
    }
   ],
   "source": [
    "# Plotting the figure using barplot\n",
    "plt.figure(figsize=(10,6))\n",
    "sns.barplot(x='marital',y='y',data=data,order=data.groupby('marital')['y'].mean().reset_index().sort_values('y')['marital'])\n",
    "plt.xticks(rotation=0)\n",
    "plt.title('Marital vs Target')\n",
    "plt.show()"
   ]
  },
  {
   "cell_type": "markdown",
   "id": "54fe23c5",
   "metadata": {},
   "source": [
    "Single category has subsribed to insurance other than married and divorced there is a linear increase \n",
    "\n",
    "{'married' :0, 'divorced' :1, 'single' :2}"
   ]
  },
  {
   "cell_type": "markdown",
   "id": "48b58fbb",
   "metadata": {},
   "source": [
    "# Education_qual"
   ]
  },
  {
   "cell_type": "code",
   "execution_count": 43,
   "id": "d99c3fd3",
   "metadata": {},
   "outputs": [
    {
     "data": {
      "image/png": "[encoded data removed]",
      "text/plain": [
       "<Figure size 1000x600 with 1 Axes>"
      ]
     },
     "metadata": {},
     "output_type": "display_data"
    }
   ],
   "source": [
    "# Plotting the figure using barplot\n",
    "plt.figure(figsize=(10,6))\n",
    "sns.barplot(x='education_qual',y='y',data=data,order=data.groupby('education_qual')['y'].mean().reset_index().sort_values('y')['education_qual'])\n",
    "plt.xticks(rotation=0)\n",
    "plt.title('Education_qual vs Target')\n",
    "plt.show()"
   ]
  },
  {
   "cell_type": "markdown",
   "id": "adf81f71",
   "metadata": {},
   "source": [
    "Tertiary category is intrested more to subscribe to the insurance other than primary and secondary, we can see a linear increase, so we can use label encoding. \n",
    "\n",
    "{'primary' :0, 'secondary' :1, 'tertiary' :2}"
   ]
  },
  {
   "cell_type": "markdown",
   "id": "0ee8e228",
   "metadata": {},
   "source": [
    "# Call_Type"
   ]
  },
  {
   "cell_type": "code",
   "execution_count": 44,
   "id": "0cf0b5f8",
   "metadata": {},
   "outputs": [
    {
     "data": {
      "image/png": "[encoded data removed]",
      "text/plain": [
       "<Figure size 1000x600 with 1 Axes>"
      ]
     },
     "metadata": {},
     "output_type": "display_data"
    }
   ],
   "source": [
    "# Plotting the figure using barplot\n",
    "plt.figure(figsize=(10,6))\n",
    "sns.barplot(x='call_type',y='y',data=data,order=data.groupby('call_type')['y'].mean().reset_index().sort_values('y')['call_type'])\n",
    "plt.xticks(rotation=0)\n",
    "plt.title('Call_type vs Target')\n",
    "plt.show()"
   ]
  },
  {
   "cell_type": "markdown",
   "id": "95766e77",
   "metadata": {},
   "source": [
    "We can see, through cellular the most calls were registered and subscribed to insurance plan , there is no linear increase so we go with one-hot encoding.\n",
    "\n",
    "{'unknown' :0, 'telephone' :1, 'cellular' :2}"
   ]
  },
  {
   "cell_type": "markdown",
   "id": "80a54dc8",
   "metadata": {},
   "source": [
    "# Month(Mon)"
   ]
  },
  {
   "cell_type": "code",
   "execution_count": 45,
   "id": "c620c750",
   "metadata": {},
   "outputs": [
    {
     "data": {
      "image/png": "[encoded data removed]",
      "text/plain": [
       "<Figure size 1000x600 with 1 Axes>"
      ]
     },
     "metadata": {},
     "output_type": "display_data"
    }
   ],
   "source": [
    "# Plotting the figure using barplot\n",
    "plt.figure(figsize=(10,6))\n",
    "sns.barplot(x='mon',y='y',data=data,order=data.groupby('mon')['y'].mean().reset_index().sort_values('y')['mon'])\n",
    "plt.xticks(rotation=0)\n",
    "plt.title('Mon vs Target')\n",
    "plt.show()"
   ]
  },
  {
   "cell_type": "markdown",
   "id": "a0de1536",
   "metadata": {},
   "source": [
    "We can see that month of march, have more insurance policy subscribed.\n",
    "\n",
    "{'may' :0, 'jul' :1, 'jan' :2, 'nov' :3, 'jun' :4, 'aug' :5, 'feb' :6, 'apr' :7, 'oct' :8, 'sep' :9, 'dec' :10, 'mar' :11}"
   ]
  },
  {
   "cell_type": "markdown",
   "id": "a26a696b",
   "metadata": {},
   "source": [
    "# Prev_Outcome"
   ]
  },
  {
   "cell_type": "code",
   "execution_count": 46,
   "id": "e802b21b",
   "metadata": {},
   "outputs": [
    {
     "data": {
      "image/png": "[encoded data removed]",
      "text/plain": [
       "<Figure size 1000x600 with 1 Axes>"
      ]
     },
     "metadata": {},
     "output_type": "display_data"
    }
   ],
   "source": [
    "# Plotting the figure using barplot\n",
    "plt.figure(figsize=(10,6))\n",
    "sns.barplot(x='prev_outcome',y='y',data=data,order=data.groupby('prev_outcome')['y'].mean().reset_index().sort_values('y')['prev_outcome'])\n",
    "plt.xticks(rotation=0)\n",
    "plt.title('Prev_outcome vs Target')\n",
    "plt.show()"
   ]
  },
  {
   "cell_type": "markdown",
   "id": "aa8443af",
   "metadata": {},
   "source": [
    "# For Numerical data"
   ]
  },
  {
   "cell_type": "markdown",
   "id": "3c1798fb",
   "metadata": {},
   "source": [
    "# AGE"
   ]
  },
  {
   "cell_type": "code",
   "execution_count": 47,
   "id": "8d14141c",
   "metadata": {},
   "outputs": [
    {
     "data": {
      "image/png": "[encoded data removed]",
      "text/plain": [
       "<Figure size 1500x600 with 1 Axes>"
      ]
     },
     "metadata": {},
     "output_type": "display_data"
    }
   ],
   "source": [
    "# Plotting the figure using barplot\n",
    "sorted_age = sorted(data['age'].unique())\n",
    "plt.figure(figsize=(15,6))\n",
    "sns.barplot(x='age', y='y', data=data, order=sorted_age)\n",
    "plt.xticks(rotation=0)\n",
    "plt.title('Age vs Target')\n",
    "plt.show()"
   ]
  },
  {
   "cell_type": "markdown",
   "id": "c833f1c2",
   "metadata": {},
   "source": [
    "# DAY"
   ]
  },
  {
   "cell_type": "code",
   "execution_count": 48,
   "id": "8bc3ed21",
   "metadata": {},
   "outputs": [
    {
     "data": {
      "image/png": "[encoded data removed]",
      "text/plain": [
       "<Figure size 1000x600 with 1 Axes>"
      ]
     },
     "metadata": {},
     "output_type": "display_data"
    }
   ],
   "source": [
    "# Plotting the figure using barplot\n",
    "sorted_days = sorted(data['day'].unique())\n",
    "plt.figure(figsize=(10,6))\n",
    "sns.barplot(x='day', y='y', data=data, order=sorted_days)\n",
    "plt.xticks(rotation=0)\n",
    "plt.title('Day vs Target')\n",
    "plt.show()"
   ]
  },
  {
   "cell_type": "markdown",
   "id": "691400ce",
   "metadata": {},
   "source": [
    "We can see that the day 1 has the highest conversion rate and day 10 has the second highest conversion rate."
   ]
  },
  {
   "cell_type": "markdown",
   "id": "38833166",
   "metadata": {},
   "source": [
    "# Num_Calls"
   ]
  },
  {
   "cell_type": "code",
   "execution_count": 49,
   "id": "aa4a1e4d",
   "metadata": {},
   "outputs": [
    {
     "data": {
      "image/png": "[encoded data removed]",
      "text/plain": [
       "<Figure size 1000x600 with 1 Axes>"
      ]
     },
     "metadata": {},
     "output_type": "display_data"
    }
   ],
   "source": [
    "# Plotting the figure using barplot\n",
    "sort = sorted(data['num_calls'].unique())\n",
    "plt.figure(figsize=(10,6))\n",
    "sns.barplot(x='num_calls', y='y', data=data, order=sort)\n",
    "plt.xticks(rotation=0)\n",
    "plt.title('Num_calls vs Target')\n",
    "plt.show()"
   ]
  },
  {
   "cell_type": "markdown",
   "id": "feeb6235",
   "metadata": {},
   "source": [
    "we can see that no 1 has the highest conversion rate."
   ]
  },
  {
   "cell_type": "markdown",
   "id": "9cd0b4b6",
   "metadata": {},
   "source": [
    "# DUR"
   ]
  },
  {
   "cell_type": "code",
   "execution_count": 50,
   "id": "e93ed9d4",
   "metadata": {},
   "outputs": [
    {
     "data": {
      "image/png": "[encoded data removed]",
      "text/plain": [
       "<Figure size 1500x600 with 1 Axes>"
      ]
     },
     "metadata": {},
     "output_type": "display_data"
    }
   ],
   "source": [
    "# Plotting the figure using barplot\n",
    "sort_dur = sorted(data['dur'].unique())\n",
    "plt.figure(figsize=(15,6))\n",
    "sns.barplot(x='dur', y='y', data=data, order=sort_dur)\n",
    "plt.xticks(rotation=0)\n",
    "plt.title('Dur vs Target')\n",
    "plt.show()"
   ]
  },
  {
   "cell_type": "markdown",
   "id": "142e11bd",
   "metadata": {},
   "source": [
    "Hence the plot is not clear, it is difficult to understand the conversion rate ! \n",
    "\n",
    "So I want to make the plot more visible"
   ]
  },
  {
   "cell_type": "markdown",
   "id": "23b6953c",
   "metadata": {},
   "source": [
    "# Features Vs Target plots together (for our reference)"
   ]
  },
  {
   "cell_type": "code",
   "execution_count": 51,
   "id": "5a2f2cd7",
   "metadata": {},
   "outputs": [
    {
     "data": {
      "image/png": "[encoded data removed]",
      "text/plain": [
       "<Figure size 2000x1500 with 6 Axes>"
      ]
     },
     "metadata": {},
     "output_type": "display_data"
    },
    {
     "data": {
      "text/plain": [
       "<Figure size 640x480 with 0 Axes>"
      ]
     },
     "metadata": {},
     "output_type": "display_data"
    }
   ],
   "source": [
    "# Plotting the figure using barplot\n",
    "plt.figure(figsize=(20,15))\n",
    "\n",
    "plt.subplot(231)\n",
    "sns.barplot(x='job',y='y',data=data,order=data.groupby('job')['y'].mean().reset_index().sort_values('y')['job'])\n",
    "plt.xticks(rotation=45)\n",
    "plt.title('Job vs Target')\n",
    "\n",
    "plt.subplot(232)\n",
    "sns.barplot(x='marital',y='y',data=data,order=data.groupby('marital')['y'].mean().reset_index().sort_values('y')['marital'])\n",
    "plt.xticks(rotation=0)\n",
    "plt.title('Marital vs Target')\n",
    "\n",
    "plt.subplot(233)\n",
    "sns.barplot(x='education_qual',y='y',data=data,order=data.groupby('education_qual')['y'].mean().reset_index().sort_values('y')['education_qual'])\n",
    "plt.xticks(rotation=0)\n",
    "plt.title('Education_qual vs Target')\n",
    "\n",
    "plt.subplot(234)\n",
    "sns.barplot(x='call_type',y='y',data=data,order=data.groupby('call_type')['y'].mean().reset_index().sort_values('y')['call_type'])\n",
    "plt.xticks(rotation=0)\n",
    "plt.title('Call_type vs Target')\n",
    "\n",
    "plt.subplot(235)\n",
    "sns.barplot(x='mon',y='y',data=data,order=data.groupby('mon')['y'].mean().reset_index().sort_values('y')['mon'])\n",
    "plt.xticks(rotation=0)\n",
    "plt.title('Mon vs Target')\n",
    "\n",
    "plt.subplot(236)\n",
    "sns.barplot(x='prev_outcome',y='y',data=data,order=data.groupby('prev_outcome')['y'].mean().reset_index().sort_values('y')['prev_outcome'])\n",
    "plt.xticks(rotation=0)\n",
    "plt.title('Prev_outcome vs Target')\n",
    "\n",
    "plt.show()\n",
    "plt.tight_layout()"
   ]
  },
  {
   "cell_type": "markdown",
   "id": "eb1ac894",
   "metadata": {},
   "source": [
    "# Finding Conversion rate for Age & Duration"
   ]
  },
  {
   "cell_type": "markdown",
   "id": "cecf14cb",
   "metadata": {},
   "source": [
    "# Age"
   ]
  },
  {
   "cell_type": "code",
   "execution_count": 52,
   "id": "b26d1bd4",
   "metadata": {},
   "outputs": [
    {
     "data": {
      "image/png": "[encoded data removed]",
      "text/plain": [
       "<Figure size 640x480 with 1 Axes>"
      ]
     },
     "metadata": {},
     "output_type": "display_data"
    }
   ],
   "source": [
    "bins = np.linspace(data.age.min(), data.age.max(), 20)\n",
    "c = np.digitize(data.age, bins)\n",
    "\n",
    "# Define colors for each bar based on the condition\n",
    "colors = ['blue' if i == 1 else 'orange' for i in c]\n",
    "\n",
    "plt.bar(\n",
    "    bins[:-1], \n",
    "    [np.mean(data.y.values[c == i]) for i in range(1, len(bins))],\n",
    "    width=bins[1] - bins[0],\n",
    "    color=colors  # Adding the colors parameter\n",
    ")\n",
    "\n",
    "plt.title('Age vs Target')  # Adding the title\n",
    "plt.xlabel('Age', labelpad=12)\n",
    "plt.ylabel('Y', labelpad=12)\n",
    "plt.show()"
   ]
  },
  {
   "cell_type": "markdown",
   "id": "047935df",
   "metadata": {},
   "source": [
    "# Dur"
   ]
  },
  {
   "cell_type": "code",
   "execution_count": 53,
   "id": "0105e7e2",
   "metadata": {},
   "outputs": [
    {
     "data": {
      "image/png": "[encoded data removed]",
      "text/plain": [
       "<Figure size 640x480 with 1 Axes>"
      ]
     },
     "metadata": {},
     "output_type": "display_data"
    }
   ],
   "source": [
    "bins = np.linspace(data.dur.min(), data.dur.max(), 20)\n",
    "c = np.digitize(data.dur, bins)\n",
    "\n",
    "# Define colors for each bar based on the condition\n",
    "colors = ['blue' if i == 1 else 'orange' for i in c]\n",
    "\n",
    "plt.bar(\n",
    "    bins[:-1], \n",
    "    [np.mean(data.y.values[c == i]) for i in range(1, len(bins))],\n",
    "    width=bins[1] - bins[0],\n",
    "    color=colors  # Adding the colors parameter\n",
    ")\n",
    "\n",
    "plt.title('Dur vs Target')  # Adding the title\n",
    "plt.xlabel('Dur', labelpad=12)\n",
    "plt.ylabel('Y', labelpad=12)\n",
    "plt.show()"
   ]
  },
  {
   "cell_type": "markdown",
   "id": "e5487680",
   "metadata": {},
   "source": [
    "# Encoding The data"
   ]
  },
  {
   "cell_type": "code",
   "execution_count": 54,
   "id": "c103554f",
   "metadata": {},
   "outputs": [
    {
     "data": {
      "text/plain": [
       "age                int64\n",
       "job               object\n",
       "marital           object\n",
       "education_qual    object\n",
       "call_type         object\n",
       "day                int64\n",
       "mon               object\n",
       "dur                int64\n",
       "num_calls          int64\n",
       "prev_outcome      object\n",
       "y                  int64\n",
       "dtype: object"
      ]
     },
     "execution_count": 54,
     "metadata": {},
     "output_type": "execute_result"
    }
   ],
   "source": [
    "# Assuring the data types before encoding\n",
    "data.dtypes"
   ]
  },
  {
   "cell_type": "code",
   "execution_count": 55,
   "id": "78beb8ad",
   "metadata": {},
   "outputs": [],
   "source": [
    "# Saving the cleaned data to csv for streamlit\n",
    "data.to_csv(\"D:/Clinton files.py/My details/Fin_project/Streamlit_data.csv\")"
   ]
  },
  {
   "cell_type": "markdown",
   "id": "d6771fc2",
   "metadata": {},
   "source": [
    "# Label Encoding"
   ]
  },
  {
   "cell_type": "code",
   "execution_count": 56,
   "id": "9491121e",
   "metadata": {},
   "outputs": [
    {
     "data": {
      "text/html": [
       "<div>\n",
       "<style scoped>\n",
       "    .dataframe tbody tr th:only-of-type {\n",
       "        vertical-align: middle;\n",
       "    }\n",
       "\n",
       "    .dataframe tbody tr th {\n",
       "        vertical-align: top;\n",
       "    }\n",
       "\n",
       "    .dataframe thead th {\n",
       "        text-align: right;\n",
       "    }\n",
       "</style>\n",
       "<table border=\"1\" class=\"dataframe\">\n",
       "  <thead>\n",
       "    <tr style=\"text-align: right;\">\n",
       "      <th></th>\n",
       "      <th>age</th>\n",
       "      <th>job</th>\n",
       "      <th>marital</th>\n",
       "      <th>education_qual</th>\n",
       "      <th>call_type</th>\n",
       "      <th>day</th>\n",
       "      <th>mon</th>\n",
       "      <th>dur</th>\n",
       "      <th>num_calls</th>\n",
       "      <th>prev_outcome</th>\n",
       "      <th>y</th>\n",
       "    </tr>\n",
       "  </thead>\n",
       "  <tbody>\n",
       "    <tr>\n",
       "      <th>0</th>\n",
       "      <td>58</td>\n",
       "      <td>7</td>\n",
       "      <td>0</td>\n",
       "      <td>2</td>\n",
       "      <td>unknown</td>\n",
       "      <td>5</td>\n",
       "      <td>may</td>\n",
       "      <td>261</td>\n",
       "      <td>1</td>\n",
       "      <td>unknown</td>\n",
       "      <td>0</td>\n",
       "    </tr>\n",
       "    <tr>\n",
       "      <th>1</th>\n",
       "      <td>44</td>\n",
       "      <td>4</td>\n",
       "      <td>2</td>\n",
       "      <td>1</td>\n",
       "      <td>unknown</td>\n",
       "      <td>5</td>\n",
       "      <td>may</td>\n",
       "      <td>151</td>\n",
       "      <td>1</td>\n",
       "      <td>unknown</td>\n",
       "      <td>0</td>\n",
       "    </tr>\n",
       "    <tr>\n",
       "      <th>2</th>\n",
       "      <td>33</td>\n",
       "      <td>1</td>\n",
       "      <td>0</td>\n",
       "      <td>1</td>\n",
       "      <td>unknown</td>\n",
       "      <td>5</td>\n",
       "      <td>may</td>\n",
       "      <td>76</td>\n",
       "      <td>1</td>\n",
       "      <td>unknown</td>\n",
       "      <td>0</td>\n",
       "    </tr>\n",
       "    <tr>\n",
       "      <th>3</th>\n",
       "      <td>47</td>\n",
       "      <td>0</td>\n",
       "      <td>0</td>\n",
       "      <td>1</td>\n",
       "      <td>unknown</td>\n",
       "      <td>5</td>\n",
       "      <td>may</td>\n",
       "      <td>92</td>\n",
       "      <td>1</td>\n",
       "      <td>unknown</td>\n",
       "      <td>0</td>\n",
       "    </tr>\n",
       "    <tr>\n",
       "      <th>4</th>\n",
       "      <td>33</td>\n",
       "      <td>0</td>\n",
       "      <td>2</td>\n",
       "      <td>1</td>\n",
       "      <td>unknown</td>\n",
       "      <td>5</td>\n",
       "      <td>may</td>\n",
       "      <td>198</td>\n",
       "      <td>1</td>\n",
       "      <td>unknown</td>\n",
       "      <td>0</td>\n",
       "    </tr>\n",
       "  </tbody>\n",
       "</table>\n",
       "</div>"
      ],
      "text/plain": [
       "   age  job  marital  education_qual call_type  day  mon  dur  num_calls  \\\n",
       "0   58    7        0               2   unknown    5  may  261          1   \n",
       "1   44    4        2               1   unknown    5  may  151          1   \n",
       "2   33    1        0               1   unknown    5  may   76          1   \n",
       "3   47    0        0               1   unknown    5  may   92          1   \n",
       "4   33    0        2               1   unknown    5  may  198          1   \n",
       "\n",
       "  prev_outcome  y  \n",
       "0      unknown  0  \n",
       "1      unknown  0  \n",
       "2      unknown  0  \n",
       "3      unknown  0  \n",
       "4      unknown  0  "
      ]
     },
     "execution_count": 56,
     "metadata": {},
     "output_type": "execute_result"
    }
   ],
   "source": [
    "data['job'] = data['job'].map({'blue-collar':0, 'entrepreneur':1, 'housemaid':2, 'services':3, 'technician':4, 'self-employed':5, 'admin.':6, 'management':7, 'unemployed':8, 'retired':9, 'student':10})\n",
    "data['education_qual'] = data['education_qual'].map({'primary':0, 'secondary':1, 'tertiary':2})\n",
    "data['marital'] = data['marital'].map({'married':0, 'divorced':1, 'single':2})\n",
    "\n",
    "data.head()"
   ]
  },
  {
   "cell_type": "markdown",
   "id": "7a39b05d",
   "metadata": {},
   "source": [
    "# One Hot Encoding"
   ]
  },
  {
   "cell_type": "code",
   "execution_count": 57,
   "id": "75200070",
   "metadata": {},
   "outputs": [
    {
     "data": {
      "text/html": [
       "<div>\n",
       "<style scoped>\n",
       "    .dataframe tbody tr th:only-of-type {\n",
       "        vertical-align: middle;\n",
       "    }\n",
       "\n",
       "    .dataframe tbody tr th {\n",
       "        vertical-align: top;\n",
       "    }\n",
       "\n",
       "    .dataframe thead th {\n",
       "        text-align: right;\n",
       "    }\n",
       "</style>\n",
       "<table border=\"1\" class=\"dataframe\">\n",
       "  <thead>\n",
       "    <tr style=\"text-align: right;\">\n",
       "      <th></th>\n",
       "      <th>age</th>\n",
       "      <th>job</th>\n",
       "      <th>marital</th>\n",
       "      <th>education_qual</th>\n",
       "      <th>day</th>\n",
       "      <th>dur</th>\n",
       "      <th>num_calls</th>\n",
       "      <th>y</th>\n",
       "      <th>call_type_cellular</th>\n",
       "      <th>call_type_telephone</th>\n",
       "      <th>...</th>\n",
       "      <th>mon_jun</th>\n",
       "      <th>mon_mar</th>\n",
       "      <th>mon_may</th>\n",
       "      <th>mon_nov</th>\n",
       "      <th>mon_oct</th>\n",
       "      <th>mon_sep</th>\n",
       "      <th>prev_outcome_failure</th>\n",
       "      <th>prev_outcome_other</th>\n",
       "      <th>prev_outcome_success</th>\n",
       "      <th>prev_outcome_unknown</th>\n",
       "    </tr>\n",
       "  </thead>\n",
       "  <tbody>\n",
       "    <tr>\n",
       "      <th>0</th>\n",
       "      <td>58</td>\n",
       "      <td>7</td>\n",
       "      <td>0</td>\n",
       "      <td>2</td>\n",
       "      <td>5</td>\n",
       "      <td>261</td>\n",
       "      <td>1</td>\n",
       "      <td>0</td>\n",
       "      <td>0</td>\n",
       "      <td>0</td>\n",
       "      <td>...</td>\n",
       "      <td>0</td>\n",
       "      <td>0</td>\n",
       "      <td>1</td>\n",
       "      <td>0</td>\n",
       "      <td>0</td>\n",
       "      <td>0</td>\n",
       "      <td>0</td>\n",
       "      <td>0</td>\n",
       "      <td>0</td>\n",
       "      <td>1</td>\n",
       "    </tr>\n",
       "    <tr>\n",
       "      <th>1</th>\n",
       "      <td>44</td>\n",
       "      <td>4</td>\n",
       "      <td>2</td>\n",
       "      <td>1</td>\n",
       "      <td>5</td>\n",
       "      <td>151</td>\n",
       "      <td>1</td>\n",
       "      <td>0</td>\n",
       "      <td>0</td>\n",
       "      <td>0</td>\n",
       "      <td>...</td>\n",
       "      <td>0</td>\n",
       "      <td>0</td>\n",
       "      <td>1</td>\n",
       "      <td>0</td>\n",
       "      <td>0</td>\n",
       "      <td>0</td>\n",
       "      <td>0</td>\n",
       "      <td>0</td>\n",
       "      <td>0</td>\n",
       "      <td>1</td>\n",
       "    </tr>\n",
       "    <tr>\n",
       "      <th>2</th>\n",
       "      <td>33</td>\n",
       "      <td>1</td>\n",
       "      <td>0</td>\n",
       "      <td>1</td>\n",
       "      <td>5</td>\n",
       "      <td>76</td>\n",
       "      <td>1</td>\n",
       "      <td>0</td>\n",
       "      <td>0</td>\n",
       "      <td>0</td>\n",
       "      <td>...</td>\n",
       "      <td>0</td>\n",
       "      <td>0</td>\n",
       "      <td>1</td>\n",
       "      <td>0</td>\n",
       "      <td>0</td>\n",
       "      <td>0</td>\n",
       "      <td>0</td>\n",
       "      <td>0</td>\n",
       "      <td>0</td>\n",
       "      <td>1</td>\n",
       "    </tr>\n",
       "    <tr>\n",
       "      <th>3</th>\n",
       "      <td>47</td>\n",
       "      <td>0</td>\n",
       "      <td>0</td>\n",
       "      <td>1</td>\n",
       "      <td>5</td>\n",
       "      <td>92</td>\n",
       "      <td>1</td>\n",
       "      <td>0</td>\n",
       "      <td>0</td>\n",
       "      <td>0</td>\n",
       "      <td>...</td>\n",
       "      <td>0</td>\n",
       "      <td>0</td>\n",
       "      <td>1</td>\n",
       "      <td>0</td>\n",
       "      <td>0</td>\n",
       "      <td>0</td>\n",
       "      <td>0</td>\n",
       "      <td>0</td>\n",
       "      <td>0</td>\n",
       "      <td>1</td>\n",
       "    </tr>\n",
       "    <tr>\n",
       "      <th>4</th>\n",
       "      <td>33</td>\n",
       "      <td>0</td>\n",
       "      <td>2</td>\n",
       "      <td>1</td>\n",
       "      <td>5</td>\n",
       "      <td>198</td>\n",
       "      <td>1</td>\n",
       "      <td>0</td>\n",
       "      <td>0</td>\n",
       "      <td>0</td>\n",
       "      <td>...</td>\n",
       "      <td>0</td>\n",
       "      <td>0</td>\n",
       "      <td>1</td>\n",
       "      <td>0</td>\n",
       "      <td>0</td>\n",
       "      <td>0</td>\n",
       "      <td>0</td>\n",
       "      <td>0</td>\n",
       "      <td>0</td>\n",
       "      <td>1</td>\n",
       "    </tr>\n",
       "  </tbody>\n",
       "</table>\n",
       "<p>5 rows × 27 columns</p>\n",
       "</div>"
      ],
      "text/plain": [
       "   age  job  marital  education_qual  day  dur  num_calls  y  \\\n",
       "0   58    7        0               2    5  261          1  0   \n",
       "1   44    4        2               1    5  151          1  0   \n",
       "2   33    1        0               1    5   76          1  0   \n",
       "3   47    0        0               1    5   92          1  0   \n",
       "4   33    0        2               1    5  198          1  0   \n",
       "\n",
       "   call_type_cellular  call_type_telephone  ...  mon_jun  mon_mar  mon_may  \\\n",
       "0                   0                    0  ...        0        0        1   \n",
       "1                   0                    0  ...        0        0        1   \n",
       "2                   0                    0  ...        0        0        1   \n",
       "3                   0                    0  ...        0        0        1   \n",
       "4                   0                    0  ...        0        0        1   \n",
       "\n",
       "   mon_nov  mon_oct  mon_sep  prev_outcome_failure  prev_outcome_other  \\\n",
       "0        0        0        0                     0                   0   \n",
       "1        0        0        0                     0                   0   \n",
       "2        0        0        0                     0                   0   \n",
       "3        0        0        0                     0                   0   \n",
       "4        0        0        0                     0                   0   \n",
       "\n",
       "   prev_outcome_success  prev_outcome_unknown  \n",
       "0                     0                     1  \n",
       "1                     0                     1  \n",
       "2                     0                     1  \n",
       "3                     0                     1  \n",
       "4                     0                     1  \n",
       "\n",
       "[5 rows x 27 columns]"
      ]
     },
     "execution_count": 57,
     "metadata": {},
     "output_type": "execute_result"
    }
   ],
   "source": [
    "data= pd.get_dummies(data, columns=['call_type','mon','prev_outcome'])\n",
    "\n",
    "data.head()"
   ]
  },
  {
   "cell_type": "markdown",
   "id": "00370424",
   "metadata": {},
   "source": [
    "Encoding the data has been done!"
   ]
  },
  {
   "cell_type": "markdown",
   "id": "edf87026",
   "metadata": {},
   "source": [
    "# Target and Feature "
   ]
  },
  {
   "cell_type": "code",
   "execution_count": 58,
   "id": "732479a4",
   "metadata": {},
   "outputs": [],
   "source": [
    "X = data[['age','job','marital','education_qual','day','dur','num_calls','call_type_cellular','call_type_telephone','call_type_unknown','mon_apr', \n",
    "          'mon_aug','mon_dec','mon_feb','mon_jan','mon_jul','mon_jun','mon_mar','mon_may','mon_nov','mon_oct','mon_sep','prev_outcome_failure','prev_outcome_other','prev_outcome_success','prev_outcome_unknown']].values\n",
    "\n",
    "y = data['y'].values"
   ]
  },
  {
   "cell_type": "markdown",
   "id": "87a59641",
   "metadata": {},
   "source": [
    "# splitting the Data"
   ]
  },
  {
   "cell_type": "code",
   "execution_count": 59,
   "id": "8733e960",
   "metadata": {},
   "outputs": [],
   "source": [
    "X_train,X_test,y_train,y_test = train_test_split(X,y,test_size=0.20,random_state=0)"
   ]
  },
  {
   "cell_type": "code",
   "execution_count": 60,
   "id": "1f3a51ba",
   "metadata": {},
   "outputs": [
    {
     "data": {
      "text/plain": [
       "((36164, 26), (9041, 26), (36164,), (9041,))"
      ]
     },
     "execution_count": 60,
     "metadata": {},
     "output_type": "execute_result"
    }
   ],
   "source": [
    "X_train.shape, X_test.shape, y_train.shape, y_test.shape"
   ]
  },
  {
   "cell_type": "markdown",
   "id": "ae4cba2b",
   "metadata": {},
   "source": [
    "# Balancing the data using (SMOTEENN)"
   ]
  },
  {
   "cell_type": "code",
   "execution_count": 61,
   "id": "28d63a24",
   "metadata": {},
   "outputs": [],
   "source": [
    "# Balancing the data using SMOTEENN\n",
    "smt = SMOTEENN(sampling_strategy='all') \n",
    "X_train, y_train = smt.fit_resample(X_train, y_train)"
   ]
  },
  {
   "cell_type": "code",
   "execution_count": 62,
   "id": "b4e29ee7",
   "metadata": {},
   "outputs": [
    {
     "name": "stdout",
     "output_type": "stream",
     "text": [
      "51325\n",
      "51325\n"
     ]
    }
   ],
   "source": [
    "# Checking whether it is balanced or not\n",
    "print(len(X_train))\n",
    "print(len(y_train))"
   ]
  },
  {
   "cell_type": "markdown",
   "id": "e639ea35",
   "metadata": {},
   "source": [
    "# SCALING the data"
   ]
  },
  {
   "cell_type": "code",
   "execution_count": 63,
   "id": "ffc95c3f",
   "metadata": {},
   "outputs": [],
   "source": [
    "# Scaling the data\n",
    "scaler = StandardScaler()\n",
    "X_train_scaled = scaler.fit_transform(X_train)\n",
    "X_test_scaled = scaler.transform(X_test)"
   ]
  },
  {
   "cell_type": "markdown",
   "id": "2b817ebb",
   "metadata": {},
   "source": [
    "# Modelling"
   ]
  },
  {
   "cell_type": "markdown",
   "id": "d82286df",
   "metadata": {},
   "source": [
    "# (a) Logistic Regression"
   ]
  },
  {
   "cell_type": "code",
   "execution_count": 64,
   "id": "80b06e7a",
   "metadata": {},
   "outputs": [
    {
     "name": "stdout",
     "output_type": "stream",
     "text": [
      "Training Accuracy : 0.9174476376035071\n",
      "Testing Accuracy : 0.7985842274084726\n",
      "F1 Score : 0.4894869638351556\n",
      "ROC AUC Score : 0.8044271292528129\n"
     ]
    }
   ],
   "source": [
    "# Creating an instance to LR\n",
    "Lr = LogisticRegression()\n",
    "\n",
    "# fitting the model to training dataset\n",
    "Lr.fit(X_train,y_train)\n",
    "\n",
    "# To find the Training accuracy\n",
    "Lr.score(X_train,y_train)\n",
    "\n",
    "# To make predictions on the test dataset\n",
    "y_pred = Lr.predict(X_test)\n",
    "\n",
    "print(\"Training Accuracy :\",Lr.score(X_train,y_train))\n",
    "print(\"Testing Accuracy :\",Lr.score(X_test,y_test))\n",
    "print(\"F1 Score :\", f1_score(y_test,y_pred))\n",
    "print(\"ROC AUC Score :\", roc_auc_score(y_test,y_pred))"
   ]
  },
  {
   "cell_type": "code",
   "execution_count": 65,
   "id": "38ea1fee",
   "metadata": {},
   "outputs": [
    {
     "name": "stdout",
     "output_type": "stream",
     "text": [
      "0.9174476376035071\n"
     ]
    }
   ],
   "source": [
    "# Training Accuracy for Linear Regression\n",
    "Lr = LogisticRegression()\n",
    "Lr.fit(X_train, y_train)\n",
    "Lr.score(X_train,y_train)\n",
    "\n",
    "lr_Train = Lr.score(X_train,y_train)\n",
    "print(lr_Train)"
   ]
  },
  {
   "cell_type": "code",
   "execution_count": 66,
   "id": "f489a183",
   "metadata": {},
   "outputs": [
    {
     "name": "stdout",
     "output_type": "stream",
     "text": [
      "0.7985842274084726\n"
     ]
    }
   ],
   "source": [
    "# Testing accuracy for Linear Regression\n",
    "Lr = LogisticRegression()\n",
    "Lr.fit(X_train, y_train)\n",
    "Lr.score(X_test,y_test)\n",
    "\n",
    "lr_Test = Lr.score(X_test,y_test)\n",
    "print(lr_Test)"
   ]
  },
  {
   "cell_type": "code",
   "execution_count": 67,
   "id": "9860e52b",
   "metadata": {},
   "outputs": [
    {
     "name": "stdout",
     "output_type": "stream",
     "text": [
      "0.8044271292528129\n"
     ]
    }
   ],
   "source": [
    "# ROC AUC score for Linear Regression\n",
    "Lr = LogisticRegression()\n",
    "Lr.fit(X_train, y_train)\n",
    "y_pred = Lr.predict(X_test)\n",
    "\n",
    "lr_auroc = roc_auc_score(y_test, y_pred)\n",
    "\n",
    "print(lr_auroc)"
   ]
  },
  {
   "cell_type": "code",
   "execution_count": 68,
   "id": "494a41c3",
   "metadata": {},
   "outputs": [
    {
     "data": {
      "text/plain": [
       "0.4894869638351556"
      ]
     },
     "execution_count": 68,
     "metadata": {},
     "output_type": "execute_result"
    }
   ],
   "source": [
    "# F1_Score for Linear Regression\n",
    "Lr = LogisticRegression()\n",
    "Lr.fit(X_train, y_train)\n",
    "y_pred = Lr.predict(X_test)\n",
    "\n",
    "lr_f1 = f1_score(y_test, y_pred)\n",
    "lr_f1"
   ]
  },
  {
   "cell_type": "markdown",
   "id": "3541ef8c",
   "metadata": {},
   "source": [
    "# (b) Decision Tree"
   ]
  },
  {
   "cell_type": "code",
   "execution_count": 69,
   "id": "91725fcb",
   "metadata": {},
   "outputs": [
    {
     "name": "stdout",
     "output_type": "stream",
     "text": [
      "Depth  :  1  Training Accuracy :  0.7961617145640526  Cross val score :  0.8263492501640484\n",
      "Depth  :  2  Training Accuracy :  0.8324403312226011  Cross val score :  0.8631502897749901\n",
      "Depth  :  3  Training Accuracy :  0.8818899171943497  Cross val score :  0.9031120042122263\n",
      "Depth  :  4  Training Accuracy :  0.893307355090112  Cross val score :  0.9111484964032155\n",
      "Depth  :  5  Training Accuracy :  0.907549926936191  Cross val score :  0.9196463595735807\n",
      "Depth  :  6  Training Accuracy :  0.9214612761811982  Cross val score :  0.92897323925157\n",
      "Depth  :  7  Training Accuracy :  0.9337944471505114  Cross val score :  0.9388174085420058\n",
      "Depth  :  8  Training Accuracy :  0.9453872381880175  Cross val score :  0.9469684853750344\n",
      "Depth  :  9  Training Accuracy :  0.951680467608378  Cross val score :  0.9480423339651735\n",
      "Depth  :  10  Training Accuracy :  0.9622211397954213  Cross val score :  0.9538130891221724\n",
      "Depth  :  20  Training Accuracy :  0.9992985874330248  Cross val score :  0.9599177416718007\n",
      "Depth  :  40  Training Accuracy :  1.0  Cross val score :  0.9604134359432012\n",
      "Depth  :  60  Training Accuracy :  1.0  Cross val score :  0.959927558447989\n"
     ]
    }
   ],
   "source": [
    "for depth in [1,2,3,4,5,6,7,8,9,10,20,40,60]:\n",
    "    dt = DecisionTreeClassifier(max_depth=depth) #this will stop the tree when it reaches the max depth\n",
    "    \n",
    "    # fitting the model to training dataset\n",
    "    dt.fit(X_train, y_train)\n",
    "    # To find the Training accuracy\n",
    "    trainAccuracy = accuracy_score(y_train, dt.predict(X_train))\n",
    "    \n",
    "    #By setting the maximum depth for DTC\n",
    "    dt = DecisionTreeClassifier(max_depth=depth)\n",
    "    \n",
    "    #It evaluvate the classifier using K-Fold cross validation\n",
    "    #No of folds is 10\n",
    "    #the performance metric used for the model is F1 Score so 'Scoring' = 'f1'\n",
    "    valAccuracy = cross_val_score(dt, X_train, y_train, cv=10, scoring='f1')\n",
    "    \n",
    "    #setting the max depth for another DTC\n",
    "    dt = DecisionTreeClassifier(max_depth=depth)\n",
    "    #Training the model\n",
    "    dt.fit(X_train,y_train)\n",
    "    \n",
    "    #predicting the test dataset\n",
    "    y_pred = dt.predict(X_test)\n",
    "    \n",
    "    #Used to evaluvate the binary classification models\n",
    "    roc = roc_auc_score(y_test,y_pred)\n",
    "    \n",
    "    print(\"Depth  : \", depth, \" Training Accuracy : \", trainAccuracy, \" Cross val score : \" ,np.mean(valAccuracy))"
   ]
  },
  {
   "cell_type": "code",
   "execution_count": 70,
   "id": "591957f0",
   "metadata": {},
   "outputs": [
    {
     "name": "stdout",
     "output_type": "stream",
     "text": [
      "Training Accuracy : 1.0\n",
      "Testing Accuracy : 0.8556575600044243\n",
      "F1 Score : 0.5435466946484785\n",
      "ROC AUC Score : 0.7981892228015578\n"
     ]
    }
   ],
   "source": [
    "t = DecisionTreeClassifier(max_depth=40)\n",
    "t.fit(X_train,y_train)\n",
    "y_pred = t.predict(X_test)\n",
    "print(\"Training Accuracy :\",t.score(X_train,y_train))\n",
    "print(\"Testing Accuracy :\",t.score(X_test,y_test))\n",
    "print(\"F1 Score :\", f1_score(y_test,y_pred))\n",
    "print(\"ROC AUC Score :\", roc_auc_score(y_test,y_pred))"
   ]
  },
  {
   "cell_type": "code",
   "execution_count": 71,
   "id": "e226bb7e",
   "metadata": {},
   "outputs": [
    {
     "name": "stdout",
     "output_type": "stream",
     "text": [
      "1.0\n"
     ]
    }
   ],
   "source": [
    "# Training Accuracy for Decision Tree Classifier\n",
    "t = DecisionTreeClassifier(max_depth=40)\n",
    "t.fit(X_train,y_train)\n",
    "t.score(X_train,y_train)\n",
    "\n",
    "dt_train = t.score(X_train,y_train)\n",
    "print(dt_train)"
   ]
  },
  {
   "cell_type": "code",
   "execution_count": 72,
   "id": "b3975dad",
   "metadata": {},
   "outputs": [
    {
     "name": "stdout",
     "output_type": "stream",
     "text": [
      "0.8577590974449729\n"
     ]
    }
   ],
   "source": [
    "# Testing Accuracy for Decision Tree Classifier\n",
    "t = DecisionTreeClassifier(max_depth=40)\n",
    "t.fit(X_train,y_train)\n",
    "t.score(X_train,y_train)\n",
    "\n",
    "dt_test = t.score(X_test,y_test)\n",
    "print(dt_test)"
   ]
  },
  {
   "cell_type": "code",
   "execution_count": 73,
   "id": "a420f974",
   "metadata": {},
   "outputs": [
    {
     "name": "stdout",
     "output_type": "stream",
     "text": [
      "0.5439831104855736\n"
     ]
    }
   ],
   "source": [
    "# F1_Score for Decision Tree Classifier\n",
    "t = DecisionTreeClassifier(max_depth=40)\n",
    "t.fit(X_train,y_train)\n",
    "y_pred = t.predict(X_test)\n",
    "\n",
    "dt_f1 = f1_score(y_test,y_pred)\n",
    "print(dt_f1)"
   ]
  },
  {
   "cell_type": "code",
   "execution_count": 74,
   "id": "a6a8d1fa",
   "metadata": {},
   "outputs": [
    {
     "name": "stdout",
     "output_type": "stream",
     "text": [
      "0.7977981421039417\n"
     ]
    }
   ],
   "source": [
    "# ROC AUC score for Decision Tree Classifier\n",
    "t = DecisionTreeClassifier(max_depth=40)\n",
    "t.fit(X_train,y_train)\n",
    "y_pred = t.predict(X_test)\n",
    "\n",
    "dt_auroc = roc_auc_score(y_test, y_pred)\n",
    "print(dt_auroc)"
   ]
  },
  {
   "cell_type": "markdown",
   "id": "de4ebee7",
   "metadata": {},
   "source": [
    "# Feature Importance"
   ]
  },
  {
   "cell_type": "code",
   "execution_count": 75,
   "id": "8881a703",
   "metadata": {},
   "outputs": [
    {
     "data": {
      "text/plain": [
       "Index(['age', 'job', 'marital', 'education_qual', 'day', 'dur', 'num_calls',\n",
       "       'y', 'call_type_cellular', 'call_type_telephone', 'call_type_unknown',\n",
       "       'mon_apr', 'mon_aug', 'mon_dec', 'mon_feb', 'mon_jan', 'mon_jul',\n",
       "       'mon_jun', 'mon_mar', 'mon_may', 'mon_nov', 'mon_oct', 'mon_sep',\n",
       "       'prev_outcome_failure', 'prev_outcome_other', 'prev_outcome_success',\n",
       "       'prev_outcome_unknown'],\n",
       "      dtype='object')"
      ]
     },
     "execution_count": 75,
     "metadata": {},
     "output_type": "execute_result"
    }
   ],
   "source": [
    "data.columns"
   ]
  },
  {
   "cell_type": "code",
   "execution_count": 76,
   "id": "8cc0ca85",
   "metadata": {},
   "outputs": [
    {
     "name": "stdout",
     "output_type": "stream",
     "text": [
      "dur:                   0.4591105531831818\n",
      "prev_outcome_unknown:  0.11096668479907104\n",
      "prev_outcome_failure:  0.06875609048643107\n",
      "call_type_unknown:     0.06666179517264736\n",
      "age:                   0.04507715763303553\n",
      "day:                   0.044378517704308014\n",
      "prev_outcome_other:    0.03690906065330508\n",
      "mon_may:               0.026502516039759724\n",
      "mon_jul:               0.022206190469256225\n",
      "mon_nov:               0.01922372170776342\n",
      "mon_aug:               0.016941496777375553\n",
      "job:                   0.01560330574609093\n",
      "mon_feb:               0.012758915501598609\n",
      "mon_apr:               0.012162793502500328\n",
      "num_calls:             0.011395892118185631\n",
      "mon_jan:               0.010369088017806758\n",
      "marital:               0.0045047418760173485\n",
      "education_qual:        0.003674302355933371\n",
      "prev_outcome_success:  0.002967231127017563\n",
      "mon_oct:               0.002293750240970307\n",
      "mon_jun:               0.0018089968708496036\n",
      "mon_sep:               0.001470442400064656\n",
      "mon_mar:               0.0013349416038883663\n",
      "call_type_telephone:   0.001298904462973315\n",
      "call_type_cellular:    0.0011013522580194859\n",
      "mon_dec:               0.0005215572919488399\n"
     ]
    }
   ],
   "source": [
    "X_test = pd.DataFrame(X_test, columns = ['age', 'job', 'marital', 'education_qual', 'day', 'dur', 'num_calls',\n",
    "       'call_type_cellular', 'call_type_telephone', 'call_type_unknown',\n",
    "       'mon_apr', 'mon_aug', 'mon_dec', 'mon_feb', 'mon_jan', 'mon_jul',\n",
    "       'mon_jun', 'mon_mar', 'mon_may', 'mon_nov', 'mon_oct', 'mon_sep',\n",
    "       'prev_outcome_failure', 'prev_outcome_other', 'prev_outcome_success',\n",
    "       'prev_outcome_unknown'])\n",
    "\n",
    "# Creating instance of decision tree classifier with maximum depth\n",
    "dtc = DecisionTreeClassifier(max_depth=40)\n",
    "\n",
    "# Fitting the model with training data for prediction\n",
    "dtc.fit(X_train, y_train)\n",
    "\n",
    "# this retrieves the feature importance from the model\n",
    "importance = dtc.feature_importances_\n",
    "\n",
    "# this combines the feature names and its importance in a list of tuples\n",
    "feature_importances = list(zip(X_test.columns, importance))\n",
    "\n",
    "# This sorts the values in descending order (gets the second element of each tuple)\n",
    "feature_importances.sort(key=lambda x: x[1], reverse=True)\n",
    "\n",
    "# Finding the maximum length of feature names for consistent spacing\n",
    "max_length = max(len(feature) for feature, _ in feature_importances)\n",
    "\n",
    "# Printing the sorted feature importances with consistent spacing\n",
    "for feature, importance in feature_importances:\n",
    "    spacing = ' ' * (max_length - len(feature) + 1)\n",
    "    print(feature + ':' + spacing, importance)"
   ]
  },
  {
   "cell_type": "markdown",
   "id": "2afe9389",
   "metadata": {},
   "source": [
    "The Feature importance is \n",
    "\n",
    "1) Duration of the call\n",
    "\n",
    "2) Previous outcome unknown\n",
    "\n",
    "3) Call type unknown"
   ]
  },
  {
   "cell_type": "markdown",
   "id": "5db274fb",
   "metadata": {},
   "source": [
    "# (c) K-Nearest Neighbour "
   ]
  },
  {
   "cell_type": "code",
   "execution_count": 77,
   "id": "8c47382b",
   "metadata": {},
   "outputs": [
    {
     "name": "stdout",
     "output_type": "stream",
     "text": [
      "K value  :  1  Train score :  1.0  Cross val score :  0.9950254182407644\n",
      "K value  :  2  Train score :  0.9997467121285923  Cross val score :  0.9951831155877306\n",
      "K value  :  3  Train score :  0.9961032635168047  Cross val score :  0.9865612369027513\n",
      "K value  :  4  Train score :  0.9961032635168047  Cross val score :  0.9870878722830495\n",
      "K value  :  5  Train score :  0.988368241597662  Cross val score :  0.9754808130967243\n",
      "K value  :  6  Train score :  0.9890501704822211  Cross val score :  0.9773971588670418\n",
      "K value  :  7  Train score :  0.9784510472479299  Cross val score :  0.9675577128020109\n",
      "K value  :  8  Train score :  0.9802435460301997  Cross val score :  0.9694149709408377\n",
      "K value  :  9  Train score :  0.9697028738431563  Cross val score :  0.9605591150957931\n",
      "K value  :  10  Train score :  0.971709693132002  Cross val score :  0.9625433714291376\n",
      "K value  :  20  Train score :  0.9379249878226985  Cross val score :  0.9375069864231295\n",
      "K value  :  30  Train score :  0.919201169020945  Cross val score :  0.9234431764977336\n",
      "K value  :  40  Train score :  0.9056989771066731  Cross val score :  0.9124124763657113\n",
      "K value  :  50  Train score :  0.8938723818801754  Cross val score :  0.9046971535399135\n"
     ]
    }
   ],
   "source": [
    "for i in [1,2,3,4,5,6,7,8,9,10,20,30,40,50]:\n",
    "    knn= KNeighborsClassifier(i)\n",
    "    knn.fit(X_train, y_train)\n",
    "    print(\"K value  : \" , i, \" Train score : \", knn.score(X_train,y_train) , \" Cross val score : \", np.mean(cross_val_score(knn, X_train, y_train, cv=10, scoring='f1')))"
   ]
  },
  {
   "cell_type": "code",
   "execution_count": 78,
   "id": "d5f45e03",
   "metadata": {},
   "outputs": [
    {
     "name": "stdout",
     "output_type": "stream",
     "text": [
      "Training Accuracy : 0.9961032635168047\n",
      "Testing Accuracy : 0.71961066253733\n",
      "F1 Score : 0.37730287398673545\n",
      "ROC AUC Score : 0.7173649638872183\n"
     ]
    }
   ],
   "source": [
    "knn = KNeighborsClassifier(4)\n",
    "knn.fit(X_train,y_train)\n",
    "y_pred = knn.predict(X_test)\n",
    "print(\"Training Accuracy :\",knn.score(X_train,y_train))\n",
    "print(\"Testing Accuracy :\",knn.score(X_test,y_test))\n",
    "print(\"F1 Score :\", f1_score(y_test,y_pred))\n",
    "print(\"ROC AUC Score :\", roc_auc_score(y_test,y_pred))"
   ]
  },
  {
   "cell_type": "code",
   "execution_count": 79,
   "id": "a59abbdf",
   "metadata": {},
   "outputs": [
    {
     "name": "stdout",
     "output_type": "stream",
     "text": [
      "0.9961032635168047\n"
     ]
    }
   ],
   "source": [
    "# Training Accuracy for KNN classifier\n",
    "knn = KNeighborsClassifier(4)\n",
    "knn.fit(X_train,y_train)\n",
    "knn.score(X_train,y_train)\n",
    "\n",
    "knn_train = knn.score(X_train,y_train)\n",
    "print(knn_train)"
   ]
  },
  {
   "cell_type": "code",
   "execution_count": 80,
   "id": "d754e3c9",
   "metadata": {},
   "outputs": [
    {
     "name": "stdout",
     "output_type": "stream",
     "text": [
      "0.71961066253733\n"
     ]
    }
   ],
   "source": [
    "# Testing Accuracy for KNN classifier\n",
    "knn = KNeighborsClassifier(4)\n",
    "knn.fit(X_train,y_train)\n",
    "knn.score(X_train,y_train)\n",
    "\n",
    "knn_test = knn.score(X_test,y_test)\n",
    "print(knn_test)"
   ]
  },
  {
   "cell_type": "code",
   "execution_count": 81,
   "id": "5b365817",
   "metadata": {},
   "outputs": [
    {
     "name": "stdout",
     "output_type": "stream",
     "text": [
      "0.37730287398673545\n"
     ]
    }
   ],
   "source": [
    "# F1_Score for KNN classifier\n",
    "knn = KNeighborsClassifier(4)\n",
    "knn.fit(X_train,y_train)\n",
    "y_pred = knn.predict(X_test)\n",
    "\n",
    "knn_f1 = f1_score(y_test,y_pred)\n",
    "print(knn_f1)"
   ]
  },
  {
   "cell_type": "code",
   "execution_count": 82,
   "id": "706b526d",
   "metadata": {},
   "outputs": [
    {
     "name": "stdout",
     "output_type": "stream",
     "text": [
      "0.7173649638872183\n"
     ]
    }
   ],
   "source": [
    "# ROC AUC score for KNN classifier\n",
    "knn = KNeighborsClassifier(4)\n",
    "knn.fit(X_train,y_train)\n",
    "y_pred = knn.predict(X_test)\n",
    "\n",
    "knn_auroc = roc_auc_score(y_test, y_pred)\n",
    "print(knn_auroc)"
   ]
  },
  {
   "cell_type": "markdown",
   "id": "c2287ad6",
   "metadata": {},
   "source": [
    "# (d) XG-Boost"
   ]
  },
  {
   "cell_type": "code",
   "execution_count": 83,
   "id": "f1f50a8e",
   "metadata": {},
   "outputs": [
    {
     "name": "stdout",
     "output_type": "stream",
     "text": [
      "Learning rate :  0.01  Train score :  0.9411008280565026  Cross-Val score :  0.9439165455058592\n",
      "Learning rate :  0.02  Train score :  0.9505698977106674  Cross-Val score :  0.9529156202902584\n",
      "Learning rate :  0.03  Train score :  0.9574086702386752  Cross-Val score :  0.9578287659560338\n",
      "Learning rate :  0.04  Train score :  0.9660399415489528  Cross-Val score :  0.9639452879382187\n",
      "Learning rate :  0.05  Train score :  0.9695859717486605  Cross-Val score :  0.9663539262836693\n",
      "Learning rate :  0.06  Train score :  0.9719824646858256  Cross-Val score :  0.9677943824542995\n",
      "Learning rate :  0.07  Train score :  0.9735606429615197  Cross-Val score :  0.9685918085505556\n",
      "Learning rate :  0.08  Train score :  0.975021919142718  Cross-Val score :  0.9687995274574839\n",
      "Learning rate :  0.09  Train score :  0.975762299074525  Cross-Val score :  0.9693299717491147\n",
      "Learning rate :  0.1  Train score :  0.9765611300535801  Cross-Val score :  0.9690526011009766\n",
      "Learning rate :  0.11  Train score :  0.9773599610326351  Cross-Val score :  0.9695075677032458\n",
      "Learning rate :  0.12  Train score :  0.9781587920116902  Cross-Val score :  0.969487845898442\n",
      "Learning rate :  0.13  Train score :  0.9782562104237701  Cross-Val score :  0.9697125709521272\n",
      "Learning rate :  0.14  Train score :  0.9789965903555772  Cross-Val score :  0.9698474555898992\n",
      "Learning rate :  0.15  Train score :  0.9787238188017535  Cross-Val score :  0.9697838621430483\n",
      "Learning rate :  0.2  Train score :  0.9817632732586459  Cross-Val score :  0.9692249366247869\n",
      "Learning rate :  0.5  Train score :  0.9938236726741354  Cross-Val score :  0.9694599832610468\n",
      "Learning rate :  0.7  Train score :  0.997506088650755  Cross-Val score :  0.9695644057492867\n",
      "Learning rate :  1  Train score :  0.9996103263516805  Cross-Val score :  0.9692257568412112\n"
     ]
    }
   ],
   "source": [
    "for i in [0.01,0.02,0.03,0.04,0.05,0.06,0.07,0.08,0.09,0.1,0.11,0.12,0.13,0.14,0.15,0.2,0.5,0.7,1]:\n",
    "    model = xgb.XGBClassifier(learning_rate = i, n_estimators=100, verbosity = 0)\n",
    "    model.fit(X_train,y_train)\n",
    "    model.score(X_test, y_test)\n",
    "    \n",
    "    print(\"Learning rate : \", i, \" Train score : \", model.score(X_train,y_train), \" Cross-Val score : \", np.mean(cross_val_score(model, X_train, y_train, cv=10, scoring='f1')))"
   ]
  },
  {
   "cell_type": "code",
   "execution_count": 88,
   "id": "a83bb754",
   "metadata": {},
   "outputs": [
    {
     "name": "stdout",
     "output_type": "stream",
     "text": [
      "Training Accuracy : 0.997506088650755\n",
      "Testing Accuracy : 0.8691516425174206\n",
      "F1 Score : 0.5800496982605609\n",
      "ROC AUC Score : 0.821940748179764\n"
     ]
    }
   ],
   "source": [
    "xg = XGBClassifier(learning_rate = 0.7, n_estimators=100, verbosity = 0)\n",
    "xg.fit(X_train,y_train)\n",
    "y_pred = xg.predict(X_test)\n",
    "print(\"Training Accuracy :\",xg.score(X_train,y_train))\n",
    "print(\"Testing Accuracy :\",xg.score(X_test,y_test))\n",
    "print(\"F1 Score :\", f1_score(y_test,y_pred))\n",
    "print(\"ROC AUC Score :\", roc_auc_score(y_test,y_pred))"
   ]
  },
  {
   "cell_type": "code",
   "execution_count": 89,
   "id": "41d5bcce",
   "metadata": {},
   "outputs": [
    {
     "name": "stdout",
     "output_type": "stream",
     "text": [
      "0.9938236726741354\n"
     ]
    }
   ],
   "source": [
    "# Training Accuracy for XG-Boost classifier\n",
    "xg = XGBClassifier(learning_rate = 0.5, n_estimators=100, verbosity = 0)\n",
    "xg.fit(X_train,y_train)\n",
    "xg.score(X_train,y_train)\n",
    "\n",
    "xg_train = xg.score(X_train,y_train)\n",
    "print(xg_train)"
   ]
  },
  {
   "cell_type": "code",
   "execution_count": 90,
   "id": "3be8e376",
   "metadata": {},
   "outputs": [
    {
     "name": "stdout",
     "output_type": "stream",
     "text": [
      "0.8725804667625263\n"
     ]
    }
   ],
   "source": [
    "# Testing Accuracy for XG-Boost classifier\n",
    "xg = XGBClassifier(learning_rate = 0.5, n_estimators=100, verbosity = 0)\n",
    "xg.fit(X_train,y_train)\n",
    "xg.score(X_train,y_train)\n",
    "\n",
    "xg_test = xg.score(X_test,y_test)\n",
    "print(xg_test)"
   ]
  },
  {
   "cell_type": "code",
   "execution_count": 91,
   "id": "373261e8",
   "metadata": {},
   "outputs": [
    {
     "name": "stdout",
     "output_type": "stream",
     "text": [
      "0.5885714285714286\n"
     ]
    }
   ],
   "source": [
    "# F1_Score for XG-Boost classifier\n",
    "xg = XGBClassifier(learning_rate = 0.5, n_estimators=100, verbosity = 0)\n",
    "xg.fit(X_train,y_train)\n",
    "y_pred = xg.predict(X_test)\n",
    "\n",
    "xg_f1 = f1_score(y_test,y_pred)\n",
    "print(xg_f1)"
   ]
  },
  {
   "cell_type": "code",
   "execution_count": 92,
   "id": "384502e4",
   "metadata": {},
   "outputs": [
    {
     "name": "stdout",
     "output_type": "stream",
     "text": [
      "0.8267029643426421\n"
     ]
    }
   ],
   "source": [
    "# ROC AUC Score for XG-Boost classifier\n",
    "xg = XGBClassifier(learning_rate = 0.5, n_estimators=100, verbosity = 0)\n",
    "xg.fit(X_train,y_train)\n",
    "y_pred = xg.predict(X_test)\n",
    "\n",
    "xg_auroc = roc_auc_score(y_test, y_pred)\n",
    "print(xg_auroc)"
   ]
  },
  {
   "cell_type": "markdown",
   "id": "b4d4475e",
   "metadata": {},
   "source": [
    "# Feature Importance for XG-Boost"
   ]
  },
  {
   "cell_type": "code",
   "execution_count": 93,
   "id": "f0711f77",
   "metadata": {},
   "outputs": [
    {
     "data": {
      "text/plain": [
       "Index(['age', 'job', 'marital', 'education_qual', 'day', 'dur', 'num_calls',\n",
       "       'y', 'call_type_cellular', 'call_type_telephone', 'call_type_unknown',\n",
       "       'mon_apr', 'mon_aug', 'mon_dec', 'mon_feb', 'mon_jan', 'mon_jul',\n",
       "       'mon_jun', 'mon_mar', 'mon_may', 'mon_nov', 'mon_oct', 'mon_sep',\n",
       "       'prev_outcome_failure', 'prev_outcome_other', 'prev_outcome_success',\n",
       "       'prev_outcome_unknown'],\n",
       "      dtype='object')"
      ]
     },
     "execution_count": 93,
     "metadata": {},
     "output_type": "execute_result"
    }
   ],
   "source": [
    "data.columns"
   ]
  },
  {
   "cell_type": "code",
   "execution_count": 94,
   "id": "2be712b7",
   "metadata": {},
   "outputs": [
    {
     "name": "stdout",
     "output_type": "stream",
     "text": [
      "call_type_unknown:     0.14137423\n",
      "prev_outcome_unknown:  0.12360942\n",
      "prev_outcome_failure:  0.12221535\n",
      "prev_outcome_other:    0.11292556\n",
      "mon_may:               0.070058145\n",
      "mon_jul:               0.06673701\n",
      "mon_nov:               0.06478967\n",
      "mon_aug:               0.050140053\n",
      "mon_jan:               0.04268483\n",
      "dur:                   0.041750684\n",
      "mon_apr:               0.025702216\n",
      "mon_feb:               0.024768975\n",
      "mon_jun:               0.015305259\n",
      "prev_outcome_success:  0.014406787\n",
      "call_type_telephone:   0.0112003125\n",
      "mon_oct:               0.010819491\n",
      "mon_dec:               0.009465804\n",
      "mon_sep:               0.008678579\n",
      "num_calls:             0.00797047\n",
      "mon_mar:               0.007247845\n",
      "job:                   0.0063394476\n",
      "call_type_cellular:    0.0057070483\n",
      "day:                   0.00562607\n",
      "age:                   0.005066968\n",
      "marital:               0.0029480914\n",
      "education_qual:        0.0024616357\n"
     ]
    }
   ],
   "source": [
    "X_test = pd.DataFrame(X_test, columns = ['age', 'job', 'marital', 'education_qual', 'day', 'dur', 'num_calls',\n",
    "       'call_type_cellular', 'call_type_telephone', 'call_type_unknown',\n",
    "       'mon_apr', 'mon_aug', 'mon_dec', 'mon_feb', 'mon_jan', 'mon_jul',\n",
    "       'mon_jun', 'mon_mar', 'mon_may', 'mon_nov', 'mon_oct', 'mon_sep',\n",
    "       'prev_outcome_failure', 'prev_outcome_other', 'prev_outcome_success',\n",
    "       'prev_outcome_unknown'])\n",
    "\n",
    "# Creating instance of decision tree classifier with maximum depth\n",
    "xgboost_model = xgb.XGBClassifier(learning_rate = 0.5)\n",
    "\n",
    "# Fitting the model with training data for prediction\n",
    "xgboost_model.fit(X_train, y_train)\n",
    "\n",
    "# this retrieves the feature importance from the model\n",
    "importance = xgboost_model.feature_importances_\n",
    "\n",
    "# this combines the feature names and its importance in a list of tuples\n",
    "feature_importances = list(zip(X_test.columns, importance))\n",
    "\n",
    "# This sorts the values in descending order (gets the second element of each tuple)\n",
    "feature_importances.sort(key=lambda x: x[1], reverse=True)\n",
    "\n",
    "# Finding the maximum length of feature names for consistent spacing\n",
    "max_length = max(len(feature) for feature, _ in feature_importances)\n",
    "\n",
    "# Printing the sorted feature importances with consistent spacing\n",
    "for feature, importance in feature_importances:\n",
    "    spacing = ' ' * (max_length - len(feature) + 1)\n",
    "    print(feature + ':' + spacing, importance)"
   ]
  },
  {
   "cell_type": "markdown",
   "id": "821905f2",
   "metadata": {},
   "source": [
    "The feature importance is:\n",
    "\n",
    "1) call_type Unknown\n",
    "\n",
    "2) Prev_outcome_unknown\n",
    "\n",
    "3) Prev_outcome_failure"
   ]
  },
  {
   "cell_type": "markdown",
   "id": "ca56e01f",
   "metadata": {},
   "source": [
    "# (e) Random Forest"
   ]
  },
  {
   "cell_type": "code",
   "execution_count": 95,
   "id": "2a9f0b2b",
   "metadata": {},
   "outputs": [],
   "source": [
    "random = RandomForestClassifier(max_depth=2,n_estimators=100,max_features=\"sqrt\")\n",
    "random.fit(X_train, y_train)\n",
    "y_pred= random.predict(X_test)"
   ]
  },
  {
   "cell_type": "code",
   "execution_count": 96,
   "id": "d2b6e366",
   "metadata": {},
   "outputs": [
    {
     "name": "stdout",
     "output_type": "stream",
     "text": [
      "Depth  :  1  Training Accuracy :  1.0  Cross val score :  0.8920396559575838\n",
      "Depth  :  2  Training Accuracy :  1.0  Cross val score :  0.8935397156339558\n",
      "Depth  :  3  Training Accuracy :  1.0  Cross val score :  0.8888429564594258\n",
      "Depth  :  4  Training Accuracy :  1.0  Cross val score :  0.8925105540275086\n",
      "Depth  :  5  Training Accuracy :  1.0  Cross val score :  0.8961118480771321\n",
      "Depth  :  6  Training Accuracy :  1.0  Cross val score :  0.8904643620899977\n",
      "Depth  :  7  Training Accuracy :  1.0  Cross val score :  0.8871937599634929\n",
      "Depth  :  8  Training Accuracy :  1.0  Cross val score :  0.8863092035868881\n",
      "Depth  :  9  Training Accuracy :  1.0  Cross val score :  0.892749798431575\n",
      "Depth  :  10  Training Accuracy :  1.0  Cross val score :  0.8859489386480973\n"
     ]
    }
   ],
   "source": [
    "for depth in [1,2,3,4,5,6,7,8,9,10]:\n",
    "    random = RandomForestClassifier(max_depth=2,n_estimators=100,max_features=\"sqrt\")\n",
    "    random.fit(X_train, y_train)\n",
    "    random = RandomForestClassifier(max_depth=2,n_estimators=100,max_features=\"sqrt\")\n",
    "    valAccuracy = cross_val_score(random, X_train, y_train, cv=10, scoring='f1')\n",
    "    \n",
    "    print(\"Depth  : \", depth, \" Training Accuracy : \", trainAccuracy, \" Cross val score : \" ,np.mean(valAccuracy))"
   ]
  },
  {
   "cell_type": "code",
   "execution_count": 97,
   "id": "176281d0",
   "metadata": {},
   "outputs": [
    {
     "name": "stdout",
     "output_type": "stream",
     "text": [
      "Training Accuracy : 0.9635460301997077\n",
      "Testing Accuracy : 0.8348634000663644\n",
      "F1 Score : 0.5523238380809595\n",
      "ROC AUC Score : 0.8443274030910438\n"
     ]
    }
   ],
   "source": [
    "random = RandomForestClassifier(n_estimators= 100, max_depth = 10, max_features='sqrt')\n",
    "random.fit(X_train, y_train)\n",
    "predictions = random.predict(X_test)\n",
    "print(\"Training Accuracy :\",random.score(X_train,y_train))\n",
    "print(\"Testing Accuracy :\",random.score(X_test,y_test))\n",
    "print(\"F1 Score :\", f1_score(y_test,predictions))\n",
    "print(\"ROC AUC Score :\", roc_auc_score(y_test,predictions))\n"
   ]
  },
  {
   "cell_type": "code",
   "execution_count": 98,
   "id": "f3b6fcee",
   "metadata": {},
   "outputs": [
    {
     "name": "stdout",
     "output_type": "stream",
     "text": [
      "0.9643838285435947\n"
     ]
    }
   ],
   "source": [
    "# Training Accuracy for Random Forest classifier\n",
    "random = RandomForestClassifier(n_estimators= 100, max_depth = 10, max_features='sqrt')\n",
    "random.fit(X_train, y_train)\n",
    "random.score(X_train,y_train)\n",
    "\n",
    "random_train = random.score(X_train,y_train)\n",
    "print(random_train)"
   ]
  },
  {
   "cell_type": "code",
   "execution_count": 99,
   "id": "1a9f3de9",
   "metadata": {},
   "outputs": [
    {
     "name": "stdout",
     "output_type": "stream",
     "text": [
      "0.8364119013383475\n"
     ]
    }
   ],
   "source": [
    "# Testing Accuracy for Random Forest classifier\n",
    "random = RandomForestClassifier(n_estimators= 100, max_depth = 10, max_features='sqrt')\n",
    "random.fit(X_train, y_train)\n",
    "random.score(X_train,y_train)\n",
    "\n",
    "random_test = random.score(X_test,y_test)\n",
    "print(random_test)"
   ]
  },
  {
   "cell_type": "code",
   "execution_count": 100,
   "id": "af0c1512",
   "metadata": {},
   "outputs": [
    {
     "name": "stdout",
     "output_type": "stream",
     "text": [
      "0.5611685940353012\n"
     ]
    }
   ],
   "source": [
    "# F1_Score for Random Forest classifier\n",
    "random = RandomForestClassifier(n_estimators= 100, max_depth = 10, max_features='sqrt')\n",
    "random.fit(X_train, y_train)\n",
    "predictions = random.predict(X_test)\n",
    "\n",
    "random_f1 = f1_score(y_test,predictions)\n",
    "print(random_f1)"
   ]
  },
  {
   "cell_type": "code",
   "execution_count": 101,
   "id": "c93ff2b0",
   "metadata": {},
   "outputs": [
    {
     "name": "stdout",
     "output_type": "stream",
     "text": [
      "0.8445929502712108\n"
     ]
    }
   ],
   "source": [
    "# ROC AUC score for Random Forest classifier\n",
    "random = RandomForestClassifier(n_estimators= 100, max_depth = 10, max_features='sqrt')\n",
    "random.fit(X_train, y_train)\n",
    "predictions = random.predict(X_test)\n",
    "\n",
    "random_auroc = roc_auc_score(y_test,predictions)\n",
    "print(random_auroc)"
   ]
  },
  {
   "cell_type": "code",
   "execution_count": 102,
   "id": "fd94c5b9",
   "metadata": {},
   "outputs": [
    {
     "data": {
      "text/plain": [
       "Index(['age', 'job', 'marital', 'education_qual', 'day', 'dur', 'num_calls',\n",
       "       'y', 'call_type_cellular', 'call_type_telephone', 'call_type_unknown',\n",
       "       'mon_apr', 'mon_aug', 'mon_dec', 'mon_feb', 'mon_jan', 'mon_jul',\n",
       "       'mon_jun', 'mon_mar', 'mon_may', 'mon_nov', 'mon_oct', 'mon_sep',\n",
       "       'prev_outcome_failure', 'prev_outcome_other', 'prev_outcome_success',\n",
       "       'prev_outcome_unknown'],\n",
       "      dtype='object')"
      ]
     },
     "execution_count": 102,
     "metadata": {},
     "output_type": "execute_result"
    }
   ],
   "source": [
    "data.columns"
   ]
  },
  {
   "cell_type": "markdown",
   "id": "22518dce",
   "metadata": {},
   "source": [
    "# CONCLUSION"
   ]
  },
  {
   "cell_type": "code",
   "execution_count": 103,
   "id": "05869aef",
   "metadata": {},
   "outputs": [],
   "source": [
    "# Creating a dataframe to analyse the best value of F1_Score\n",
    "models = {'Model_Classifier':['Logistic Regression','Decision Tree','K-Nearest Neighbour','XG-Boost','Random Forest'],\n",
    "          'Train_Accuracy':[lr_Train,dt_train,knn_train,xg_train,random_train],\n",
    "          'Test_Accuracy': [lr_Test,dt_test,knn_test,xg_test,random_test],\n",
    "          'roc_auc_score': [lr_auroc,dt_auroc,knn_auroc,xg_auroc,random_auroc],\n",
    "          'F1_Score':      [lr_f1,dt_f1,knn_f1,xg_f1,random_f1]}"
   ]
  },
  {
   "cell_type": "code",
   "execution_count": 104,
   "id": "28c0dd43",
   "metadata": {},
   "outputs": [
    {
     "data": {
      "text/html": [
       "<style type=\"text/css\">\n",
       "#T_5a91e th {\n",
       "  text-align: center;\n",
       "}\n",
       "#T_5a91e_row0_col0, #T_5a91e_row0_col1, #T_5a91e_row0_col2, #T_5a91e_row0_col3, #T_5a91e_row0_col4, #T_5a91e_row1_col0, #T_5a91e_row1_col1, #T_5a91e_row1_col2, #T_5a91e_row1_col3, #T_5a91e_row1_col4, #T_5a91e_row2_col0, #T_5a91e_row2_col1, #T_5a91e_row2_col2, #T_5a91e_row2_col3, #T_5a91e_row2_col4, #T_5a91e_row3_col0, #T_5a91e_row3_col1, #T_5a91e_row3_col2, #T_5a91e_row3_col3, #T_5a91e_row3_col4, #T_5a91e_row4_col0, #T_5a91e_row4_col1, #T_5a91e_row4_col2, #T_5a91e_row4_col3, #T_5a91e_row4_col4 {\n",
       "  text-align: center;\n",
       "  white-space: pre;\n",
       "}\n",
       "</style>\n",
       "<table id=\"T_5a91e\">\n",
       "  <thead>\n",
       "    <tr>\n",
       "      <th class=\"blank level0\" >&nbsp;</th>\n",
       "      <th id=\"T_5a91e_level0_col0\" class=\"col_heading level0 col0\" >Model_Classifier</th>\n",
       "      <th id=\"T_5a91e_level0_col1\" class=\"col_heading level0 col1\" >Train_Accuracy</th>\n",
       "      <th id=\"T_5a91e_level0_col2\" class=\"col_heading level0 col2\" >Test_Accuracy</th>\n",
       "      <th id=\"T_5a91e_level0_col3\" class=\"col_heading level0 col3\" >roc_auc_score</th>\n",
       "      <th id=\"T_5a91e_level0_col4\" class=\"col_heading level0 col4\" >F1_Score</th>\n",
       "    </tr>\n",
       "  </thead>\n",
       "  <tbody>\n",
       "    <tr>\n",
       "      <th id=\"T_5a91e_level0_row0\" class=\"row_heading level0 row0\" >0</th>\n",
       "      <td id=\"T_5a91e_row0_col0\" class=\"data row0 col0\" >Logistic Regression</td>\n",
       "      <td id=\"T_5a91e_row0_col1\" class=\"data row0 col1\" >0.917448</td>\n",
       "      <td id=\"T_5a91e_row0_col2\" class=\"data row0 col2\" >0.798584</td>\n",
       "      <td id=\"T_5a91e_row0_col3\" class=\"data row0 col3\" >0.804427</td>\n",
       "      <td id=\"T_5a91e_row0_col4\" class=\"data row0 col4\" >0.489487</td>\n",
       "    </tr>\n",
       "    <tr>\n",
       "      <th id=\"T_5a91e_level0_row1\" class=\"row_heading level0 row1\" >1</th>\n",
       "      <td id=\"T_5a91e_row1_col0\" class=\"data row1 col0\" >Decision Tree</td>\n",
       "      <td id=\"T_5a91e_row1_col1\" class=\"data row1 col1\" >1.000000</td>\n",
       "      <td id=\"T_5a91e_row1_col2\" class=\"data row1 col2\" >0.857759</td>\n",
       "      <td id=\"T_5a91e_row1_col3\" class=\"data row1 col3\" >0.797798</td>\n",
       "      <td id=\"T_5a91e_row1_col4\" class=\"data row1 col4\" >0.543983</td>\n",
       "    </tr>\n",
       "    <tr>\n",
       "      <th id=\"T_5a91e_level0_row2\" class=\"row_heading level0 row2\" >2</th>\n",
       "      <td id=\"T_5a91e_row2_col0\" class=\"data row2 col0\" >K-Nearest Neighbour</td>\n",
       "      <td id=\"T_5a91e_row2_col1\" class=\"data row2 col1\" >0.996103</td>\n",
       "      <td id=\"T_5a91e_row2_col2\" class=\"data row2 col2\" >0.719611</td>\n",
       "      <td id=\"T_5a91e_row2_col3\" class=\"data row2 col3\" >0.717365</td>\n",
       "      <td id=\"T_5a91e_row2_col4\" class=\"data row2 col4\" >0.377303</td>\n",
       "    </tr>\n",
       "    <tr>\n",
       "      <th id=\"T_5a91e_level0_row3\" class=\"row_heading level0 row3\" >3</th>\n",
       "      <td id=\"T_5a91e_row3_col0\" class=\"data row3 col0\" >XG-Boost</td>\n",
       "      <td id=\"T_5a91e_row3_col1\" class=\"data row3 col1\" >0.993824</td>\n",
       "      <td id=\"T_5a91e_row3_col2\" class=\"data row3 col2\" >0.872580</td>\n",
       "      <td id=\"T_5a91e_row3_col3\" class=\"data row3 col3\" >0.826703</td>\n",
       "      <td id=\"T_5a91e_row3_col4\" class=\"data row3 col4\" >0.588571</td>\n",
       "    </tr>\n",
       "    <tr>\n",
       "      <th id=\"T_5a91e_level0_row4\" class=\"row_heading level0 row4\" >4</th>\n",
       "      <td id=\"T_5a91e_row4_col0\" class=\"data row4 col0\" >Random Forest</td>\n",
       "      <td id=\"T_5a91e_row4_col1\" class=\"data row4 col1\" >0.964384</td>\n",
       "      <td id=\"T_5a91e_row4_col2\" class=\"data row4 col2\" >0.836412</td>\n",
       "      <td id=\"T_5a91e_row4_col3\" class=\"data row4 col3\" >0.844593</td>\n",
       "      <td id=\"T_5a91e_row4_col4\" class=\"data row4 col4\" >0.561169</td>\n",
       "    </tr>\n",
       "  </tbody>\n",
       "</table>\n"
      ],
      "text/plain": [
       "<pandas.io.formats.style.Styler at 0x2034f44afe0>"
      ]
     },
     "metadata": {},
     "output_type": "display_data"
    }
   ],
   "source": [
    "# Assuming `models` is a list of models\n",
    "mdf = pd.DataFrame(models)\n",
    "\n",
    "# Applying alignment using the `style` attribute\n",
    "mdf_styled = mdf.style.set_properties(**{'text-align': 'center', 'white-space': 'pre'}).set_table_styles([{'selector': 'th', 'props': [('text-align', 'center')]}])\n",
    "\n",
    "# Displaying the styled dataframe\n",
    "display(mdf_styled)"
   ]
  },
  {
   "cell_type": "markdown",
   "id": "27ab9cf0",
   "metadata": {},
   "source": [
    "After building the Model, the important features for Customer Conversion Predictions for an insurance company are :\n",
    "\n",
    "prev_outcome_unknown : the customers failed to share the details of unknown plays ideal role to subscribe for an insurance.\n",
    "\n",
    "prev_outcome_failure : The prev_outcome failed and that is a important role to subscribe for an insurance.\n",
    "\n",
    "Duration of call : The amount of time spent with the customer during the call, may have major impact in the conversion.\n",
    "\n",
    "Hence, XG-Boost classifier gives the highest value for F1_Score"
   ]
  },
  {
   "cell_type": "code",
   "execution_count": 105,
   "id": "1c928827",
   "metadata": {},
   "outputs": [],
   "source": [
    "# Pickling the model with best values\n",
    "import pickle\n",
    "pickle_out = open(\"CCP.pkl\",\"wb\")\n",
    "pickle.dump(xg, pickle_out)\n",
    "pickle_out.close()"
   ]
  },
  {
   "cell_type": "markdown",
   "id": "68b6936c",
   "metadata": {},
   "source": [
    "# Deployment in Streamlit"
   ]
  },
  {
   "cell_type": "code",
   "execution_count": 106,
   "id": "c169e848",
   "metadata": {},
   "outputs": [
    {
     "name": "stderr",
     "output_type": "stream",
     "text": [
      "UsageError: Line magic function `%%writefile` not found.\n"
     ]
    }
   ],
   "source": [
    "# Streamlit deployment code\n",
    "%%writefile app.py\n",
    "\n",
    "# Importing necessary files\n",
    "import pickle\n",
    "import streamlit as st\n",
    "from PIL import Image\n",
    "import pandas as pd\n",
    "\n",
    "# Reading the cleaned and preprocessed data\n",
    "data=pd.read_csv(\"Streamlit_data.csv\")\n",
    "\n",
    "# Reading the pickled data\n",
    "pickle_in = open(\"CCP.pkl\",\"rb\")\n",
    "CCP=pickle.load(pickle_in)\n",
    "\n",
    "def main():\n",
    "    # Create a page dropdown\n",
    "    image = Image.open('health-insurance.jpg') #adding an image\n",
    "    st.sidebar.image(image,width=100)\n",
    "    st.sidebar.title(\"Insurance Prediction\") #Title\n",
    "    \n",
    "    st.title(\"Insurance prediction\")   \n",
    "    \n",
    "    st.image(image,  width=150)\n",
    "    \n",
    "    page = st.sidebar.selectbox(\"Select One\", [\"PREDICTION\",'ABOUT'])\n",
    "    if page == \"ABOUT\":\n",
    "        st.title('Welcome to Insurance Prediction')\n",
    "        st.write('Creator Profile:')\n",
    "        st.write('**Creators:** Clinton')\n",
    "        \n",
    "    if page == \"PREDICTION\":\n",
    "        st.title('PREDICTION')\n",
    "        age = st.slider(\"select the Age of the person\",int(data.age.min()),int(data.age.max()))\n",
    "        job = st.selectbox(\"Select the Occupation \",data.job.unique())\n",
    "        if job == 'blue-collar':\n",
    "            grouped=data[data['job']=='blue-collar']\n",
    "            job = 0\n",
    "        elif job == 'entrepreneur':\n",
    "            grouped=data[data['job']=='entrepreneur']\n",
    "            job = 1\n",
    "        elif job == 'housemaid':\n",
    "            grouped=data[data['job']=='housemaid']\n",
    "            job = 2\n",
    "        elif job == 'services':\n",
    "            grouped=data[data['job']=='services']\n",
    "            job = 3\n",
    "        elif job == 'technician':\n",
    "            grouped=data[data['job']=='technician']\n",
    "            job = 4\n",
    "        elif job == 'self-employed':\n",
    "            grouped=data[data['job']=='self-employed']\n",
    "            job = 5\n",
    "        elif job == 'admin.':\n",
    "            grouped=data[data['job']=='admin.']\n",
    "            job= 6\n",
    "        elif job == 'management':\n",
    "            grouped=data[data['job']=='management']\n",
    "            job= 7\n",
    "        elif job == 'unemployed':\n",
    "            grouped=data[data['job']=='unemployed']\n",
    "            job= 8\n",
    "        elif job == 'retired':\n",
    "            grouped=data[data['job']=='retired']\n",
    "            job= 9\n",
    "        elif job == 'student':\n",
    "            grouped=data[data['job']=='student']\n",
    "            job=10\n",
    "            \n",
    "        education_qual = st.selectbox(\"Select the Education qualification \",data.education_qual.unique())\n",
    "        if education_qual == 'primary':\n",
    "            grouped=data[data['education_qual']=='primary']\n",
    "            education_qual = 0\n",
    "        elif education_qual == 'secondary':\n",
    "            grouped=data[data['education_qual']=='secondary']\n",
    "            education_qual=1\n",
    "        elif education_qual == 'tertiary':\n",
    "            grouped=data[data['education_qual']=='tertiary']\n",
    "            education_qual=2\n",
    "            \n",
    "        marital = st.selectbox(\"Select the Marital status \",data.marital.unique())\n",
    "        if marital == 'married':\n",
    "            grouped=data[data['marital']=='married']\n",
    "            marital = 0\n",
    "        elif marital == 'divorced':\n",
    "            grouped=data[data['marital']=='divorced']\n",
    "            marital=1\n",
    "        elif marital == 'single':\n",
    "            grouped=data[data['marital']=='single']\n",
    "            marital=2\n",
    "            \n",
    "        day = st.slider(\"select the day \",int(data.day.min()),int(data.day.max()))\n",
    "        st.write('**From 0 to 11 is Jan to Dec**')\n",
    "        mon = st.slider(\"select the Month \",0,11)\n",
    "        dur = st.slider(\"select the Call duration \",int(data.dur.min()),int(data.dur.max()))\n",
    "        num_calls = st.slider(\"select the Number of calls made to customer \",int(data.num_calls.min()),int(data.num_calls.max()))\n",
    "        \n",
    "        call_type = st.selectbox(\"Select the Call type \",data.call_type.unique())\n",
    "        if call_type == 'cellular':\n",
    "            call_type_cellular = 1\n",
    "        else:\n",
    "            call_type_cellular = 0\n",
    "            \n",
    "        if call_type == 'telephone':\n",
    "            call_type_telephone = 1\n",
    "        else:\n",
    "            call_type_telephone = 0\n",
    "        \n",
    "        if call_type == 'unknown':\n",
    "            call_type_unknown = 1\n",
    "        else:\n",
    "            call_type_unknown = 0\n",
    "            \n",
    "        prev_outcome = st.selectbox(\"Select the Previous Outcome \",data.prev_outcome.unique())\n",
    "        if prev_outcome == 'failure':\n",
    "            prev_outcome_failure=1\n",
    "        else:\n",
    "            prev_outcome_failure=0\n",
    "\n",
    "        if prev_outcome == 'other':\n",
    "            prev_outcome_other=1\n",
    "        else:\n",
    "            prev_outcome_other=0\n",
    "        \n",
    "        if prev_outcome == 'success':\n",
    "            prev_outcome_success=1\n",
    "        else:\n",
    "            prev_outcome_success=0\n",
    "\n",
    "        if prev_outcome == 'unknown':\n",
    "            prev_outcome_unknown=1\n",
    "        else:\n",
    "            prev_outcome_unknown=0\n",
    "            \n",
    "        input = pd.DataFrame([['age', 'job', 'marital', 'education_qual', 'day', 'dur', 'num_calls',\n",
    "                               'y', 'call_type_cellular', 'call_type_telephone', 'call_type_unknown',\n",
    "                               'mon_apr', 'mon_aug', 'mon_dec', 'mon_feb', 'mon_jan', 'mon_jul',\n",
    "                               'mon_jun', 'mon_mar', 'mon_may', 'mon_nov', 'mon_oct', 'mon_sep',\n",
    "                               'prev_outcome_failure', 'prev_outcome_other', 'prev_outcome_success',\n",
    "                               'prev_outcome_unknown']])\n",
    "        \n",
    "        if st.button(\"Predict\"):\n",
    "            valu = CCP.predict(input)\n",
    "            if valu==0:\n",
    "                st.write('DECLINED')\n",
    "            else:\n",
    "                st.write('ACCEPTED')\n",
    "                st.snow()\n",
    "\n",
    "        if st.button(\"About\"):\n",
    "            st.text(\"Lets Learn\")\n",
    "            st.text(\"Built with Streamlit\")\n",
    "\n",
    "if __name__=='__main__':\n",
    "    main()"
   ]
  }
 ],
 "metadata": {
  "kernelspec": {
   "display_name": "Python 3 (ipykernel)",
   "language": "python",
   "name": "python3"
  },
  "language_info": {
   "codemirror_mode": {
    "name": "ipython",
    "version": 3
   },
   "file_extension": ".py",
   "mimetype": "text/x-python",
   "name": "python",
   "nbconvert_exporter": "python",
   "pygments_lexer": "ipython3",
   "version": "3.10.9"
  }
 },
 "nbformat": 4,
 "nbformat_minor": 5
}
